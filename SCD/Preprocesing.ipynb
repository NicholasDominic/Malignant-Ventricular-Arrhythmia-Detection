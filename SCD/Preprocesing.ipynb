{
  "nbformat": 4,
  "nbformat_minor": 0,
  "metadata": {
    "colab": {
      "provenance": [],
      "toc_visible": true
    },
    "kernelspec": {
      "name": "python3",
      "display_name": "Python 3"
    }
  },
  "cells": [
    {
      "cell_type": "markdown",
      "metadata": {
        "id": "b0GX8prPNU6k"
      },
      "source": [
        "# Library"
      ]
    },
    {
      "cell_type": "markdown",
      "metadata": {
        "id": "Yq8mrtuRnoQU"
      },
      "source": [
        "## Google Drive"
      ]
    },
    {
      "cell_type": "code",
      "metadata": {
        "id": "xtxArlR_uAsX"
      },
      "source": [
        "from google.colab import drive\n",
        "drive.mount('/content/drive')"
      ],
      "execution_count": null,
      "outputs": []
    },
    {
      "cell_type": "markdown",
      "metadata": {
        "id": "FbwT3dTDS48u"
      },
      "source": [
        "## Data"
      ]
    },
    {
      "cell_type": "code",
      "metadata": {
        "id": "n5LPBefYTD8N"
      },
      "source": [
        "import numpy as np\n",
        "import pandas as pd"
      ],
      "execution_count": null,
      "outputs": []
    },
    {
      "cell_type": "code",
      "metadata": {
        "id": "YMwuYMmZ4eZP"
      },
      "source": [
        "import re"
      ],
      "execution_count": null,
      "outputs": []
    },
    {
      "cell_type": "code",
      "metadata": {
        "id": "Rga0o81oJdc6"
      },
      "source": [
        "import matplotlib.pyplot as plt\n",
        "%matplotlib inline\n",
        "\n",
        "import seaborn as sns\n",
        "sns.set()\n",
        "\n",
        "!pip install mpld3\n",
        "import mpld3\n",
        "mpld3.enable_notebook()"
      ],
      "execution_count": null,
      "outputs": []
    },
    {
      "cell_type": "markdown",
      "metadata": {
        "id": "Y32z4K62Vnge"
      },
      "source": [
        "## Signal Processing"
      ]
    },
    {
      "cell_type": "code",
      "metadata": {
        "id": "kf_dv-fOK3qg"
      },
      "source": [
        "!pip install wfdb\n",
        "import wfdb\n",
        "from wfdb import processing"
      ],
      "execution_count": null,
      "outputs": []
    },
    {
      "cell_type": "code",
      "metadata": {
        "id": "5qtFRiVvLryW"
      },
      "source": [
        "from scipy.fftpack import fft #Fast Fourier Transform"
      ],
      "execution_count": null,
      "outputs": []
    },
    {
      "cell_type": "code",
      "metadata": {
        "id": "rr1N9d6eIifR"
      },
      "source": [
        "# Peak Detection\n",
        "!pip install biosppy\n",
        "from biosppy import storage\n",
        "from biosppy.signals import ecg"
      ],
      "execution_count": null,
      "outputs": []
    },
    {
      "cell_type": "code",
      "metadata": {
        "id": "4HFadktbVsZe"
      },
      "source": [
        "# Filtering\n",
        "!pip install heartpy\n",
        "import heartpy as hp"
      ],
      "execution_count": null,
      "outputs": []
    },
    {
      "cell_type": "markdown",
      "metadata": {
        "id": "pR0IbN8vDj6c"
      },
      "source": [
        "# Data Collection"
      ]
    },
    {
      "cell_type": "markdown",
      "metadata": {
        "id": "HxEnHEtondi_"
      },
      "source": [
        "## Partition"
      ]
    },
    {
      "cell_type": "markdown",
      "metadata": {
        "id": "TkNnCJBxhfux"
      },
      "source": [
        "### Positive Dataset"
      ]
    },
    {
      "cell_type": "code",
      "metadata": {
        "id": "77Tpar07obmN"
      },
      "source": [
        "def get_label(annotation):\n",
        "  p = re.compile(\"([A-Za-z]+)\")\n",
        "  result = p.search(annotation)\n",
        "  return result[1]"
      ],
      "execution_count": null,
      "outputs": []
    },
    {
      "cell_type": "code",
      "metadata": {
        "id": "6y2h7_Jko-ll"
      },
      "source": [
        "def get_record_start_partitions(record, physiobank_directory, minimum_duration, frequency_sampling, resampling = 0):\n",
        "  start_sample = minimum_duration * 60 * frequency_sampling\n",
        "  original_annotation = wfdb.rdann(record, 'atr', pb_dir=physiobank_directory, sampfrom=start_sample)\n",
        "  original_signals, original_fields = wfdb.rdsamp(record, pb_dir=physiobank_directory, sampfrom=start_sample)\n",
        "  if resampling != 0:\n",
        "    start_sample = minimum_duration * 60 * resampling\n",
        "    signals, annotation = processing.resample_multichan(original_signals, original_annotation, frequency_sampling, resampling)\n",
        "  events = ['VT','VF','VFL']\n",
        "  results = []\n",
        "  for ann, sample in zip(annotation.aux_note, annotation.sample):\n",
        "    if sample >= start_sample:\n",
        "      label = get_label(ann)\n",
        "      if label in events:\n",
        "        print(\"{} | {}\".format(sample, label))\n",
        "        results.append(sample-start_sample) # n sample before events\n",
        "  return results"
      ],
      "execution_count": null,
      "outputs": []
    },
    {
      "cell_type": "code",
      "metadata": {
        "id": "9DfIhR8VXt3i"
      },
      "source": [
        "# MIT-BIH Malignant Ventricular Ectopy Database\n",
        "physiobank_directory = 'vfdb/'\n",
        "records = ['418','419','420','421','422','423','424','425','426','427','428','429','430','602','605','607','609','610','611','612','614','615']"
      ],
      "execution_count": null,
      "outputs": []
    },
    {
      "cell_type": "code",
      "metadata": {
        "id": "lMAt7WlGnju8"
      },
      "source": [
        "records_start_partitions = {}\n",
        "total_partition = 0\n",
        "for record in records:\n",
        "  record_start_partitions = get_record_start_partitions(record, physiobank_directory, minimum_duration = 10, frequency_sampling = 250, resampling = 128)\n",
        "  total_partition += len(record_start_partitions)\n",
        "  print(\"Record {} -> {} partition\".format(record, len(record_start_partitions)))\n",
        "  records_start_partitions[record] = record_start_partitions\n",
        "print(\"Total Partition: {}\".format(total_partition))\n",
        "display(records_start_partitions)"
      ],
      "execution_count": null,
      "outputs": []
    },
    {
      "cell_type": "code",
      "metadata": {
        "id": "Rv9AQemf9nCA"
      },
      "source": [
        "partition_dictionary = {\"418\":[3057,4942,9442,19192,23054,24788,26259,40080,41807,45631,50211,66788,69961,75355,77211,81310,84499,104230,106019,107249,109557,112749,119307,121326,122057,123673,129576,139384,150480,151525,152230,152871,153641,161442,162096,163826,164493,167237,168682,177480,179365,183826,189769,196634,197403,207634,212711,217749,218583,220153,220971,222041,223076,234096,236903,246833,250769],\"419\":[79923,195211,273830,337737,342596],\"420\":[207538,248673,254653],\"421\":[73538,77865,79326,80115,80884,81807,82461,83115,84365,85615,86653,87403,88134,88884,89615,90326,91038,91769,131499,135673,137019,137961,139269,140461,141596,142980,144211,145192,146288,147346,148384,149442,150461,151519,152538,153634,155153,156134,157230,158442,159807,162711,168153,170826,172673,174519,176326,178615,180865,183961],\"422\":[183211,183942],\"423\":[74615],\"424\":[218961],\"425\":[82403],\"426\":[11432,193980,266961,285211,294269,308522,318003],\"427\":[12124],\"428\":[271865,280711,330826],\"429\":[313807,336105,336894,348778],\"430\":[6576,13192,22275,25429,46217,124391,169871,265025,343794],\"602\":[136814,139352,161833],\"605\":[261942],\"607\":[245461,312134,321519],\"609\":[105275,141506],\"610\":[309865],\"611\":[149057],\"612\":[276846],\"614\":[205942],\"615\":[1346,128538,353384]}\n",
        "new_partition_dictionary = {}\n",
        "for record, start_partitions in partition_dictionary.items():\n",
        "  new_start = []\n",
        "  for start_partition in start_partitions:\n",
        "    new_start.append(int(round(start_partition * 128 / 250 , 0)))\n",
        "  print(record)\n",
        "  print(new_start)\n",
        "  new_partition_dictionary[record] = new_start\n",
        "new_partition_dictionary"
      ],
      "execution_count": null,
      "outputs": []
    },
    {
      "cell_type": "markdown",
      "metadata": {
        "id": "gjY54NjshjF5"
      },
      "source": [
        "### Negative Dataset"
      ]
    },
    {
      "cell_type": "code",
      "metadata": {
        "id": "T-oo1YCiMPep"
      },
      "source": [
        "def get_negative_record_start_partitions(record, physiobank_directory, partition_per_record, duration):\n",
        "  signals, fields = wfdb.rdsamp(record, pb_dir=physiobank_directory, sampto=1)\n",
        "  frequency_sampling = fields['fs']\n",
        "  sample_duration = duration * 60 * frequency_sampling # minutes * 60 * sample per second\n",
        "  results = []\n",
        "  start_partition = 0\n",
        "  for i in range(partition_per_record):\n",
        "    results.append(start_partition)\n",
        "    start_partition += sample_duration\n",
        "  return results"
      ],
      "execution_count": null,
      "outputs": []
    },
    {
      "cell_type": "code",
      "metadata": {
        "id": "hqoldXNnerc5"
      },
      "source": [
        "# MIT-BIH Normal Sinus Rhythm Database\n",
        "physiobank_directory = 'nsrdb/'\n",
        "records = ['16265','16272','16273','16420','16483','16539','16773','16786','16795','17052','17453','18177','18184','19088','19090','19093','19140','19830']"
      ],
      "execution_count": null,
      "outputs": []
    },
    {
      "cell_type": "code",
      "metadata": {
        "id": "0BsTKAgCL5Wi"
      },
      "source": [
        "records_start_partitions = {}\n",
        "total_partition = 0\n",
        "for record in records:\n",
        "  record_start_partitions = get_negative_record_start_partitions(record, physiobank_directory, partition_per_record = 9, duration = 5)\n",
        "  total_partition += len(record_start_partitions)\n",
        "  # print(\"Record {} -> {} partition\".format(record, len(record_start_partitions)))\n",
        "  records_start_partitions[record] = record_start_partitions\n",
        "# print(\"Total Partition: {}\".format(total_partition))\n",
        "# display(records_start_partitions)"
      ],
      "execution_count": null,
      "outputs": []
    },
    {
      "cell_type": "markdown",
      "metadata": {
        "id": "maNABsrEDm9q"
      },
      "source": [
        "# Preprocessing"
      ]
    },
    {
      "cell_type": "markdown",
      "metadata": {
        "id": "h0WyGlBUxOU4"
      },
      "source": [
        "## Filter"
      ]
    },
    {
      "cell_type": "code",
      "metadata": {
        "id": "TUDf5MD2Kn0b"
      },
      "source": [
        "def frequency_analysis(signal, frequency_sampling):\n",
        "  N = signal.shape[0]\n",
        "  yf = fft(signal)\n",
        "  xf = np.linspace(0.0, 1.0/(2.0/frequency_sampling), num=N//2)\n",
        "  fig, ax = plt.subplots()\n",
        "  ax.plot(xf, 2.0/N * np.abs(yf[:N//2]))\n",
        "  plt.show()"
      ],
      "execution_count": null,
      "outputs": []
    },
    {
      "cell_type": "code",
      "metadata": {
        "id": "ewTd3vyjnVqN"
      },
      "source": [
        "def filter_signal(signal, frequency_sampling, low_freq, high_freq):\n",
        "  # Filtering using Bandpass\n",
        "  filtered = hp.filter_signal(signal, filtertype='bandpass', cutoff = [low_freq, high_freq], sample_rate = frequency_sampling)\n",
        "  return filtered"
      ],
      "execution_count": null,
      "outputs": []
    },
    {
      "cell_type": "markdown",
      "metadata": {
        "id": "w5YTnnj0VxLv"
      },
      "source": [
        "## Peak Detection"
      ]
    },
    {
      "cell_type": "code",
      "metadata": {
        "id": "w-3ynnEeDqxr"
      },
      "source": [
        "def get_peaklist_v0(signal, frequency_sampling):\n",
        "  # Detecting R peak\n",
        "  # working_data, measures = hp.process(signal, frequency_sampling)\n",
        "  # return working_data['peaklist']\n",
        "  output = ecg.ecg(signal=signal, sampling_rate=frequency_sampling, show=False)\n",
        "  return output['rpeaks']"
      ],
      "execution_count": null,
      "outputs": []
    },
    {
      "cell_type": "code",
      "metadata": {
        "id": "dtYqjxmjsnfv"
      },
      "source": [
        "def get_peaklist_v1(signal, frequency_sampling, method):\n",
        "  if method == 'christov': # 2004\n",
        "    rpeaks, = ecg.christov_segmenter(signal=signal, sampling_rate=frequency_sampling)\n",
        "  elif method == 'engzee': # 1979 - 2012\n",
        "    rpeaks, = ecg.engzee_segmenter(signal=signal, sampling_rate=frequency_sampling)\n",
        "  elif method == 'gamboa': # nd\n",
        "    rpeaks, = ecg.gamboa_segmenter(signal=signal, sampling_rate=frequency_sampling)\n",
        "  elif method == 'hamilton': # 2002\n",
        "    rpeaks, = ecg.hamilton_segmenter(signal=signal, sampling_rate=frequency_sampling)\n",
        "  elif method == 'ssf': # nd\n",
        "    rpeaks, = ecg.ssf_segmenter(signal=signal, sampling_rate=frequency_sampling)\n",
        "  # Segment\n",
        "  # Correct R-peak locations\n",
        "  rpeaks, = ecg.correct_rpeaks(signal=signal,\n",
        "                             rpeaks=rpeaks,\n",
        "                             sampling_rate=frequency_sampling,\n",
        "                             tol=0.05)\n",
        "  # Extract templates\n",
        "  templates, rpeaks = ecg.extract_heartbeats(signal=signal,\n",
        "                                           rpeaks=rpeaks,\n",
        "                                           sampling_rate=frequency_sampling,\n",
        "                                           before=0.2,\n",
        "                                           after=0.4)\n",
        "  return rpeaks"
      ],
      "execution_count": null,
      "outputs": []
    },
    {
      "cell_type": "code",
      "metadata": {
        "id": "m_0IRHQGdBPY"
      },
      "source": [
        "def get_peaklist(signal, frequency_sampling):\n",
        "  # Segment\n",
        "  rpeaks, = ecg.engzee_segmenter(signal=signal, sampling_rate=frequency_sampling)\n",
        "  # Correct R-peak locations\n",
        "  rpeaks, = ecg.correct_rpeaks(signal=signal,\n",
        "                             rpeaks=rpeaks,\n",
        "                             sampling_rate=frequency_sampling,\n",
        "                             tol=0.05)\n",
        "  # Extract templates\n",
        "  templates, rpeaks = ecg.extract_heartbeats(signal=signal,\n",
        "                                           rpeaks=rpeaks,\n",
        "                                           sampling_rate=frequency_sampling,\n",
        "                                           before=0.2,\n",
        "                                           after=0.4)\n",
        "  return rpeaks"
      ],
      "execution_count": null,
      "outputs": []
    },
    {
      "cell_type": "code",
      "metadata": {
        "id": "tl4eqroZpo1D"
      },
      "source": [
        "def save_peaklist(peaklist, folder, filename):\n",
        "  peaklist_df = pd.DataFrame(peaklist, columns = ['peaklist'])\n",
        "  path = \"/content/drive/My Drive/Signal/\" + folder + \"/\" + filename\n",
        "  peaklist_df.to_csv(path, index=False)\n",
        "  print(\"{} saved!\".format(filename))"
      ],
      "execution_count": null,
      "outputs": []
    },
    {
      "cell_type": "markdown",
      "metadata": {
        "id": "WFWBGauRSNHs"
      },
      "source": [
        "## Show Peak"
      ]
    },
    {
      "cell_type": "code",
      "metadata": {
        "id": "1eXSp_s4WdvP"
      },
      "source": [
        "def show_peak(signal, qrs_inds, start = 0):\n",
        "  if start == 0:\n",
        "    new_inds = qrs_inds\n",
        "  else:\n",
        "    new_inds = qrs_inds + start\n",
        "  # peaks = signal.to_numpy()[qrs_inds]\n",
        "  inds = [x for x in range(1,len(signal)+1,1)]\n",
        "  peaks = signal[qrs_inds]\n",
        "  fig, ax_left = plt.subplots(figsize=(14,4))\n",
        "  ax_left.plot(inds, signal, color='#3979f0', label='Signal')\n",
        "  ax_left.plot(new_inds, peaks, 'rx', marker='x', color='#8b0000', label='Peak', markersize=12)\n",
        "  plt.show()"
      ],
      "execution_count": null,
      "outputs": []
    },
    {
      "cell_type": "code",
      "metadata": {
        "id": "y59DaPt2SRTB"
      },
      "source": [
        "# Get Dataset\n",
        "def get_peaklist_from_drive(folder, record, partition, channel):\n",
        "  folder = '/content/drive/My Drive/Signal/' + folder + '/'\n",
        "  filename = 'peaklist_{}_partition_{}_channel_{}.csv'.format(record, partition, channel)\n",
        "  dataset = []\n",
        "  with open(folder+filename) as file:\n",
        "    next(file)\n",
        "    for i, line in enumerate(file.readlines()):\n",
        "      data = line.split('\\n')\n",
        "      dataset.append(int(data[0]))\n",
        "  return dataset"
      ],
      "execution_count": null,
      "outputs": []
    },
    {
      "cell_type": "markdown",
      "metadata": {
        "id": "L3SDvl2LV1qJ"
      },
      "source": [
        "## Execution"
      ]
    },
    {
      "cell_type": "code",
      "metadata": {
        "id": "78o2hk0ERuo5"
      },
      "source": [
        "def get_all_peaklist(physiobank_directory, partition_dictionary, folder, duration, resampling=0):\n",
        "  for record, start_partitions in partition_dictionary.items():\n",
        "    original_signals, original_fields = wfdb.rdsamp(record, pb_dir=physiobank_directory)\n",
        "    channels = len(original_fields['sig_name'])\n",
        "    frequency_sampling = original_fields['fs']\n",
        "\n",
        "    if resampling != 0: # Resampling Signal\n",
        "      original_annotation = wfdb.rdann(record, 'atr', pb_dir=physiobank_directory)\n",
        "      resampled_signals, resampled_annotation = processing.resample_multichan(original_signals, original_annotation, frequency_sampling, resampling)\n",
        "      frequency_sampling = resampling # Now Frequency Sampling equal to Resampling\n",
        "\n",
        "    for partition, start_partition in enumerate(start_partitions):\n",
        "      end_partition = start_partition + (duration * 60 * frequency_sampling)\n",
        "      if resampling == 0:\n",
        "        signals = original_signals[start_partition:end_partition, :]\n",
        "      else:\n",
        "        signals = resampled_signals[start_partition:end_partition, :]\n",
        "\n",
        "      # # Frequency Analysis\n",
        "      # print(\"Frequency Analysis\")\n",
        "      # frequency_analysis(signals[:,0], frequency_sampling)\n",
        "\n",
        "      # Accessing Both Channel\n",
        "      for channel in range(channels):\n",
        "        signal = signals[:,channel]\n",
        "        filtered_signal = filter_signal(signal, frequency_sampling, 7, 30) # Filter\n",
        "        try:\n",
        "          peaklist = get_peaklist(filtered_signal, frequency_sampling) # Get Peaklist\n",
        "          save_peaklist(peaklist, folder, filename = \"peaklist_{}_partition_{}_channel_{}.csv\".format(record, partition+1, channel+1)) # Save Peaklist\n",
        "\n",
        "          # # Show Peak\n",
        "          # print(\"Partition {} - Channel {}\".format(partition+1, channel+1))\n",
        "          # print(len(peaklist))\n",
        "          # show_peak(signal, peaklist)\n",
        "          # show_peak(filtered_signal, peaklist)\n",
        "        except Exception as e:\n",
        "          print(e)\n",
        "          errors.append(\"{}_{}_{}.csv\".format(record, partition+1, channel+1))\n",
        "  print(\"Error: {}\".format(len(errors)))\n",
        "  for error in errors:\n",
        "    print(error)"
      ],
      "execution_count": null,
      "outputs": []
    },
    {
      "cell_type": "markdown",
      "metadata": {
        "id": "9wXp87hliI-x"
      },
      "source": [
        "### Positive Dataset"
      ]
    },
    {
      "cell_type": "code",
      "metadata": {
        "id": "mna0YWiJG3T4"
      },
      "source": [
        "errors = []\n",
        "physiobank_directory = 'vfdb/'\n",
        "# partition_dictionary = {\"418\":[3057,4942,9442,19192,23054,24788,26259,40080,41807,45631,50211,66788,69961,75355,77211,81310,84499,104230,106019,107249,109557,112749,119307,121326,122057,123673,129576,139384,150480,151525,152230,152871,153641,161442,162096,163826,164493,167237,168682,177480,179365,183826,189769,196634,197403,207634,212711,217749,218583,220153,220971,222041,223076,234096,236903,246833,250769],\"419\":[79923,195211,273830,337737,342596],\"420\":[207538,248673,254653],\"421\":[73538,77865,79326,80115,80884,81807,82461,83115,84365,85615,86653,87403,88134,88884,89615,90326,91038,91769,131499,135673,137019,137961,139269,140461,141596,142980,144211,145192,146288,147346,148384,149442,150461,151519,152538,153634,155153,156134,157230,158442,159807,162711,168153,170826,172673,174519,176326,178615,180865,183961],\"422\":[183211,183942],\"423\":[74615],\"424\":[218961],\"425\":[82403],\"426\":[11432,193980,266961,285211,294269,308522,318003],\"427\":[12124],\"428\":[271865,280711,330826],\"429\":[313807,336105,336894,348778],\"430\":[6576,13192,22275,25429,46217,124391,169871,265025,343794],\"602\":[136814,139352,161833],\"605\":[261942],\"607\":[245461,312134,321519],\"609\":[105275,141506],\"610\":[309865],\"611\":[149057],\"612\":[276846],\"614\":[205942],\"615\":[1346,128538,353384]}\n",
        "# partition_dictionary = {\"423\":[74615]}\n",
        "# partition_dictionary = {'418':[1565,2530,4834,9826,11804,12691,13445,20521,21405,23363,25708,34195,35820,38582,39532,41631,43263,53366,54282,54911,56093,57727,61085,62119,62493,63321,66343,71365,77046,77581,77942,78270,78664,82658,82993,83879,84220,85625,86365,90870,91835,94119,97162,100677,101070,106309,108908,111487,111914,112718,113137,113685,114215,115199,115199,115199,115199],'419':[40921,99948,115199,115199,115199],'420':[106259,115199,115199],'421':[37651,39867,40615,41019,41413,41885,42220,42555,43195,43835,44366,44750,45125,45509,45883,46247,46611,46986,67327,69465,70154,70636,71306,71916,72497,73206,73836,74338,74899,75441,75973,76514,77036,77578,78099,78661,79438,79941,80502,81122,81821,83308,86094,87463,88409,89354,90279,91451,92603,94188],'422':[93804,94178],'423':[38203],'424':[112108],'425':[42190],'426':[5853,99318,115199,115199,115199,115199,115199],'427':[6207],'428':[115199,115199,115199],'429':[115199,115199,115199,115199],'430':[3367,6754,11405,13020,23663,63688,86974,115199,115199],'602':[70049,71348,82858],'605':[115199],'607':[115199,115199,115199],'609':[53901,72451],'610':[115199],'611':[76317],'612':[115199],'614':[105442],'615':[689,65811,115199]}\n",
        "partition_dictionary = {'418':[1565,2530,4834,9826,11804,12691,13445,20521,21405,23363,25708,34195,35820,38582,39532,41631,43263,53366,54282,54911,56093,57727,61085,62119,62493,63321,66343,71365,77046,77581,77942,78270,78664,82658,82993,83879,84220,85625,86365,90870,91835,94119,97162,100677,101070,106309,108908,111487,111914,112718,113137,113685,114215,119857,121294,126378,128394],'419':[40921,99948,140201,172921,175409],'420':[106259,127321,130382],'421':[37651,39867,40615,41019,41413,41885,42220,42555,43195,43835,44366,44750,45125,45509,45883,46247,46611,46986,67327,69465,70154,70636,71306,71916,72497,73206,73836,74338,74899,75441,75973,76514,77036,77578,78099,78661,79438,79941,80502,81122,81821,83308,86094,87463,88409,89354,90279,91451,92603,94188],'422':[93804,94178],'423':[38203],'424':[112108],'425':[42190],'426':[5853,99318,136684,146028,150666,157963,162818],'427':[6207],'428':[139195,143724,169383],'429':[160669,172086,172490,178574],'430':[3367,6754,11405,13020,23663,63688,86974,135693,176023],'602':[70049,71348,82858],'605':[134114],'607':[125676,159813,164618],'609':[53901,72451],'610':[158651],'611':[76317],'612':[141745],'614':[105442],'615':[689,65811,180933]}\n",
        "# partition_dictionary = {'423':[38203]}\n",
        "folder = \"Positive-Peaklist\"\n",
        "duration = 5\n",
        "frequency_sampling = 250\n",
        "resampling = 128\n",
        "get_all_peaklist(physiobank_directory, partition_dictionary, folder, duration, resampling)"
      ],
      "execution_count": null,
      "outputs": []
    },
    {
      "cell_type": "markdown",
      "metadata": {
        "id": "MHwz6eO1iNni"
      },
      "source": [
        "### Negative Dataset"
      ]
    },
    {
      "cell_type": "code",
      "metadata": {
        "id": "EeKFkhKniPnK"
      },
      "source": [
        "errors = []\n",
        "physiobank_directory = 'nsrdb/'\n",
        "partition_dictionary = {'16265':[0,38400,76800,115200,153600,192000,230400,268800,307200],'16272':[0,38400,76800,115200,153600,192000,230400,268800,307200],'16273':[0,38400,76800,115200,153600,192000,230400,268800,307200],'16420':[0,38400,76800,115200,153600,192000,230400,268800,307200],'16483':[0,38400,76800,115200,153600,192000,230400,268800,307200],'16539':[0,38400,76800,115200,153600,192000,230400,268800,307200],'16773':[0,38400,76800,115200,153600,192000,230400,268800,307200],'16786':[0,38400,76800,115200,153600,192000,230400,268800,307200],'16795':[0,38400,76800,115200,153600,192000,230400,268800,307200],'17052':[0,38400,76800,115200,153600,192000,230400,268800,307200],'17453':[0,38400,76800,115200,153600,192000,230400,268800,307200],'18177':[0,38400,76800,115200,153600,192000,230400,268800,307200],'18184':[0,38400,76800,115200,153600,192000,230400,268800,307200],'19088':[0,38400,76800,115200,153600,192000,230400,268800,307200],'19090':[0,38400,76800,115200,153600,192000,230400,268800,307200],'19093':[0,38400,76800,115200,153600,192000,230400,268800,307200],'19140':[0,38400,76800,115200,153600,192000,230400,268800,307200],'19830':[0,38400,76800,115200,153600,192000,230400,268800,307200]}\n",
        "# partition_dictionary = {'16265':[0]}\n",
        "folder = \"Negative-Peaklist\"\n",
        "duration = 5\n",
        "frequency_sampling = 128\n",
        "get_all_peaklist(physiobank_directory, partition_dictionary, folder, duration)"
      ],
      "execution_count": null,
      "outputs": []
    },
    {
      "cell_type": "markdown",
      "metadata": {
        "id": "fdJIApJB-EjJ"
      },
      "source": [
        "# Result"
      ]
    },
    {
      "cell_type": "markdown",
      "metadata": {
        "id": "Ud83MbRD-Xk7"
      },
      "source": [
        "## Negative Dataset"
      ]
    },
    {
      "cell_type": "code",
      "metadata": {
        "id": "RztaBrcv-HH4"
      },
      "source": [
        "physiobank_directory = 'nsrdb/'\n",
        "record = '19090'\n",
        "partition = 1\n",
        "channel = 1\n",
        "start = 0\n",
        "end = 38400\n",
        "frequency_sampling = 128\n",
        "\n",
        "signals, fields = wfdb.rdsamp(record, pb_dir=physiobank_directory, sampfrom=start, sampto=end)\n",
        "filtered_signal = filter_signal(signals[:,channel-1], frequency_sampling, 7, 30)\n",
        "qrs_inds = get_peaklist_v1(filtered_signal, frequency_sampling, 'engzee')\n",
        "# qrs_inds = get_peaklist_from_drive(folder='Negative-Peaklist', record=record, partition=partition, channel=channel)\n",
        "show_peak(signal=filtered_signal, qrs_inds=qrs_inds)"
      ],
      "execution_count": null,
      "outputs": []
    },
    {
      "cell_type": "markdown",
      "metadata": {
        "id": "b5R06DL7CMPi"
      },
      "source": [
        "## Positive Dataset"
      ]
    },
    {
      "cell_type": "code",
      "metadata": {
        "id": "L0bv1_ZnCL2N"
      },
      "source": [
        "physiobank_directory = 'vfdb/'\n",
        "\n",
        "partition_dictionary = {'418':[1565,2530,4834,9826,11804,12691,13445,20521,21405,23363,25708,34195,35820,38582,39532,41631,43263,53366,54282,54911,56093,57727,61085,62119,62493,63321,66343,71365,77046,77581,77942,78270,78664,82658,82993,83879,84220,85625,86365,90870,91835,94119,97162,100677,101070,106309,108908,111487,111914,112718,113137,113685,114215,119857,121294,126378,128394],'419':[40921,99948,140201,172921,175409],'420':[106259,127321,130382],'421':[37651,39867,40615,41019,41413,41885,42220,42555,43195,43835,44366,44750,45125,45509,45883,46247,46611,46986,67327,69465,70154,70636,71306,71916,72497,73206,73836,74338,74899,75441,75973,76514,77036,77578,78099,78661,79438,79941,80502,81122,81821,83308,86094,87463,88409,89354,90279,91451,92603,94188],'422':[93804,94178],'423':[38203],'424':[112108],'425':[42190],'426':[5853,99318,136684,146028,150666,157963,162818],'427':[6207],'428':[139195,143724,169383],'429':[160669,172086,172490,178574],'430':[3367,6754,11405,13020,23663,63688,86974,135693,176023],'602':[70049,71348,82858],'605':[134114],'607':[125676,159813,164618],'609':[53901,72451],'610':[158651],'611':[76317],'612':[141745],'614':[105442],'615':[689,65811,180933]}\n",
        "record = '418'\n",
        "starts = partition_dictionary[record]\n",
        "# partition = 7\n",
        "\n",
        "channel = 1\n",
        "# start = starts[partition-1]\n",
        "for partition, start in enumerate(starts):\n",
        "  if partition > 49:\n",
        "    print(\"Partition {}\".format(partition+1))\n",
        "    end = start + 38400\n",
        "    frequency_sampling = 250\n",
        "    resampling = 128\n",
        "\n",
        "    original_signals, original_fields = wfdb.rdsamp(record, pb_dir=physiobank_directory)\n",
        "    original_annotation = wfdb.rdann(record, 'atr', pb_dir=physiobank_directory)\n",
        "    resampled_signals, resampled_annotation = processing.resample_multichan(original_signals, original_annotation, frequency_sampling, resampling)\n",
        "    frequency_sampling = resampling # Now Frequency Sampling equal to Resampling\n",
        "\n",
        "    signals = resampled_signals[start:end, :]\n",
        "    # frequency_analysis(signals[:,channel-1], frequency_sampling)\n",
        "    filtered_signal = filter_signal(signals[:,channel-1], frequency_sampling, 7, 30)\n",
        "    qrs_inds = get_peaklist_from_drive(folder='Positive-Peaklist', record=record, partition=partition+1, channel=channel)\n",
        "    show_peak(signal=filtered_signal, qrs_inds=qrs_inds)"
      ],
      "execution_count": null,
      "outputs": []
    },
    {
      "cell_type": "code",
      "metadata": {
        "id": "SdNjaESrD1dL"
      },
      "source": [
        "physiobank_directory = 'vfdb/'\n",
        "\n",
        "partition_dictionary = {'418':[1565,2530,4834,9826,11804,12691,13445,20521,21405,23363,25708,34195,35820,38582,39532,41631,43263,53366,54282,54911,56093,57727,61085,62119,62493,63321,66343,71365,77046,77581,77942,78270,78664,82658,82993,83879,84220,85625,86365,90870,91835,94119,97162,100677,101070,106309,108908,111487,111914,112718,113137,113685,114215,119857,121294,126378,128394],'419':[40921,99948,140201,172921,175409],'420':[106259,127321,130382],'421':[37651,39867,40615,41019,41413,41885,42220,42555,43195,43835,44366,44750,45125,45509,45883,46247,46611,46986,67327,69465,70154,70636,71306,71916,72497,73206,73836,74338,74899,75441,75973,76514,77036,77578,78099,78661,79438,79941,80502,81122,81821,83308,86094,87463,88409,89354,90279,91451,92603,94188],'422':[93804,94178],'423':[38203],'424':[112108],'425':[42190],'426':[5853,99318,136684,146028,150666,157963,162818],'427':[6207],'428':[139195,143724,169383],'429':[160669,172086,172490,178574],'430':[3367,6754,11405,13020,23663,63688,86974,135693,176023],'602':[70049,71348,82858],'605':[134114],'607':[125676,159813,164618],'609':[53901,72451],'610':[158651],'611':[76317],'612':[141745],'614':[105442],'615':[689,65811,180933]}\n",
        "record = '609'\n",
        "starts = partition_dictionary[record]\n",
        "# partition = 7\n",
        "\n",
        "channel = 1\n",
        "# start = starts[partition-1]\n",
        "for partition, start in enumerate(starts):\n",
        "  if partition > -1:\n",
        "    print(\"Partition {}\".format(partition+1))\n",
        "    end = start + 38400\n",
        "    frequency_sampling = 250\n",
        "    resampling = 128\n",
        "\n",
        "    original_signals, original_fields = wfdb.rdsamp(record, pb_dir=physiobank_directory)\n",
        "    original_annotation = wfdb.rdann(record, 'atr', pb_dir=physiobank_directory)\n",
        "    resampled_signals, resampled_annotation = processing.resample_multichan(original_signals, original_annotation, frequency_sampling, resampling)\n",
        "    frequency_sampling = resampling # Now Frequency Sampling equal to Resampling\n",
        "\n",
        "    signals = resampled_signals[start:end, :]\n",
        "    # frequency_analysis(signals[:,channel-1], frequency_sampling)\n",
        "    filtered_signal = filter_signal(signals[:,channel-1], frequency_sampling, 1, 30)\n",
        "    # filtered_signal = signals[:,channel-1]\n",
        "    # qrs_inds = get_peaklist_v0(filtered_signal, frequency_sampling)\n",
        "    qrs_inds = get_peaklist_v1(filtered_signal, frequency_sampling, 'christov')\n",
        "    show_peak(signal=filtered_signal, qrs_inds=qrs_inds)\n",
        "    qrs_inds = get_peaklist_v1(filtered_signal, frequency_sampling, 'engzee')\n",
        "    show_peak(signal=filtered_signal, qrs_inds=qrs_inds)"
      ],
      "execution_count": null,
      "outputs": []
    },
    {
      "cell_type": "markdown",
      "metadata": {
        "id": "4P8AAzYNUdBn"
      },
      "source": [
        "## Resampling"
      ]
    },
    {
      "cell_type": "code",
      "metadata": {
        "id": "sRH67ECOCUoC"
      },
      "source": [
        "physiobank_directory = 'vfdb/'\n",
        "record = '605'\n",
        "frequency_sampling = 250\n",
        "resampling = 128\n",
        "original_signals, original_fields = wfdb.rdsamp(record, pb_dir=physiobank_directory)\n",
        "original_annotation = wfdb.rdann(record, 'atr', pb_dir=physiobank_directory)\n",
        "resampled_signals, resampled_annotation = processing.resample_multichan(original_signals, original_annotation, frequency_sampling, resampling)"
      ],
      "execution_count": null,
      "outputs": []
    },
    {
      "cell_type": "code",
      "metadata": {
        "id": "8rkBPubKDej6"
      },
      "source": [
        "print(len(original_signals[:,0]))\n",
        "print(len(resampled_signals[:,0]))"
      ],
      "execution_count": null,
      "outputs": []
    },
    {
      "cell_type": "code",
      "metadata": {
        "id": "EVFLadg3DEHs"
      },
      "source": [
        "plt.figure(figsize=(10,4))\n",
        "sns.lineplot(data=original_signals[-75000:, 0])"
      ],
      "execution_count": null,
      "outputs": []
    },
    {
      "cell_type": "code",
      "metadata": {
        "id": "JK0cnIlMDDOy"
      },
      "source": [
        "plt.figure(figsize=(10,4))\n",
        "sns.lineplot(data=resampled_signals[-38400:, 0])"
      ],
      "execution_count": null,
      "outputs": []
    }
  ]
}