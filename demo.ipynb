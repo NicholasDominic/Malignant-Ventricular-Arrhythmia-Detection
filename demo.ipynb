{
 "cells": [
  {
   "cell_type": "markdown",
   "metadata": {},
   "source": [
    "# Demo Scripts for the wfdb-python package\n",
    "\n",
    "Run this notebook from the base directory of the git repository to access the included demo files"
   ]
  },
  {
   "cell_type": "markdown",
   "metadata": {},
   "source": [
    "## Documentation Site\n",
    "\n",
    "http://wfdb.readthedocs.io/"
   ]
  },
  {
   "cell_type": "code",
   "execution_count": 1,
   "metadata": {},
   "outputs": [],
   "source": [
    "from pandas import DataFrame as df, read_csv as rcsv\n",
    "from os import getcwd"
   ]
  },
  {
   "cell_type": "code",
   "execution_count": 2,
   "metadata": {},
   "outputs": [],
   "source": [
    "from scipy.io import loadmat as lm\n",
    "mat = lm('data_OLD/target.mat')"
   ]
  },
  {
   "cell_type": "markdown",
   "metadata": {},
   "source": [
    "* slpdbData (30seconds/sample) -> hrv_features_norm (18 features) -> fed to the model"
   ]
  },
  {
   "cell_type": "code",
   "execution_count": 3,
   "metadata": {},
   "outputs": [
    {
     "data": {
      "text/plain": [
       "(10154, 6)"
      ]
     },
     "execution_count": 3,
     "metadata": {},
     "output_type": "execute_result"
    }
   ],
   "source": [
    "mat[\"target\"].shape"
   ]
  },
  {
   "cell_type": "code",
   "execution_count": 4,
   "metadata": {},
   "outputs": [
    {
     "data": {
      "text/plain": [
       "array([[nan,  1.,  1.,  2., nan,  4.],\n",
       "       [nan,  1.,  1.,  2., nan,  4.],\n",
       "       [nan,  1.,  1.,  2., nan,  4.],\n",
       "       ...,\n",
       "       [nan,  2.,  3.,  4., nan,  6.],\n",
       "       [nan,  2.,  3.,  4., nan,  6.],\n",
       "       [nan,  2.,  3.,  4., nan,  6.]])"
      ]
     },
     "execution_count": 4,
     "metadata": {},
     "output_type": "execute_result"
    }
   ],
   "source": [
    "mat[\"target\"]"
   ]
  },
  {
   "cell_type": "code",
   "execution_count": 5,
   "metadata": {},
   "outputs": [],
   "source": [
    "hrv = lm('data_OLD/hrv_features_norm.mat')"
   ]
  },
  {
   "cell_type": "code",
   "execution_count": 6,
   "metadata": {},
   "outputs": [
    {
     "data": {
      "text/plain": [
       "array([[-0.07629592, -0.74722252, -0.80540639, ..., -0.1796768 ,\n",
       "        -0.37644686,  0.18611609],\n",
       "       [-0.00255077, -0.91659048, -0.96371511, ..., -0.37661129,\n",
       "         0.6983849 , -0.48510789],\n",
       "       [ 0.00476433, -0.938903  , -0.97374475, ...,  0.11651875,\n",
       "         0.31176879, -0.47261944],\n",
       "       ...,\n",
       "       [-0.27853175, -0.91840929, -0.96716992, ..., -0.58783588,\n",
       "         0.76696466, -0.52098685],\n",
       "       [-0.45560957, -0.87686178, -0.97499191, ...,  0.7171304 ,\n",
       "        -0.14078403, -0.79778775],\n",
       "       [-0.55275029, -0.96526081, -0.98564675, ..., -0.63920706,\n",
       "         0.72255814, -0.69720439]])"
      ]
     },
     "execution_count": 6,
     "metadata": {},
     "output_type": "execute_result"
    }
   ],
   "source": [
    "hrv[\"hrv_features_norm\"]"
   ]
  },
  {
   "cell_type": "code",
   "execution_count": 7,
   "metadata": {},
   "outputs": [
    {
     "data": {
      "text/plain": [
       "array([-0.07629592, -0.74722252, -0.80540639, -0.80909676, -0.84615385,\n",
       "       -0.86013986, -0.69378625, -0.80909676, -0.71207445, -0.43555892,\n",
       "       -0.97039567,  0.38783159, -0.50124668,  0.50124668, -0.87453916,\n",
       "       -0.1796768 , -0.37644686,  0.18611609])"
      ]
     },
     "execution_count": 7,
     "metadata": {},
     "output_type": "execute_result"
    }
   ],
   "source": [
    "hrv[\"hrv_features_norm\"][0]"
   ]
  },
  {
   "cell_type": "code",
   "execution_count": 8,
   "metadata": {},
   "outputs": [
    {
     "data": {
      "text/plain": [
       "(10154, 6)"
      ]
     },
     "execution_count": 8,
     "metadata": {},
     "output_type": "execute_result"
    }
   ],
   "source": [
    "mat[\"target\"].shape"
   ]
  },
  {
   "cell_type": "code",
   "execution_count": 9,
   "metadata": {},
   "outputs": [],
   "source": [
    "dt = lm('data_OLD/SlpdbData.mat')[\"SlpdbData\"]"
   ]
  },
  {
   "cell_type": "code",
   "execution_count": 76,
   "metadata": {
    "scrolled": true,
    "tags": []
   },
   "outputs": [
    {
     "data": {
      "text/plain": [
       "array([[(array(['slpdb/slp01a'], dtype='<U12'), array(['0:00.000'], dtype='<U8'), array([[0.076, 0.86 , 0.892, 0.92 , 0.896, 0.904, 0.892, 0.884, 0.908,\n",
       "                0.884, 0.86 , 0.864, 0.852, 0.868, 0.908, 0.948, 0.98 , 0.968,\n",
       "                0.956, 0.988, 0.996, 0.984, 0.956, 0.924, 0.936, 0.94 , 0.948,\n",
       "                0.944, 0.904, 0.888, 0.896, 0.912, 0.904, 0.872]]), array(['4'], dtype='<U1'), array(['44'], dtype='<U2'), array(['M'], dtype='<U1'), array(['89'], dtype='<U2'))],\n",
       "       [(array(['slpdb/slp01a'], dtype='<U12'), array(['0:30.000'], dtype='<U8'), array([[0.836, 0.824, 0.836, 0.864, 0.9  , 0.924, 0.92 , 0.992, 1.016,\n",
       "                1.004, 0.996, 0.948, 0.936, 0.924, 0.92 , 0.92 , 0.888, 0.88 ,\n",
       "                0.892, 0.928, 0.968, 0.96 , 0.904, 0.88 , 0.852, 0.856, 0.864,\n",
       "                0.872, 0.888, 0.952, 1.   , 0.992, 0.988]]), array(['4'], dtype='<U1'), array(['44'], dtype='<U2'), array(['M'], dtype='<U1'), array(['89'], dtype='<U2'))],\n",
       "       [(array(['slpdb/slp01a'], dtype='<U12'), array(['1:00.000'], dtype='<U8'), array([[0.964, 0.936, 0.964, 0.956, 0.952, 0.924, 0.904, 0.916, 0.912,\n",
       "                0.924, 0.924, 0.872, 0.852, 0.836, 0.828, 0.848, 0.88 , 0.892,\n",
       "                0.9  , 0.944, 0.972, 0.976, 0.952, 0.952, 0.976, 0.98 , 0.976,\n",
       "                0.928, 0.904, 0.904, 0.92 , 0.924]]), array(['4'], dtype='<U1'), array(['44'], dtype='<U2'), array(['M'], dtype='<U1'), array(['89'], dtype='<U2'))],\n",
       "       ...,\n",
       "       [(array(['slpdb/slp67x'], dtype='<U12'), array(['1:15:30.000'], dtype='<U11'), array([[0.884, 0.848, 0.848, 0.856, 0.848, 0.856, 0.84 , 0.848, 0.88 ,\n",
       "                0.84 , 0.876, 0.832, 0.808, 0.764, 0.744, 0.74 , 0.736, 0.772,\n",
       "                0.8  , 0.844, 0.908, 0.888, 0.86 , 0.84 , 0.844, 0.848, 0.844,\n",
       "                0.824, 0.816, 0.828, 0.776, 0.748, 0.732, 0.736, 0.72 , 0.716]]), array(['W'], dtype='<U1'), array(['x'], dtype='<U1'), array(['M'], dtype='<U1'), array(['x'], dtype='<U1'))],\n",
       "       [(array(['slpdb/slp67x'], dtype='<U12'), array(['1:16:00.000'], dtype='<U11'), array([[0.704, 0.696, 0.688, 0.676, 0.668, 0.684, 0.704, 0.716, 0.728,\n",
       "                0.752, 0.764, 0.8  , 0.844, 0.904, 0.884, 0.872, 0.868, 0.888,\n",
       "                0.916, 0.86 , 0.836, 0.816, 0.784, 0.768, 0.756, 0.736, 0.732,\n",
       "                0.72 , 0.716, 0.7  , 0.696, 0.684, 0.68 , 0.668, 0.672, 0.672,\n",
       "                0.684, 0.684, 0.7  , 0.708]]), array(['W'], dtype='<U1'), array(['x'], dtype='<U1'), array(['M'], dtype='<U1'), array(['x'], dtype='<U1'))  ],\n",
       "       [(array(['slpdb/slp67x'], dtype='<U12'), array(['1:16:30.000'], dtype='<U11'), array([[0.708, 0.716, 0.716, 0.708, 0.704, 0.688, 0.676, 0.676, 0.68 ,\n",
       "                0.68 , 0.688, 0.7  , 0.724, 0.736, 0.74 , 0.744, 0.76 , 0.748,\n",
       "                0.736, 0.728, 0.712, 0.7  , 0.696, 0.7  , 0.7  , 0.708, 0.708,\n",
       "                0.704, 0.696, 0.692, 0.684, 0.688, 0.688, 0.716, 0.724, 0.752,\n",
       "                0.78 , 0.776, 0.764, 0.752, 0.704]]), array(['W'], dtype='<U1'), array(['x'], dtype='<U1'), array(['M'], dtype='<U1'), array(['x'], dtype='<U1'))]],\n",
       "      dtype=[('filename', 'O'), ('time', 'O'), ('rr', 'O'), ('annotation', 'O'), ('age', 'O'), ('gender', 'O'), ('weight', 'O')])"
      ]
     },
     "execution_count": 76,
     "metadata": {},
     "output_type": "execute_result"
    }
   ],
   "source": [
    "dt"
   ]
  },
  {
   "cell_type": "code",
   "execution_count": null,
   "metadata": {},
   "outputs": [],
   "source": []
  },
  {
   "cell_type": "code",
   "execution_count": null,
   "metadata": {},
   "outputs": [],
   "source": []
  },
  {
   "cell_type": "code",
   "execution_count": 10,
   "metadata": {},
   "outputs": [],
   "source": [
    "def slpdb_mat_to_df(dataset, *args, **kwargs) -> None:\n",
    "    filename = []\n",
    "    time = []\n",
    "    rr_interval = []\n",
    "    annotation = []\n",
    "    age = []\n",
    "    gender = []\n",
    "    weight = []\n",
    "\n",
    "    for data in dataset:\n",
    "        filename.append(data[0][\"filename\"][0])\n",
    "        time.append(data[0][\"time\"][0])\n",
    "        rr_interval.append(data[0][\"rr\"][0])\n",
    "        annotation.append(data[0][\"annotation\"][0])\n",
    "        age.append(data[0][\"age\"][0])\n",
    "        gender.append(data[0][\"gender\"][0])\n",
    "        weight.append(data[0][\"weight\"][0])\n",
    "\n",
    "    df({\"filename\" : filename, \"time\" : time, \"rr_interval\" : rr_interval, \"annot\" : annotation, \"age\" : age, \"gender\" : gender, \"weight\" : weight}) \\\n",
    "        .to_csv(\"SlpDbData.csv\", index=False)"
   ]
  },
  {
   "cell_type": "code",
   "execution_count": 11,
   "metadata": {},
   "outputs": [
    {
     "data": {
      "text/html": [
       "<div>\n",
       "<style scoped>\n",
       "    .dataframe tbody tr th:only-of-type {\n",
       "        vertical-align: middle;\n",
       "    }\n",
       "\n",
       "    .dataframe tbody tr th {\n",
       "        vertical-align: top;\n",
       "    }\n",
       "\n",
       "    .dataframe thead th {\n",
       "        text-align: right;\n",
       "    }\n",
       "</style>\n",
       "<table border=\"1\" class=\"dataframe\">\n",
       "  <thead>\n",
       "    <tr style=\"text-align: right;\">\n",
       "      <th></th>\n",
       "      <th>filename</th>\n",
       "      <th>time</th>\n",
       "      <th>rr_interval</th>\n",
       "      <th>annot</th>\n",
       "      <th>age</th>\n",
       "      <th>gender</th>\n",
       "      <th>weight</th>\n",
       "    </tr>\n",
       "  </thead>\n",
       "  <tbody>\n",
       "    <tr>\n",
       "      <th>0</th>\n",
       "      <td>slpdb/slp01a</td>\n",
       "      <td>0:00.000</td>\n",
       "      <td>[0.076 0.86  0.892 0.92  0.896 0.904 0.892 0.8...</td>\n",
       "      <td>4</td>\n",
       "      <td>44</td>\n",
       "      <td>M</td>\n",
       "      <td>89</td>\n",
       "    </tr>\n",
       "    <tr>\n",
       "      <th>1</th>\n",
       "      <td>slpdb/slp01a</td>\n",
       "      <td>0:30.000</td>\n",
       "      <td>[0.836 0.824 0.836 0.864 0.9   0.924 0.92  0.9...</td>\n",
       "      <td>4</td>\n",
       "      <td>44</td>\n",
       "      <td>M</td>\n",
       "      <td>89</td>\n",
       "    </tr>\n",
       "    <tr>\n",
       "      <th>2</th>\n",
       "      <td>slpdb/slp01a</td>\n",
       "      <td>1:00.000</td>\n",
       "      <td>[0.964 0.936 0.964 0.956 0.952 0.924 0.904 0.9...</td>\n",
       "      <td>4</td>\n",
       "      <td>44</td>\n",
       "      <td>M</td>\n",
       "      <td>89</td>\n",
       "    </tr>\n",
       "    <tr>\n",
       "      <th>3</th>\n",
       "      <td>slpdb/slp01a</td>\n",
       "      <td>1:30.000</td>\n",
       "      <td>[0.9   0.844 0.848 0.852 0.876 0.92  0.94  0.9...</td>\n",
       "      <td>4</td>\n",
       "      <td>44</td>\n",
       "      <td>M</td>\n",
       "      <td>89</td>\n",
       "    </tr>\n",
       "    <tr>\n",
       "      <th>4</th>\n",
       "      <td>slpdb/slp01a</td>\n",
       "      <td>2:00.000</td>\n",
       "      <td>[1.04  1.036 1.004 0.984 0.972 0.968 0.952 0.9...</td>\n",
       "      <td>4</td>\n",
       "      <td>44</td>\n",
       "      <td>M</td>\n",
       "      <td>89</td>\n",
       "    </tr>\n",
       "    <tr>\n",
       "      <th>...</th>\n",
       "      <td>...</td>\n",
       "      <td>...</td>\n",
       "      <td>...</td>\n",
       "      <td>...</td>\n",
       "      <td>...</td>\n",
       "      <td>...</td>\n",
       "      <td>...</td>\n",
       "    </tr>\n",
       "    <tr>\n",
       "      <th>10149</th>\n",
       "      <td>slpdb/slp67x</td>\n",
       "      <td>1:14:30.000</td>\n",
       "      <td>[0.856 0.848 0.9   0.904 0.872 0.868 0.876 0.8...</td>\n",
       "      <td>W</td>\n",
       "      <td>x</td>\n",
       "      <td>M</td>\n",
       "      <td>x</td>\n",
       "    </tr>\n",
       "    <tr>\n",
       "      <th>10150</th>\n",
       "      <td>slpdb/slp67x</td>\n",
       "      <td>1:15:00.000</td>\n",
       "      <td>[0.8   0.808 0.776 0.776 0.828 0.916 0.92  0.8...</td>\n",
       "      <td>W</td>\n",
       "      <td>x</td>\n",
       "      <td>M</td>\n",
       "      <td>x</td>\n",
       "    </tr>\n",
       "    <tr>\n",
       "      <th>10151</th>\n",
       "      <td>slpdb/slp67x</td>\n",
       "      <td>1:15:30.000</td>\n",
       "      <td>[0.884 0.848 0.848 0.856 0.848 0.856 0.84  0.8...</td>\n",
       "      <td>W</td>\n",
       "      <td>x</td>\n",
       "      <td>M</td>\n",
       "      <td>x</td>\n",
       "    </tr>\n",
       "    <tr>\n",
       "      <th>10152</th>\n",
       "      <td>slpdb/slp67x</td>\n",
       "      <td>1:16:00.000</td>\n",
       "      <td>[0.704 0.696 0.688 0.676 0.668 0.684 0.704 0.7...</td>\n",
       "      <td>W</td>\n",
       "      <td>x</td>\n",
       "      <td>M</td>\n",
       "      <td>x</td>\n",
       "    </tr>\n",
       "    <tr>\n",
       "      <th>10153</th>\n",
       "      <td>slpdb/slp67x</td>\n",
       "      <td>1:16:30.000</td>\n",
       "      <td>[0.708 0.716 0.716 0.708 0.704 0.688 0.676 0.6...</td>\n",
       "      <td>W</td>\n",
       "      <td>x</td>\n",
       "      <td>M</td>\n",
       "      <td>x</td>\n",
       "    </tr>\n",
       "  </tbody>\n",
       "</table>\n",
       "<p>10154 rows × 7 columns</p>\n",
       "</div>"
      ],
      "text/plain": [
       "           filename         time  \\\n",
       "0      slpdb/slp01a     0:00.000   \n",
       "1      slpdb/slp01a     0:30.000   \n",
       "2      slpdb/slp01a     1:00.000   \n",
       "3      slpdb/slp01a     1:30.000   \n",
       "4      slpdb/slp01a     2:00.000   \n",
       "...             ...          ...   \n",
       "10149  slpdb/slp67x  1:14:30.000   \n",
       "10150  slpdb/slp67x  1:15:00.000   \n",
       "10151  slpdb/slp67x  1:15:30.000   \n",
       "10152  slpdb/slp67x  1:16:00.000   \n",
       "10153  slpdb/slp67x  1:16:30.000   \n",
       "\n",
       "                                             rr_interval annot age gender  \\\n",
       "0      [0.076 0.86  0.892 0.92  0.896 0.904 0.892 0.8...     4  44      M   \n",
       "1      [0.836 0.824 0.836 0.864 0.9   0.924 0.92  0.9...     4  44      M   \n",
       "2      [0.964 0.936 0.964 0.956 0.952 0.924 0.904 0.9...     4  44      M   \n",
       "3      [0.9   0.844 0.848 0.852 0.876 0.92  0.94  0.9...     4  44      M   \n",
       "4      [1.04  1.036 1.004 0.984 0.972 0.968 0.952 0.9...     4  44      M   \n",
       "...                                                  ...   ...  ..    ...   \n",
       "10149  [0.856 0.848 0.9   0.904 0.872 0.868 0.876 0.8...     W   x      M   \n",
       "10150  [0.8   0.808 0.776 0.776 0.828 0.916 0.92  0.8...     W   x      M   \n",
       "10151  [0.884 0.848 0.848 0.856 0.848 0.856 0.84  0.8...     W   x      M   \n",
       "10152  [0.704 0.696 0.688 0.676 0.668 0.684 0.704 0.7...     W   x      M   \n",
       "10153  [0.708 0.716 0.716 0.708 0.704 0.688 0.676 0.6...     W   x      M   \n",
       "\n",
       "      weight  \n",
       "0         89  \n",
       "1         89  \n",
       "2         89  \n",
       "3         89  \n",
       "4         89  \n",
       "...      ...  \n",
       "10149      x  \n",
       "10150      x  \n",
       "10151      x  \n",
       "10152      x  \n",
       "10153      x  \n",
       "\n",
       "[10154 rows x 7 columns]"
      ]
     },
     "execution_count": 11,
     "metadata": {},
     "output_type": "execute_result"
    }
   ],
   "source": [
    "data = rcsv(\"data_OLD/SlpDbData.csv\")\n",
    "data"
   ]
  },
  {
   "cell_type": "code",
   "execution_count": 12,
   "metadata": {},
   "outputs": [
    {
     "data": {
      "text/plain": [
       "{'1', '2', '3', '4', 'R', 'W'}"
      ]
     },
     "execution_count": 12,
     "metadata": {},
     "output_type": "execute_result"
    }
   ],
   "source": [
    "set(data.annot) # classes"
   ]
  },
  {
   "cell_type": "code",
   "execution_count": 13,
   "metadata": {},
   "outputs": [
    {
     "data": {
      "text/plain": [
       "'slpdb/slp01a'"
      ]
     },
     "execution_count": 13,
     "metadata": {},
     "output_type": "execute_result"
    }
   ],
   "source": [
    "dt[0][0][\"filename\"][0]"
   ]
  },
  {
   "cell_type": "code",
   "execution_count": 14,
   "metadata": {},
   "outputs": [
    {
     "data": {
      "text/plain": [
       "dtype([('filename', 'O'), ('time', 'O'), ('rr', 'O'), ('annotation', 'O'), ('age', 'O'), ('gender', 'O'), ('weight', 'O')])"
      ]
     },
     "execution_count": 14,
     "metadata": {},
     "output_type": "execute_result"
    }
   ],
   "source": [
    "dt[0].dtype"
   ]
  },
  {
   "cell_type": "code",
   "execution_count": 15,
   "metadata": {},
   "outputs": [
    {
     "data": {
      "text/plain": [
       "array([(array(['slpdb/slp01a'], dtype='<U12'), array(['1:59:30.000'], dtype='<U11'), array([[0.952, 0.976, 0.972, 0.976, 0.952, 0.924, 0.928, 0.936, 0.96 ,\n",
       "               0.972, 1.004, 1.024, 1.048, 1.076, 1.08 , 1.068, 1.036, 1.04 ,\n",
       "               1.036, 1.032, 1.016, 0.98 , 0.996, 0.996, 1.012, 1.012, 1.008,\n",
       "               0.956, 0.964]]), array(['2'], dtype='<U1'), array(['44'], dtype='<U2'), array(['M'], dtype='<U1'), array(['89'], dtype='<U2'))              ],\n",
       "      dtype=[('filename', 'O'), ('time', 'O'), ('rr', 'O'), ('annotation', 'O'), ('age', 'O'), ('gender', 'O'), ('weight', 'O')])"
      ]
     },
     "execution_count": 15,
     "metadata": {},
     "output_type": "execute_result"
    }
   ],
   "source": [
    "dt[238]"
   ]
  },
  {
   "cell_type": "code",
   "execution_count": 16,
   "metadata": {},
   "outputs": [
    {
     "data": {
      "text/plain": [
       "array([(array(['slpdb/slp01a'], dtype='<U12'), array(['0:30.000'], dtype='<U8'), array([[0.836, 0.824, 0.836, 0.864, 0.9  , 0.924, 0.92 , 0.992, 1.016,\n",
       "               1.004, 0.996, 0.948, 0.936, 0.924, 0.92 , 0.92 , 0.888, 0.88 ,\n",
       "               0.892, 0.928, 0.968, 0.96 , 0.904, 0.88 , 0.852, 0.856, 0.864,\n",
       "               0.872, 0.888, 0.952, 1.   , 0.992, 0.988]]), array(['4'], dtype='<U1'), array(['44'], dtype='<U2'), array(['M'], dtype='<U1'), array(['89'], dtype='<U2'))],\n",
       "      dtype=[('filename', 'O'), ('time', 'O'), ('rr', 'O'), ('annotation', 'O'), ('age', 'O'), ('gender', 'O'), ('weight', 'O')])"
      ]
     },
     "execution_count": 16,
     "metadata": {},
     "output_type": "execute_result"
    }
   ],
   "source": [
    "dt[1]"
   ]
  },
  {
   "cell_type": "code",
   "execution_count": 17,
   "metadata": {},
   "outputs": [
    {
     "data": {
      "text/plain": [
       "array([(array(['slpdb/slp03'], dtype='<U11'), array(['5:16:00.000'], dtype='<U11'), array([[0.948, 0.932, 0.888, 0.888, 0.932, 0.936, 0.936, 0.884, 0.876,\n",
       "               0.868, 0.904, 0.952, 0.896, 0.88 , 0.936, 0.956, 0.972, 0.96 ,\n",
       "               0.924, 0.956, 0.984, 0.984, 0.956, 0.92 , 0.928, 0.92 , 0.896,\n",
       "               0.856, 0.812, 0.832, 0.832, 0.848, 0.828]]), array(['2'], dtype='<U1'), array(['51'], dtype='<U2'), array(['M'], dtype='<U1'), array(['152'], dtype='<U3'))],\n",
       "      dtype=[('filename', 'O'), ('time', 'O'), ('rr', 'O'), ('annotation', 'O'), ('age', 'O'), ('gender', 'O'), ('weight', 'O')])"
      ]
     },
     "execution_count": 17,
     "metadata": {},
     "output_type": "execute_result"
    }
   ],
   "source": [
    "dt[1834]"
   ]
  },
  {
   "cell_type": "code",
   "execution_count": 18,
   "metadata": {},
   "outputs": [],
   "source": [
    "from wf_preproc import show_ann_label, get_db, extract_ann"
   ]
  },
  {
   "cell_type": "code",
   "execution_count": 19,
   "metadata": {},
   "outputs": [],
   "source": [
    "from IPython.display import display\n",
    "import matplotlib.pyplot as plt\n",
    "import numpy as np\n",
    "import os\n",
    "import shutil\n",
    "import posixpath\n",
    "import wfdb"
   ]
  },
  {
   "cell_type": "markdown",
   "metadata": {},
   "source": [
    "* \"mitdb\" = **MIT-BIH Arrhythmia Database**\n",
    "* \"slpdb\" = **MIT-BIH Polysomnographic Database**\n",
    "* \"sleep-edfx\" = **MIT-BIH Sleep-EDF Expanded Database** (currently not supported to be read with wfdb.rdrecord)\n",
    "* \"vfdb\" = **MIT-BIH Malignant Ventricular Ectopy Database**\n",
    "* \"nsrdb\" = **MIT-BIH Normal Sinus Rhythm Database**"
   ]
  },
  {
   "cell_type": "code",
   "execution_count": 20,
   "metadata": {},
   "outputs": [
    {
     "name": "stdout",
     "output_type": "stream",
     "text": [
      "DB_NAME: MIT-BIH Polysomnographic Database\n",
      "TOTAL_RECORDS: 18\n"
     ]
    }
   ],
   "source": [
    "dataset = get_db(key=\"slpdb\")\n",
    "db, records = dataset[\"db\"], dataset[\"records\"]"
   ]
  },
  {
   "cell_type": "code",
   "execution_count": 21,
   "metadata": {
    "scrolled": true,
    "tags": []
   },
   "outputs": [
    {
     "data": {
      "text/plain": [
       "['slp01a',\n",
       " 'slp01b',\n",
       " 'slp02a',\n",
       " 'slp02b',\n",
       " 'slp03',\n",
       " 'slp04',\n",
       " 'slp14',\n",
       " 'slp16',\n",
       " 'slp32',\n",
       " 'slp37',\n",
       " 'slp41',\n",
       " 'slp45',\n",
       " 'slp48',\n",
       " 'slp59',\n",
       " 'slp60',\n",
       " 'slp61',\n",
       " 'slp66',\n",
       " 'slp67x']"
      ]
     },
     "execution_count": 21,
     "metadata": {},
     "output_type": "execute_result"
    }
   ],
   "source": [
    "records"
   ]
  },
  {
   "cell_type": "code",
   "execution_count": 22,
   "metadata": {},
   "outputs": [],
   "source": [
    "# extract_ann(list_of_records=records, db=db, ext=\"atr\")"
   ]
  },
  {
   "cell_type": "code",
   "execution_count": 23,
   "metadata": {},
   "outputs": [],
   "source": [
    "# rcsv(\"data/vfdb-rdann.csv\")"
   ]
  },
  {
   "cell_type": "code",
   "execution_count": 24,
   "metadata": {},
   "outputs": [
    {
     "data": {
      "text/html": [
       "<div>\n",
       "<style scoped>\n",
       "    .dataframe tbody tr th:only-of-type {\n",
       "        vertical-align: middle;\n",
       "    }\n",
       "\n",
       "    .dataframe tbody tr th {\n",
       "        vertical-align: top;\n",
       "    }\n",
       "\n",
       "    .dataframe thead th {\n",
       "        text-align: right;\n",
       "    }\n",
       "</style>\n",
       "<table border=\"1\" class=\"dataframe\">\n",
       "  <thead>\n",
       "    <tr style=\"text-align: right;\">\n",
       "      <th></th>\n",
       "      <th>r_name</th>\n",
       "      <th>annot_idx</th>\n",
       "      <th>annot_aux</th>\n",
       "    </tr>\n",
       "  </thead>\n",
       "  <tbody>\n",
       "    <tr>\n",
       "      <th>0</th>\n",
       "      <td>slp01a</td>\n",
       "      <td>1</td>\n",
       "      <td>4</td>\n",
       "    </tr>\n",
       "    <tr>\n",
       "      <th>1</th>\n",
       "      <td>slp01a</td>\n",
       "      <td>7500</td>\n",
       "      <td>4</td>\n",
       "    </tr>\n",
       "    <tr>\n",
       "      <th>2</th>\n",
       "      <td>slp01a</td>\n",
       "      <td>15000</td>\n",
       "      <td>4</td>\n",
       "    </tr>\n",
       "    <tr>\n",
       "      <th>3</th>\n",
       "      <td>slp01a</td>\n",
       "      <td>22500</td>\n",
       "      <td>4</td>\n",
       "    </tr>\n",
       "    <tr>\n",
       "      <th>4</th>\n",
       "      <td>slp01a</td>\n",
       "      <td>30000</td>\n",
       "      <td>4</td>\n",
       "    </tr>\n",
       "    <tr>\n",
       "      <th>...</th>\n",
       "      <td>...</td>\n",
       "      <td>...</td>\n",
       "      <td>...</td>\n",
       "    </tr>\n",
       "    <tr>\n",
       "      <th>10192</th>\n",
       "      <td>slp67x</td>\n",
       "      <td>1117500</td>\n",
       "      <td>W</td>\n",
       "    </tr>\n",
       "    <tr>\n",
       "      <th>10193</th>\n",
       "      <td>slp67x</td>\n",
       "      <td>1125000</td>\n",
       "      <td>W</td>\n",
       "    </tr>\n",
       "    <tr>\n",
       "      <th>10194</th>\n",
       "      <td>slp67x</td>\n",
       "      <td>1132500</td>\n",
       "      <td>W</td>\n",
       "    </tr>\n",
       "    <tr>\n",
       "      <th>10195</th>\n",
       "      <td>slp67x</td>\n",
       "      <td>1140000</td>\n",
       "      <td>W</td>\n",
       "    </tr>\n",
       "    <tr>\n",
       "      <th>10196</th>\n",
       "      <td>slp67x</td>\n",
       "      <td>1147500</td>\n",
       "      <td>W</td>\n",
       "    </tr>\n",
       "  </tbody>\n",
       "</table>\n",
       "<p>10197 rows × 3 columns</p>\n",
       "</div>"
      ],
      "text/plain": [
       "       r_name  annot_idx annot_aux\n",
       "0      slp01a          1         4\n",
       "1      slp01a       7500         4\n",
       "2      slp01a      15000         4\n",
       "3      slp01a      22500         4\n",
       "4      slp01a      30000         4\n",
       "...       ...        ...       ...\n",
       "10192  slp67x    1117500         W\n",
       "10193  slp67x    1125000         W\n",
       "10194  slp67x    1132500         W\n",
       "10195  slp67x    1140000         W\n",
       "10196  slp67x    1147500         W\n",
       "\n",
       "[10197 rows x 3 columns]"
      ]
     },
     "execution_count": 24,
     "metadata": {},
     "output_type": "execute_result"
    }
   ],
   "source": [
    "slpdb_ann = rcsv(\"data/slpdb-rdann.csv\")\n",
    "slpdb_ann"
   ]
  },
  {
   "cell_type": "code",
   "execution_count": 25,
   "metadata": {},
   "outputs": [],
   "source": [
    "# extract_rdheader(list_of_records=records, db=db)"
   ]
  },
  {
   "cell_type": "code",
   "execution_count": 26,
   "metadata": {
    "scrolled": true,
    "tags": []
   },
   "outputs": [
    {
     "data": {
      "text/html": [
       "<div>\n",
       "<style scoped>\n",
       "    .dataframe tbody tr th:only-of-type {\n",
       "        vertical-align: middle;\n",
       "    }\n",
       "\n",
       "    .dataframe tbody tr th {\n",
       "        vertical-align: top;\n",
       "    }\n",
       "\n",
       "    .dataframe thead th {\n",
       "        text-align: right;\n",
       "    }\n",
       "</style>\n",
       "<table border=\"1\" class=\"dataframe\">\n",
       "  <thead>\n",
       "    <tr style=\"text-align: right;\">\n",
       "      <th></th>\n",
       "      <th>r_name</th>\n",
       "      <th>sig_len</th>\n",
       "      <th>sampling_freq</th>\n",
       "      <th>created_at</th>\n",
       "    </tr>\n",
       "  </thead>\n",
       "  <tbody>\n",
       "    <tr>\n",
       "      <th>0</th>\n",
       "      <td>slp01a</td>\n",
       "      <td>1800000</td>\n",
       "      <td>250</td>\n",
       "      <td>1989-01-19 23:07:00</td>\n",
       "    </tr>\n",
       "    <tr>\n",
       "      <th>1</th>\n",
       "      <td>slp01b</td>\n",
       "      <td>2700000</td>\n",
       "      <td>250</td>\n",
       "      <td>1989-01-20 02:14:00</td>\n",
       "    </tr>\n",
       "    <tr>\n",
       "      <th>2</th>\n",
       "      <td>slp02a</td>\n",
       "      <td>2700000</td>\n",
       "      <td>250</td>\n",
       "      <td>1989-02-01 00:49:00</td>\n",
       "    </tr>\n",
       "    <tr>\n",
       "      <th>3</th>\n",
       "      <td>slp02b</td>\n",
       "      <td>2025000</td>\n",
       "      <td>250</td>\n",
       "      <td>1989-02-01 03:59:30</td>\n",
       "    </tr>\n",
       "    <tr>\n",
       "      <th>4</th>\n",
       "      <td>slp03</td>\n",
       "      <td>5400000</td>\n",
       "      <td>250</td>\n",
       "      <td>1989-02-09 23:12:00</td>\n",
       "    </tr>\n",
       "    <tr>\n",
       "      <th>5</th>\n",
       "      <td>slp04</td>\n",
       "      <td>5400000</td>\n",
       "      <td>250</td>\n",
       "      <td>1989-02-26 00:05:30</td>\n",
       "    </tr>\n",
       "    <tr>\n",
       "      <th>6</th>\n",
       "      <td>slp14</td>\n",
       "      <td>5400000</td>\n",
       "      <td>250</td>\n",
       "      <td>1989-03-30 23:48:00</td>\n",
       "    </tr>\n",
       "    <tr>\n",
       "      <th>7</th>\n",
       "      <td>slp16</td>\n",
       "      <td>5400000</td>\n",
       "      <td>250</td>\n",
       "      <td>1989-04-06 23:48:00</td>\n",
       "    </tr>\n",
       "    <tr>\n",
       "      <th>8</th>\n",
       "      <td>slp32</td>\n",
       "      <td>4800000</td>\n",
       "      <td>250</td>\n",
       "      <td>1989-07-20 01:05:30</td>\n",
       "    </tr>\n",
       "    <tr>\n",
       "      <th>9</th>\n",
       "      <td>slp37</td>\n",
       "      <td>5250000</td>\n",
       "      <td>250</td>\n",
       "      <td>1989-08-10 00:08:30</td>\n",
       "    </tr>\n",
       "    <tr>\n",
       "      <th>10</th>\n",
       "      <td>slp41</td>\n",
       "      <td>5850000</td>\n",
       "      <td>250</td>\n",
       "      <td>1989-08-24 23:51:30</td>\n",
       "    </tr>\n",
       "    <tr>\n",
       "      <th>11</th>\n",
       "      <td>slp45</td>\n",
       "      <td>5700000</td>\n",
       "      <td>250</td>\n",
       "      <td>1989-08-31 00:15:00</td>\n",
       "    </tr>\n",
       "    <tr>\n",
       "      <th>12</th>\n",
       "      <td>slp48</td>\n",
       "      <td>5700000</td>\n",
       "      <td>250</td>\n",
       "      <td>1989-09-07 00:20:30</td>\n",
       "    </tr>\n",
       "    <tr>\n",
       "      <th>13</th>\n",
       "      <td>slp59</td>\n",
       "      <td>3600000</td>\n",
       "      <td>250</td>\n",
       "      <td>1989-10-27 00:21:30</td>\n",
       "    </tr>\n",
       "    <tr>\n",
       "      <th>14</th>\n",
       "      <td>slp60</td>\n",
       "      <td>5325000</td>\n",
       "      <td>250</td>\n",
       "      <td>1989-11-09 00:11:30</td>\n",
       "    </tr>\n",
       "    <tr>\n",
       "      <th>15</th>\n",
       "      <td>slp61</td>\n",
       "      <td>5550000</td>\n",
       "      <td>250</td>\n",
       "      <td>1989-11-16 00:06:00</td>\n",
       "    </tr>\n",
       "    <tr>\n",
       "      <th>16</th>\n",
       "      <td>slp66</td>\n",
       "      <td>3300000</td>\n",
       "      <td>250</td>\n",
       "      <td>1990-01-04 00:23:30</td>\n",
       "    </tr>\n",
       "    <tr>\n",
       "      <th>17</th>\n",
       "      <td>slp67x</td>\n",
       "      <td>1155000</td>\n",
       "      <td>250</td>\n",
       "      <td>1990-01-04 01:06:00</td>\n",
       "    </tr>\n",
       "  </tbody>\n",
       "</table>\n",
       "</div>"
      ],
      "text/plain": [
       "    r_name  sig_len  sampling_freq           created_at\n",
       "0   slp01a  1800000            250  1989-01-19 23:07:00\n",
       "1   slp01b  2700000            250  1989-01-20 02:14:00\n",
       "2   slp02a  2700000            250  1989-02-01 00:49:00\n",
       "3   slp02b  2025000            250  1989-02-01 03:59:30\n",
       "4    slp03  5400000            250  1989-02-09 23:12:00\n",
       "5    slp04  5400000            250  1989-02-26 00:05:30\n",
       "6    slp14  5400000            250  1989-03-30 23:48:00\n",
       "7    slp16  5400000            250  1989-04-06 23:48:00\n",
       "8    slp32  4800000            250  1989-07-20 01:05:30\n",
       "9    slp37  5250000            250  1989-08-10 00:08:30\n",
       "10   slp41  5850000            250  1989-08-24 23:51:30\n",
       "11   slp45  5700000            250  1989-08-31 00:15:00\n",
       "12   slp48  5700000            250  1989-09-07 00:20:30\n",
       "13   slp59  3600000            250  1989-10-27 00:21:30\n",
       "14   slp60  5325000            250  1989-11-09 00:11:30\n",
       "15   slp61  5550000            250  1989-11-16 00:06:00\n",
       "16   slp66  3300000            250  1990-01-04 00:23:30\n",
       "17  slp67x  1155000            250  1990-01-04 01:06:00"
      ]
     },
     "execution_count": 26,
     "metadata": {},
     "output_type": "execute_result"
    }
   ],
   "source": [
    "slpdb_hea = rcsv(\"data/slpdb-rdheader.csv\")\n",
    "slpdb_hea"
   ]
  },
  {
   "cell_type": "code",
   "execution_count": 27,
   "metadata": {},
   "outputs": [],
   "source": [
    "record = wfdb.rdrecord(records[4], channels=[0, 1], pn_dir=db)"
   ]
  },
  {
   "cell_type": "code",
   "execution_count": 28,
   "metadata": {},
   "outputs": [
    {
     "data": {
      "image/png": "[encoded data removed]",
      "text/plain": [
       "<Figure size 640x480 with 2 Axes>"
      ]
     },
     "metadata": {},
     "output_type": "display_data"
    },
    {
     "data": {
      "text/plain": [
       "{'record_name': 'slp03',\n",
       " 'n_sig': 2,\n",
       " 'fs': 250,\n",
       " 'counter_freq': 0.033333333,\n",
       " 'base_counter': 160.0,\n",
       " 'sig_len': 5400000,\n",
       " 'base_time': datetime.time(23, 12),\n",
       " 'base_date': datetime.date(1989, 2, 9),\n",
       " 'comments': ['51 M 152 17-02-89'],\n",
       " 'sig_name': ['ECG', 'BP'],\n",
       " 'p_signal': array([[ 2.80000000e-02,  9.86885893e+01],\n",
       "        [ 2.60000000e-02,  9.86885893e+01],\n",
       "        [-6.00000000e-03,  9.82295726e+01],\n",
       "        ...,\n",
       "        [ 3.20000000e-02,  1.61573876e+02],\n",
       "        [ 2.00000000e-02,  1.63868960e+02],\n",
       "        [ 4.00000000e-03,  1.65246010e+02]]),\n",
       " 'd_signal': None,\n",
       " 'e_p_signal': None,\n",
       " 'e_d_signal': None,\n",
       " 'file_name': ['slp03.dat', 'slp03.dat'],\n",
       " 'fmt': ['212', '212'],\n",
       " 'samps_per_frame': [1, 1],\n",
       " 'skew': [None, None],\n",
       " 'byte_offset': [None, None],\n",
       " 'adc_gain': [-500.0, 4.35714],\n",
       " 'baseline': [0, -456],\n",
       " 'units': ['mV', 'mmHg'],\n",
       " 'adc_res': [12, 12],\n",
       " 'adc_zero': [0, 0],\n",
       " 'init_value': [-14, -26],\n",
       " 'checksum': [35685, 59283],\n",
       " 'block_size': [0, 0]}"
      ]
     },
     "execution_count": 28,
     "metadata": {},
     "output_type": "execute_result"
    }
   ],
   "source": [
    "wfdb.plot_wfdb(record=record, title=\"sample\")\n",
    "record.__dict__"
   ]
  },
  {
   "cell_type": "code",
   "execution_count": null,
   "metadata": {},
   "outputs": [],
   "source": []
  },
  {
   "cell_type": "code",
   "execution_count": null,
   "metadata": {},
   "outputs": [],
   "source": []
  },
  {
   "cell_type": "code",
   "execution_count": null,
   "metadata": {},
   "outputs": [],
   "source": []
  },
  {
   "cell_type": "code",
   "execution_count": 29,
   "metadata": {},
   "outputs": [
    {
     "data": {
      "image/png": "[encoded data removed]",
      "text/plain": [
       "<Figure size 640x480 with 4 Axes>"
      ]
     },
     "metadata": {},
     "output_type": "display_data"
    },
    {
     "data": {
      "text/plain": [
       "{'record_name': 'slp01a',\n",
       " 'n_sig': 4,\n",
       " 'fs': 250,\n",
       " 'counter_freq': 0.033333333,\n",
       " 'base_counter': 94.0,\n",
       " 'sig_len': 1800000,\n",
       " 'base_time': datetime.time(23, 7),\n",
       " 'base_date': datetime.date(1989, 1, 19),\n",
       " 'comments': ['44 M 89 32-01-89'],\n",
       " 'sig_name': ['ECG', 'BP', 'EEG (C4-A1)', 'Resp (sum)'],\n",
       " 'p_signal': array([[ 8.50000000e-02,  4.79302103e+01, -3.91912908e-02,\n",
       "         -2.60869565e-01],\n",
       "        [ 8.00000000e-02,  4.77209080e+01, -3.88802488e-02,\n",
       "         -2.66666667e-01],\n",
       "        [ 1.25000000e-01,  4.79302103e+01, -3.85692068e-02,\n",
       "         -2.60869565e-01],\n",
       "        ...,\n",
       "        [ 2.30000000e-01,  7.86976378e+01,  1.47278383e-01,\n",
       "          3.82608696e-01],\n",
       "        [ 2.35000000e-01,  8.20464735e+01,  1.46811820e-01,\n",
       "          3.81159420e-01],\n",
       "        [ 2.25000000e-01,  8.56046113e+01,  1.42612753e-01,\n",
       "          3.76811594e-01]]),\n",
       " 'd_signal': None,\n",
       " 'e_p_signal': None,\n",
       " 'e_d_signal': None,\n",
       " 'file_name': ['slp01a.dat', 'slp01a.dat', 'slp01a.dat', 'slp01a.dat'],\n",
       " 'fmt': ['212', '212', '212', '212'],\n",
       " 'samps_per_frame': [1, 1, 1, 1],\n",
       " 'skew': [None, None, None, None],\n",
       " 'byte_offset': [None, None, None, None],\n",
       " 'adc_gain': [-200.0, 4.77778, -6430.0, 690.0],\n",
       " 'baseline': [0, -477, 0, 0],\n",
       " 'units': ['mV', 'mmHg', 'mV', 'l'],\n",
       " 'adc_res': [12, 12, 12, 12],\n",
       " 'adc_zero': [0, 0, 0, 0],\n",
       " 'init_value': [-17, -248, 252, -180],\n",
       " 'checksum': [59911, 19332, 49594, 912],\n",
       " 'block_size': [0, 0, 0, 0]}"
      ]
     },
     "execution_count": 29,
     "metadata": {},
     "output_type": "execute_result"
    }
   ],
   "source": [
    "record = wfdb.rdrecord(records[0], channels=[0, 1, 2, 3] if db==\"slpdb\" else [0, 1], pn_dir=db)\n",
    "    # channels == index of sig_name, for sleepdb, 0 : ECG/mV, 1: BloodPressure/mmHg, 2: EEG (C4-A1)/mV, 3: Resp (sum)/L\n",
    "    # channels == index of sig_name, for mitdb, 0 : MLII/mV, 1: V5/mV\n",
    "wfdb.plot_wfdb(record=record, title=\"sample\")\n",
    "record.__dict__"
   ]
  },
  {
   "cell_type": "code",
   "execution_count": 30,
   "metadata": {},
   "outputs": [],
   "source": [
    "r_signals = record.p_signal.T"
   ]
  },
  {
   "cell_type": "code",
   "execution_count": 31,
   "metadata": {},
   "outputs": [
    {
     "data": {
      "text/plain": [
       "array([0.085, 0.08 , 0.125, ..., 0.23 , 0.235, 0.225])"
      ]
     },
     "execution_count": 31,
     "metadata": {},
     "output_type": "execute_result"
    }
   ],
   "source": [
    "r_signals[0]"
   ]
  },
  {
   "cell_type": "code",
   "execution_count": 32,
   "metadata": {},
   "outputs": [
    {
     "data": {
      "text/plain": [
       "array([47.93021027, 47.72090804, 47.93021027, ..., 78.69763782,\n",
       "       82.04647347, 85.60461135])"
      ]
     },
     "execution_count": 32,
     "metadata": {},
     "output_type": "execute_result"
    }
   ],
   "source": [
    "r_signals[1]"
   ]
  },
  {
   "cell_type": "code",
   "execution_count": 33,
   "metadata": {},
   "outputs": [
    {
     "data": {
      "text/plain": [
       "(1800000, 4)"
      ]
     },
     "execution_count": 33,
     "metadata": {},
     "output_type": "execute_result"
    }
   ],
   "source": [
    "record.p_signal.shape"
   ]
  },
  {
   "cell_type": "markdown",
   "metadata": {},
   "source": [
    "* .st --> sleep stages and apnea annotations: [link](https://archive.physionet.org/physiobank/database/slpdb/slpdb.shtml) (note: st stands for sleep telemetry)\n",
    "* .ecg --> heart beat annotations: [link](https://archive.physionet.org/physiobank/annotations.shtml)\n",
    "* .atr\n",
    "* HRV analysis pkg Python [link](https://github.com/Aura-healthcare/hrv-analysis)"
   ]
  },
  {
   "cell_type": "code",
   "execution_count": 34,
   "metadata": {},
   "outputs": [],
   "source": [
    "x = records[0]"
   ]
  },
  {
   "cell_type": "code",
   "execution_count": 35,
   "metadata": {
    "scrolled": true,
    "tags": []
   },
   "outputs": [],
   "source": [
    "annot = wfdb.rdann(record_name=x, sampto=1000, extension=\"ecg\" if db==\"slpdb\" else \"atr\", pn_dir=db)"
   ]
  },
  {
   "cell_type": "code",
   "execution_count": 36,
   "metadata": {
    "scrolled": true,
    "tags": []
   },
   "outputs": [
    {
     "name": "stdout",
     "output_type": "stream",
     "text": [
      "slp16 [195000 202500 210000 217500 225000 232500 240000 247500 255000 262500\n",
      " 270000 277500 285000 292500 300000 307500 315000 322500 330000 337500\n",
      " 345000 352500 360000 367500 375000 382500 390000 397500 405000 412500\n",
      " 420000 427500 435000 442500 450000 457500 465000 472500 480000 487500\n",
      " 495000 502500 510000 517500 525000 532500 540000 547500 555000 562500\n",
      " 570000 577500 585000 592500 600000 607500 615000 622500 630000 637500\n",
      " 645000 652500 660000 667500 675000 682500 690000 697500 705000 712500\n",
      " 720000 727500 735000 742500 750000 757500 765000 772500 780000 787500\n",
      " 795000 802500 810000 817500 825000 832500 840000 847500 855000 862500\n",
      " 870000 877500 885000 892500 900000 907500 915000 922500 930000 937500\n",
      " 945000 952500 960000 967500 975000 982500 990000 997500] ['W', 'W', 'W', 'W', 'W', 'W', 'W', 'W', 'W', 'W', 'W', 'W', 'W', 'W', '1 HA', 'W HA X', '1', '1 HA HA', 'W', '1 HA HA', 'W X CAA', '1 CAA', 'W X CAA', '1 CAA', '1 X', '1 X', '1 X', '1 X', '1 X', 'W', 'W', '1 X', '1 X X', '1 X', '1 X', '1 X', '1 X', '1 X X', '1 X', '1 X X', '1 X', '1 X', '1 X', '1 X', 'W X', 'W', 'W', 'W', 'W HA', 'W', 'W', 'W', 'W', 'W', 'W', 'W', '1 H', 'W', 'W', 'W', 'W', 'W', 'W', 'W', 'W', 'W', 'W HA', 'W X X', '1 X', '1 X', '1 X X', '1 X', '1 X', '1 X', '1 X X', 'W', '1 X', '1 X', '1 X X', '1 X', '1 X', '1 X', '1 X', '1 X', '1 X', '1 X', '1 X', '1 X', '1 X', '1 X', '1 X', '1 X X', '1 X', '1 X', '1 X', '1 X', '2 X', '2 X', '2 X', '2 X', '1 X', '1 X', '1 X', '1 X', '1 X', '1 X', '1 X', '1 X']\n",
      "slp59 [165000 172500 180000 187500 195000 202500 210000 217500 225000 232500\n",
      " 240000 247500 255000 262500 270000 277500 285000 292500 300000 307500\n",
      " 315000 322500 330000 337500 345000 352500 360000 367500 375000 382500\n",
      " 390000 397500 405000 412500 420000 427500 435000 442500 450000 457500\n",
      " 465000 472500 480000 487500 495000 502500 510000 517500 525000 532500\n",
      " 540000 547500 555000 562500 570000 577500 585000 592500 600000 607500\n",
      " 615000 622500 630000 637500 645000 652500 660000 667500 675000 682500\n",
      " 690000 697500 705000 712500 720000 727500 735000 742500 750000 757500\n",
      " 765000 772500 780000 787500 795000 802500 810000 817500 825000 832500\n",
      " 840000 847500 855000 862500 870000 877500 885000 892500 900000 907500\n",
      " 915000 922500 930000 937500 945000 952500 960000 967500 975000 982500\n",
      " 990000 997500] ['W', 'W', 'W', 'W', 'W', 'W', 'W', 'W', 'W', 'W', 'W', 'W', 'W', 'W', 'W', 'W', 'W', 'W', 'W', 'W', 'W', 'W', 'W', 'W', 'W', 'W', 'W', 'W', 'W', 'W', 'W', 'W', 'W', 'W', 'W', 'W HA', '1 HA X', 'W HA', '1 X', '1 X', '1 X', 'W X', '1 HA CAA', '1 HA', 'W CAA', '1 CAA', 'W HA X', 'W HA', '1 X', '1 X X', '1 X', '1 X', '1 CAA', '1 X', '2 X', '1 CAA', '1 X', '1 X', '1 X', '1 X', '1 X', '2 X', '2', '1 X', '1 X', '1 X X', '1 X', '1', '1 X', '1 X', '1 X', '1 X', '1 X', '1', '1 X', '1 X', 'W HA', '1 HA', '1 HA X', '1 HA', '1 HA', '1 X X', '1 X', '1 X', 'W X', 'W X', '1 X', '1 X', '1 X', '1 HA', '1 X', '1 X', '1 X', '1 X', '1 X', '1 X', 'W', 'W', 'W', 'W', 'W', 'W', 'W', 'W', 'W', 'W', 'W', 'W', 'W', 'W', 'W', 'W']\n",
      "slp61 [150000 157500 165000 172500 180000 187500 195000 202500 210000 217500\n",
      " 225000 232500 240000 247500 255000 262500 270000 277500 285000 292500\n",
      " 300000 307500 315000 322500 330000 337500 345000 352500 360000 367500\n",
      " 375000 382500 390000 397500 405000 412500 420000 427500 435000 442500\n",
      " 450000 457500 465000 472500 480000 487500 495000 502500 510000 517500\n",
      " 525000 532500 540000 547500 555000 562500 570000 577500 585000 592500\n",
      " 600000 607500 615000 622500 630000 637500 645000 652500 660000 667500\n",
      " 675000 682500 690000 697500 705000 712500 720000 727500 735000 742500\n",
      " 750000 757500 765000 772500 780000 787500 795000 802500 810000 817500\n",
      " 825000 832500 840000 847500 855000 862500 870000 877500 885000 892500\n",
      " 900000 907500 915000 922500 930000 937500 945000 952500 960000 967500\n",
      " 975000 982500 990000 997500] ['W', 'W', 'W', 'W', 'W', 'W', 'W', 'W', 'W', 'W', 'W', 'W', '1', '1', '1', '2', '1', 'W', 'W', '2 OA', '2 OA', '2', '2 OA', '2 OA', '2', '2 OA', '2 OA', '2 OA', '2 OA', '2', '2 OA', '2 OA', '2', '2 OA', '2 OA', '2 OA', '2', '2 OA', '2 OA', '2 OA', '2 OA', '2 OA', '2', '2 OA', '2 OA', '2 OA', '2', '2 OA', '2 OA', '2 OA', '2 OA', '2 OA', '2', '2 OA', '2 OA', '2', '2 OA', '2 OA', '2 OA', '2 OA', '2', '2 OA', '2 OA', '2 OA', '2 OA', '2 OA', '2', '2 OA', '2 OA', '2 OA', '2 OA', '2', '2 OA', '2 OA', '2 OA', '2', '2 OA', '2 OA', 'W', 'W', '1', '1 OA', 'W', '1 OA', '1', '2 OA', '2', '1 OA', '2 OA', '2', '2 OA', '2', '2 OA', '2 OA', '2 OA', '2', '2 OA', '2', '2 OA', '2 OA', '2', '2', '2 OA', '2', '2 OA', '2 OA', '2', '2 OA', '2', '2 OA', '2', '2 OA', '2', '2 OA']\n"
     ]
    }
   ],
   "source": [
    "for x in [\"slp16\", \"slp59\", \"slp61\"]:\n",
    "    annot = wfdb.rdann(record_name=x, sampto=1000000, extension=\"st\" if db==\"slpdb\" else \"atr\", pn_dir=db)\n",
    "    print(x, annot.__dict__[\"sample\"], annot.__dict__[\"aux_note\"])"
   ]
  },
  {
   "cell_type": "code",
   "execution_count": 37,
   "metadata": {
    "scrolled": true,
    "tags": []
   },
   "outputs": [],
   "source": [
    "# for i in records:\n",
    "#     annot = wfdb.rdann(record_name=i, sampto=1800000, extension=\"st\" if db==\"slpdb\" else \"atr\", pn_dir=db)\n",
    "#     print(i, annot.__dict__[\"aux_note\"])"
   ]
  },
  {
   "cell_type": "code",
   "execution_count": 38,
   "metadata": {
    "scrolled": true,
    "tags": []
   },
   "outputs": [],
   "source": [
    "# wfdb.rdann(records[0], extension=\"ecg\" if db==\"sleepdb\" else \"atr\", pn_dir=db).__dict__"
   ]
  },
  {
   "cell_type": "code",
   "execution_count": 39,
   "metadata": {
    "scrolled": true,
    "tags": []
   },
   "outputs": [],
   "source": [
    "# for i in records:\n",
    "#     record = wfdb.rdrecord(i, sampto=100000, pn_dir=db)\n",
    "#     annotation = wfdb.rdann(record_name=i, extension=\"ecg\" if db==\"sleepdb\" else \"atr\", sampto=100000, pn_dir=db)\n",
    "#     print(set(annotation.__dict__[\"symbol\"]))"
   ]
  },
  {
   "cell_type": "code",
   "execution_count": 40,
   "metadata": {
    "tags": []
   },
   "outputs": [
    {
     "data": {
      "image/png": "[encoded data removed]",
      "text/plain": [
       "<Figure size 1000x1000 with 4 Axes>"
      ]
     },
     "metadata": {},
     "output_type": "display_data"
    }
   ],
   "source": [
    "# sampto from RECORD and ANNOTATION must be the same\n",
    "wfdb.plot_wfdb(record=record, annotation=annot, title='x', plot_sym=True, figsize=(10, 10))"
   ]
  },
  {
   "cell_type": "markdown",
   "metadata": {},
   "source": [
    "### Processing"
   ]
  },
  {
   "cell_type": "code",
   "execution_count": 41,
   "metadata": {},
   "outputs": [],
   "source": [
    "import wfdb.processing"
   ]
  },
  {
   "cell_type": "markdown",
   "metadata": {},
   "source": [
    "* all intervals"
   ]
  },
  {
   "cell_type": "code",
   "execution_count": 90,
   "metadata": {},
   "outputs": [
    {
     "data": {
      "text/plain": [
       "(array(['slpdb/slp01a'], dtype='<U12'), array(['1:30.000'], dtype='<U8'), array([[0.9  , 0.844, 0.848, 0.852, 0.876, 0.92 , 0.94 , 0.992, 1.028,\n",
       "        1.056, 1.052, 1.012, 0.984, 0.992, 1.   , 1.   , 0.968, 0.928,\n",
       "        0.9  , 0.9  , 0.872, 0.848, 0.844, 0.848, 0.876, 0.932, 0.936,\n",
       "        0.952, 0.996, 0.992, 0.976, 1.024]]), array(['4'], dtype='<U1'), array(['44'], dtype='<U2'), array(['M'], dtype='<U1'), array(['89'], dtype='<U2'))"
      ]
     },
     "execution_count": 90,
     "metadata": {},
     "output_type": "execute_result"
    }
   ],
   "source": [
    "dt[3][0]"
   ]
  },
  {
   "cell_type": "code",
   "execution_count": 81,
   "metadata": {},
   "outputs": [
    {
     "data": {
      "text/plain": [
       "array([0.076, 0.86 , 0.892, ..., 1.008, 0.956, 0.964])"
      ]
     },
     "execution_count": 81,
     "metadata": {},
     "output_type": "execute_result"
    }
   ],
   "source": [
    "rr_interval = wfdb.processing.ann2rr(records[0], pn_dir=db, extension=\"ecg\", as_array=True, format='s') # 's' = seconds\n",
    "rr_interval"
   ]
  },
  {
   "cell_type": "code",
   "execution_count": 88,
   "metadata": {
    "scrolled": true,
    "tags": []
   },
   "outputs": [
    {
     "data": {
      "text/plain": [
       "array([0.076, 0.86 , 0.892, 0.92 , 0.896, 0.904, 0.892, 0.884, 0.908,\n",
       "       0.884, 0.86 , 0.864, 0.852, 0.868, 0.908, 0.948, 0.98 , 0.968,\n",
       "       0.956, 0.988, 0.996, 0.984, 0.956, 0.924, 0.936, 0.94 , 0.948,\n",
       "       0.944, 0.904, 0.888, 0.896, 0.912, 0.904, 0.872, 0.836, 0.824,\n",
       "       0.836, 0.864, 0.9  , 0.924, 0.92 , 0.992, 1.016, 1.004, 0.996,\n",
       "       0.948, 0.936, 0.924, 0.92 , 0.92 , 0.888, 0.88 , 0.892, 0.928,\n",
       "       0.968, 0.96 , 0.904, 0.88 , 0.852, 0.856])"
      ]
     },
     "execution_count": 88,
     "metadata": {},
     "output_type": "execute_result"
    }
   ],
   "source": [
    "rr_interval[:60]"
   ]
  },
  {
   "cell_type": "code",
   "execution_count": 43,
   "metadata": {
    "scrolled": true,
    "tags": []
   },
   "outputs": [
    {
     "data": {
      "text/plain": [
       "[789.4736842105264,\n",
       " 69.76744186046511,\n",
       " 67.26457399103138,\n",
       " 65.21739130434783,\n",
       " 66.96428571428571,\n",
       " 66.3716814159292,\n",
       " 67.26457399103138,\n",
       " 67.87330316742081,\n",
       " 66.07929515418502,\n",
       " 67.87330316742081,\n",
       " 69.76744186046511,\n",
       " 69.44444444444444,\n",
       " 70.4225352112676,\n",
       " 69.12442396313364,\n",
       " 66.07929515418502,\n",
       " 63.29113924050633,\n",
       " 61.224489795918366,\n",
       " 61.98347107438017,\n",
       " 62.761506276150634,\n",
       " 60.72874493927126,\n",
       " 60.24096385542169,\n",
       " 60.97560975609756,\n",
       " 62.761506276150634,\n",
       " 64.93506493506493,\n",
       " 64.1025641025641,\n",
       " 63.829787234042556,\n",
       " 63.29113924050633,\n",
       " 63.55932203389831,\n",
       " 66.3716814159292,\n",
       " 67.56756756756756,\n",
       " 66.96428571428571,\n",
       " 65.78947368421052,\n",
       " 66.3716814159292,\n",
       " 68.80733944954129,\n",
       " 71.77033492822967,\n",
       " 72.81553398058253,\n",
       " 71.77033492822967,\n",
       " 69.44444444444444,\n",
       " 66.66666666666667,\n",
       " 64.93506493506493,\n",
       " 65.21739130434783,\n",
       " 60.483870967741936,\n",
       " 59.05511811023622,\n",
       " 59.7609561752988,\n",
       " 60.24096385542169,\n",
       " 63.29113924050633,\n",
       " 64.1025641025641,\n",
       " 64.93506493506493,\n",
       " 65.21739130434783,\n",
       " 65.21739130434783,\n",
       " 67.56756756756756,\n",
       " 68.18181818181819,\n",
       " 67.26457399103138,\n",
       " 64.6551724137931,\n",
       " 61.98347107438017,\n",
       " 62.5,\n",
       " 66.3716814159292,\n",
       " 68.18181818181819,\n",
       " 70.4225352112676,\n",
       " 70.09345794392523,\n",
       " 69.44444444444444,\n",
       " 68.80733944954129,\n",
       " 67.56756756756756,\n",
       " 63.02521008403362,\n",
       " 60.0,\n",
       " 60.483870967741936,\n",
       " 60.72874493927126,\n",
       " 62.24066390041494,\n",
       " 64.1025641025641,\n",
       " 62.24066390041494,\n",
       " 62.761506276150634,\n",
       " 63.02521008403362,\n",
       " 64.93506493506493,\n",
       " 66.3716814159292,\n",
       " 65.50218340611353,\n",
       " 65.78947368421052,\n",
       " 64.93506493506493,\n",
       " 64.93506493506493,\n",
       " 68.80733944954129,\n",
       " 70.4225352112676,\n",
       " 71.77033492822967,\n",
       " 72.46376811594203,\n",
       " 70.75471698113208,\n",
       " 68.18181818181819,\n",
       " 67.26457399103138,\n",
       " 66.66666666666667,\n",
       " 63.55932203389831,\n",
       " 61.7283950617284,\n",
       " 61.47540983606557,\n",
       " 63.02521008403362,\n",
       " 63.02521008403362,\n",
       " 61.47540983606557,\n",
       " 61.224489795918366,\n",
       " 61.47540983606557,\n",
       " 64.6551724137931,\n",
       " 66.3716814159292,\n",
       " 66.3716814159292,\n",
       " 65.21739130434783,\n",
       " 64.93506493506493,\n",
       " 66.66666666666667,\n",
       " 71.09004739336493,\n",
       " 70.75471698113208,\n",
       " 70.4225352112676,\n",
       " 68.4931506849315,\n",
       " 65.21739130434783,\n",
       " 63.829787234042556,\n",
       " 60.483870967741936,\n",
       " 58.36575875486381,\n",
       " 56.81818181818181,\n",
       " 57.03422053231939,\n",
       " 59.28853754940712,\n",
       " 60.97560975609756,\n",
       " 60.483870967741936,\n",
       " 60.0,\n",
       " 60.0,\n",
       " 61.98347107438017,\n",
       " 64.6551724137931,\n",
       " 66.66666666666667,\n",
       " 66.66666666666667,\n",
       " 68.80733944954129,\n",
       " 70.75471698113208,\n",
       " 71.09004739336493,\n",
       " 70.75471698113208,\n",
       " 68.4931506849315,\n",
       " 64.37768240343347,\n",
       " 64.1025641025641,\n",
       " 63.02521008403362,\n",
       " 60.24096385542169,\n",
       " 60.483870967741936,\n",
       " 61.47540983606557,\n",
       " 58.59375,\n",
       " 57.69230769230769,\n",
       " 57.915057915057915,\n",
       " 59.7609561752988,\n",
       " 60.97560975609756,\n",
       " 61.7283950617284,\n",
       " 61.98347107438017,\n",
       " 63.02521008403362,\n",
       " 63.55932203389831,\n",
       " 65.50218340611353,\n",
       " 64.6551724137931,\n",
       " 63.29113924050633,\n",
       " 64.1025641025641,\n",
       " 64.1025641025641,\n",
       " 65.21739130434783,\n",
       " 66.07929515418502,\n",
       " 65.78947368421052,\n",
       " 65.21739130434783,\n",
       " 66.07929515418502,\n",
       " 66.66666666666667,\n",
       " 68.18181818181819,\n",
       " 66.66666666666667,\n",
       " 65.50218340611353,\n",
       " 63.29113924050633,\n",
       " 63.29113924050633,\n",
       " 64.37768240343347,\n",
       " 64.93506493506493,\n",
       " 63.829787234042556,\n",
       " 61.47540983606557,\n",
       " 60.97560975609756,\n",
       " 62.761506276150634,\n",
       " 64.93506493506493,\n",
       " 64.93506493506493,\n",
       " 65.50218340611353,\n",
       " 65.78947368421052,\n",
       " 66.3716814159292,\n",
       " 67.56756756756756,\n",
       " 66.3716814159292,\n",
       " 66.96428571428571,\n",
       " 70.09345794392523,\n",
       " 69.76744186046511,\n",
       " 70.75471698113208,\n",
       " 69.44444444444444,\n",
       " 67.26457399103138,\n",
       " 64.6551724137931,\n",
       " 63.55932203389831,\n",
       " 63.02521008403362,\n",
       " 64.6551724137931,\n",
       " 62.5,\n",
       " 61.47540983606557,\n",
       " 60.483870967741936,\n",
       " 62.761506276150634,\n",
       " 64.6551724137931,\n",
       " 64.93506493506493,\n",
       " 64.93506493506493,\n",
       " 64.6551724137931,\n",
       " 65.21739130434783,\n",
       " 66.07929515418502,\n",
       " 66.3716814159292,\n",
       " 63.829787234042556,\n",
       " 63.02521008403362,\n",
       " 63.02521008403362,\n",
       " 64.37768240343347,\n",
       " 66.07929515418502,\n",
       " 67.26457399103138,\n",
       " 70.09345794392523,\n",
       " 72.46376811594203,\n",
       " 74.25742574257426,\n",
       " 73.52941176470588,\n",
       " 71.42857142857143,\n",
       " 66.07929515418502,\n",
       " 61.224489795918366,\n",
       " 58.13953488372093,\n",
       " 59.05511811023622,\n",
       " 59.7609561752988,\n",
       " 58.8235294117647,\n",
       " 60.97560975609756,\n",
       " 60.483870967741936,\n",
       " 63.29113924050633,\n",
       " 66.07929515418502,\n",
       " 65.21739130434783,\n",
       " 66.07929515418502,\n",
       " 66.07929515418502,\n",
       " 65.21739130434783,\n",
       " 65.50218340611353,\n",
       " 64.6551724137931,\n",
       " 63.29113924050633,\n",
       " 62.761506276150634,\n",
       " 63.29113924050633,\n",
       " 65.21739130434783,\n",
       " 66.07929515418502,\n",
       " 63.829787234042556,\n",
       " 63.29113924050633,\n",
       " 64.1025641025641,\n",
       " 65.78947368421052,\n",
       " 65.21739130434783,\n",
       " 67.87330316742081,\n",
       " 67.56756756756756,\n",
       " 68.18181818181819,\n",
       " 67.87330316742081,\n",
       " 64.1025641025641,\n",
       " 61.47540983606557,\n",
       " 60.0,\n",
       " 60.72874493927126,\n",
       " 61.98347107438017,\n",
       " 60.72874493927126,\n",
       " 60.483870967741936,\n",
       " 60.72874493927126,\n",
       " 61.98347107438017,\n",
       " 64.93506493506493,\n",
       " 65.21739130434783,\n",
       " 64.6551724137931,\n",
       " 64.37768240343347,\n",
       " 64.37768240343347,\n",
       " 65.78947368421052,\n",
       " 66.07929515418502,\n",
       " 65.78947368421052,\n",
       " 65.50218340611353,\n",
       " 65.50218340611353,\n",
       " 69.12442396313364,\n",
       " 72.46376811594203,\n",
       " 72.46376811594203,\n",
       " 72.46376811594203,\n",
       " 70.4225352112676,\n",
       " 67.87330316742081,\n",
       " 66.07929515418502,\n",
       " 66.07929515418502,\n",
       " 65.78947368421052,\n",
       " 64.1025641025641,\n",
       " 63.02521008403362,\n",
       " 63.29113924050633,\n",
       " 65.21739130434783,\n",
       " 64.93506493506493,\n",
       " 64.1025641025641,\n",
       " 64.1025641025641,\n",
       " 64.6551724137931,\n",
       " 66.66666666666667,\n",
       " 67.56756756756756,\n",
       " 66.96428571428571,\n",
       " 65.50218340611353,\n",
       " 64.37768240343347,\n",
       " 66.66666666666667,\n",
       " 66.3716814159292,\n",
       " 65.78947368421052,\n",
       " 64.93506493506493,\n",
       " 64.1025641025641,\n",
       " 66.96428571428571,\n",
       " 69.12442396313364,\n",
       " 66.66666666666667,\n",
       " 64.93506493506493,\n",
       " 62.5,\n",
       " 60.97560975609756,\n",
       " 62.24066390041494,\n",
       " 62.5,\n",
       " 60.72874493927126,\n",
       " 59.05511811023622,\n",
       " 60.24096385542169,\n",
       " 64.1025641025641,\n",
       " 63.29113924050633,\n",
       " 63.55932203389831,\n",
       " 61.98347107438017,\n",
       " 62.24066390041494,\n",
       " 64.1025641025641,\n",
       " 66.07929515418502,\n",
       " 67.26457399103138,\n",
       " 70.09345794392523,\n",
       " 71.77033492822967,\n",
       " 72.11538461538461,\n",
       " 72.46376811594203,\n",
       " 71.42857142857143,\n",
       " 68.4931506849315,\n",
       " 66.07929515418502,\n",
       " 64.1025641025641,\n",
       " 63.829787234042556,\n",
       " 64.93506493506493,\n",
       " 63.02521008403362,\n",
       " 63.29113924050633,\n",
       " 63.02521008403362,\n",
       " 63.55932203389831,\n",
       " 64.93506493506493,\n",
       " 66.96428571428571,\n",
       " 66.3716814159292,\n",
       " 67.56756756756756,\n",
       " 70.09345794392523,\n",
       " 72.46376811594203,\n",
       " 72.81553398058253,\n",
       " 70.75471698113208,\n",
       " 68.18181818181819,\n",
       " 65.21739130434783,\n",
       " 64.37768240343347,\n",
       " 64.37768240343347,\n",
       " 63.55932203389831,\n",
       " 61.7283950617284,\n",
       " 60.97560975609756,\n",
       " 61.47540983606557,\n",
       " 64.1025641025641,\n",
       " 64.1025641025641,\n",
       " 64.1025641025641,\n",
       " 64.93506493506493,\n",
       " 65.21739130434783,\n",
       " 66.66666666666667,\n",
       " 70.09345794392523,\n",
       " 71.09004739336493,\n",
       " 70.4225352112676,\n",
       " 68.18181818181819,\n",
       " 64.6551724137931,\n",
       " 63.829787234042556,\n",
       " 60.97560975609756,\n",
       " 57.69230769230769,\n",
       " 57.03422053231939,\n",
       " 57.25190839694656,\n",
       " 57.69230769230769,\n",
       " 59.523809523809526,\n",
       " 60.483870967741936,\n",
       " 60.97560975609756,\n",
       " 60.72874493927126,\n",
       " 62.24066390041494,\n",
       " 65.21739130434783,\n",
       " 67.26457399103138,\n",
       " 69.44444444444444,\n",
       " 71.77033492822967,\n",
       " 72.11538461538461,\n",
       " 71.09004739336493,\n",
       " 68.80733944954129,\n",
       " 62.761506276150634,\n",
       " 57.47126436781609,\n",
       " 58.13953488372093,\n",
       " 58.13953488372093,\n",
       " 59.05511811023622,\n",
       " 58.8235294117647,\n",
       " 58.13953488372093,\n",
       " 58.36575875486381,\n",
       " 59.28853754940712,\n",
       " 60.72874493927126,\n",
       " 63.29113924050633,\n",
       " 62.5,\n",
       " 63.02521008403362,\n",
       " 62.761506276150634,\n",
       " 63.55932203389831,\n",
       " 66.96428571428571,\n",
       " 68.18181818181819,\n",
       " 68.80733944954129,\n",
       " 71.77033492822967,\n",
       " 73.52941176470588,\n",
       " 73.52941176470588,\n",
       " 70.75471698113208,\n",
       " 68.18181818181819,\n",
       " 66.07929515418502,\n",
       " 64.93506493506493,\n",
       " 68.18181818181819,\n",
       " 69.12442396313364,\n",
       " 68.18181818181819,\n",
       " 69.76744186046511,\n",
       " 71.77033492822967,\n",
       " 74.62686567164178,\n",
       " 79.36507936507937,\n",
       " 81.9672131147541,\n",
       " 84.26966292134831,\n",
       " 85.22727272727273,\n",
       " 86.70520231213874,\n",
       " 88.23529411764706,\n",
       " 87.71929824561403,\n",
       " 84.26966292134831,\n",
       " 81.52173913043478,\n",
       " 81.52173913043478,\n",
       " 82.41758241758242,\n",
       " 83.79888268156425,\n",
       " 83.79888268156425,\n",
       " 82.41758241758242,\n",
       " 78.53403141361257,\n",
       " 73.89162561576354,\n",
       " 68.18181818181819,\n",
       " 69.76744186046511,\n",
       " 67.87330316742081,\n",
       " 69.76744186046511,\n",
       " 69.12442396313364,\n",
       " 73.17073170731707,\n",
       " 78.53403141361257,\n",
       " 80.64516129032258,\n",
       " 79.7872340425532,\n",
       " 81.52173913043478,\n",
       " 82.87292817679558,\n",
       " 84.26966292134831,\n",
       " 81.9672131147541,\n",
       " 80.21390374331551,\n",
       " 73.52941176470588,\n",
       " 60.0,\n",
       " 67.56756756756756,\n",
       " 66.66666666666667,\n",
       " 66.3716814159292,\n",
       " 65.21739130434783,\n",
       " 66.07929515418502,\n",
       " 66.66666666666667,\n",
       " 68.18181818181819,\n",
       " 65.21739130434783,\n",
       " 66.3716814159292,\n",
       " 66.07929515418502,\n",
       " 67.56756756756756,\n",
       " 66.07929515418502,\n",
       " 67.56756756756756,\n",
       " 69.76744186046511,\n",
       " 71.42857142857143,\n",
       " 72.11538461538461,\n",
       " 70.75471698113208,\n",
       " 69.44444444444444,\n",
       " 66.66666666666667,\n",
       " 64.93506493506493,\n",
       " 66.07929515418502,\n",
       " 66.96428571428571,\n",
       " 66.07929515418502,\n",
       " 65.50218340611353,\n",
       " 64.1025641025641,\n",
       " 65.21739130434783,\n",
       " 65.50218340611353,\n",
       " 65.78947368421052,\n",
       " 64.93506493506493,\n",
       " 63.829787234042556,\n",
       " 63.55932203389831,\n",
       " 64.1025641025641,\n",
       " 64.93506493506493,\n",
       " 63.29113924050633,\n",
       " 63.02521008403362,\n",
       " 62.761506276150634,\n",
       " 66.07929515418502,\n",
       " 66.3716814159292,\n",
       " 67.26457399103138,\n",
       " 67.26457399103138,\n",
       " 66.96428571428571,\n",
       " 66.3716814159292,\n",
       " 64.93506493506493,\n",
       " 64.1025641025641,\n",
       " 63.829787234042556,\n",
       " 63.29113924050633,\n",
       " 62.24066390041494,\n",
       " 64.37768240343347,\n",
       " 64.37768240343347,\n",
       " 62.761506276150634,\n",
       " 61.47540983606557,\n",
       " 60.97560975609756,\n",
       " 61.7283950617284,\n",
       " 63.55932203389831,\n",
       " 65.21739130434783,\n",
       " 65.50218340611353,\n",
       " 66.07929515418502,\n",
       " 66.07929515418502,\n",
       " 67.87330316742081,\n",
       " 67.87330316742081,\n",
       " 67.87330316742081,\n",
       " 68.18181818181819,\n",
       " 68.80733944954129,\n",
       " 69.76744186046511,\n",
       " 70.75471698113208,\n",
       " 69.44444444444444,\n",
       " 69.12442396313364,\n",
       " 67.56756756756756,\n",
       " 65.50218340611353,\n",
       " 65.78947368421052,\n",
       " 66.3716814159292,\n",
       " 64.1025641025641,\n",
       " 64.1025641025641,\n",
       " 65.21739130434783,\n",
       " 67.26457399103138,\n",
       " 68.18181818181819,\n",
       " 69.12442396313364,\n",
       " 69.12442396313364,\n",
       " 69.44444444444444,\n",
       " 68.80733944954129,\n",
       " 69.44444444444444,\n",
       " 70.75471698113208,\n",
       " 69.44444444444444,\n",
       " 68.4931506849315,\n",
       " 68.18181818181819,\n",
       " 68.18181818181819,\n",
       " 68.4931506849315,\n",
       " 66.3716814159292,\n",
       " 65.78947368421052,\n",
       " 64.93506493506493,\n",
       " 66.07929515418502,\n",
       " 67.87330316742081,\n",
       " 68.18181818181819,\n",
       " 69.44444444444444,\n",
       " 69.44444444444444,\n",
       " 71.09004739336493,\n",
       " 70.4225352112676,\n",
       " 70.4225352112676,\n",
       " 68.18181818181819,\n",
       " 65.78947368421052,\n",
       " 63.829787234042556,\n",
       " 63.02521008403362,\n",
       " 65.21739130434783,\n",
       " 65.21739130434783,\n",
       " 64.1025641025641,\n",
       " 63.02521008403362,\n",
       " 63.829787234042556,\n",
       " 66.07929515418502,\n",
       " 67.56756756756756,\n",
       " 67.26457399103138,\n",
       " 66.07929515418502,\n",
       " 65.50218340611353,\n",
       " 65.21739130434783,\n",
       " 67.87330316742081,\n",
       " 67.56756756756756,\n",
       " 67.56756756756756,\n",
       " 66.3716814159292,\n",
       " 68.18181818181819,\n",
       " 70.4225352112676,\n",
       " 71.77033492822967,\n",
       " 71.77033492822967,\n",
       " 71.42857142857143,\n",
       " 68.80733944954129,\n",
       " 64.1025641025641,\n",
       " 61.7283950617284,\n",
       " 61.98347107438017,\n",
       " 63.55932203389831,\n",
       " 63.02521008403362,\n",
       " 62.761506276150634,\n",
       " 62.761506276150634,\n",
       " 63.02521008403362,\n",
       " 66.3716814159292,\n",
       " 68.18181818181819,\n",
       " 67.26457399103138,\n",
       " 66.07929515418502,\n",
       " 64.1025641025641,\n",
       " 62.5,\n",
       " 64.1025641025641,\n",
       " 64.1025641025641,\n",
       " 63.829787234042556,\n",
       " 63.02521008403362,\n",
       " 62.761506276150634,\n",
       " 64.37768240343347,\n",
       " 64.93506493506493,\n",
       " 63.829787234042556,\n",
       " 62.24066390041494,\n",
       " 62.5,\n",
       " 63.02521008403362,\n",
       " 66.07929515418502,\n",
       " 66.96428571428571,\n",
       " 67.87330316742081,\n",
       " 69.12442396313364,\n",
       " 69.76744186046511,\n",
       " 68.80733944954129,\n",
       " 68.18181818181819,\n",
       " 65.78947368421052,\n",
       " 61.98347107438017,\n",
       " 60.0,\n",
       " 60.24096385542169,\n",
       " 62.5,\n",
       " 62.5,\n",
       " 60.24096385542169,\n",
       " 60.483870967741936,\n",
       " 60.97560975609756,\n",
       " 63.55932203389831,\n",
       " 65.50218340611353,\n",
       " 64.37768240343347,\n",
       " 64.6551724137931,\n",
       " 64.6551724137931,\n",
       " 64.1025641025641,\n",
       " 66.96428571428571,\n",
       " 67.56756756756756,\n",
       " 65.78947368421052,\n",
       " 64.93506493506493,\n",
       " 64.1025641025641,\n",
       " 64.6551724137931,\n",
       " 65.50218340611353,\n",
       " 66.66666666666667,\n",
       " 66.07929515418502,\n",
       " 65.78947368421052,\n",
       " 66.07929515418502,\n",
       " 68.4931506849315,\n",
       " 70.75471698113208,\n",
       " 71.77033492822967,\n",
       " 73.17073170731707,\n",
       " 72.81553398058253,\n",
       " 69.76744186046511,\n",
       " 67.87330316742081,\n",
       " 65.50218340611353,\n",
       " 61.7283950617284,\n",
       " 59.28853754940712,\n",
       " 59.05511811023622,\n",
       " 62.24066390041494,\n",
       " 63.02521008403362,\n",
       " 61.98347107438017,\n",
       " 62.5,\n",
       " 63.55932203389831,\n",
       " 64.37768240343347,\n",
       " 66.07929515418502,\n",
       " 64.93506493506493,\n",
       " 63.829787234042556,\n",
       " 63.55932203389831,\n",
       " 64.37768240343347,\n",
       " 65.50218340611353,\n",
       " 63.55932203389831,\n",
       " 61.7283950617284,\n",
       " 61.47540983606557,\n",
       " 62.24066390041494,\n",
       " 63.29113924050633,\n",
       " 64.93506493506493,\n",
       " 66.96428571428571,\n",
       " 66.66666666666667,\n",
       " 70.09345794392523,\n",
       " 71.09004739336493,\n",
       " 71.09004739336493,\n",
       " 71.09004739336493,\n",
       " 69.12442396313364,\n",
       " 67.26457399103138,\n",
       " 62.5,\n",
       " 61.224489795918366,\n",
       " 59.7609561752988,\n",
       " 60.24096385542169,\n",
       " 59.28853754940712,\n",
       " 58.13953488372093,\n",
       " 57.915057915057915,\n",
       " 59.05511811023622,\n",
       " 60.97560975609756,\n",
       " 63.829787234042556,\n",
       " 64.1025641025641,\n",
       " 64.37768240343347,\n",
       " 63.55932203389831,\n",
       " 64.1025641025641,\n",
       " 65.50218340611353,\n",
       " 67.26457399103138,\n",
       " 66.66666666666667,\n",
       " 69.12442396313364,\n",
       " 68.4931506849315,\n",
       " 65.50218340611353,\n",
       " 65.21739130434783,\n",
       " 64.37768240343347,\n",
       " 60.24096385542169,\n",
       " 58.8235294117647,\n",
       " 58.59375,\n",
       " 60.0,\n",
       " 62.24066390041494,\n",
       " 62.761506276150634,\n",
       " 62.24066390041494,\n",
       " 62.24066390041494,\n",
       " 63.29113924050633,\n",
       " 65.21739130434783,\n",
       " 65.50218340611353,\n",
       " 63.55932203389831,\n",
       " 62.761506276150634,\n",
       " 62.5,\n",
       " 61.7283950617284,\n",
       " 64.6551724137931,\n",
       " 65.78947368421052,\n",
       " 66.66666666666667,\n",
       " 68.18181818181819,\n",
       " 69.12442396313364,\n",
       " 68.4931506849315,\n",
       " 68.18181818181819,\n",
       " 67.26457399103138,\n",
       " 64.93506493506493,\n",
       " 64.37768240343347,\n",
       " 62.5,\n",
       " 63.55932203389831,\n",
       " 64.93506493506493,\n",
       " 65.78947368421052,\n",
       " 66.96428571428571,\n",
       " 68.18181818181819,\n",
       " 68.80733944954129,\n",
       " 69.12442396313364,\n",
       " 69.44444444444444,\n",
       " 69.44444444444444,\n",
       " 65.78947368421052,\n",
       " 63.29113924050633,\n",
       " 61.224489795918366,\n",
       " 61.47540983606557,\n",
       " 63.55932203389831,\n",
       " 63.02521008403362,\n",
       " 62.24066390041494,\n",
       " 62.5,\n",
       " 62.5,\n",
       " 63.829787234042556,\n",
       " 65.50218340611353,\n",
       " 64.37768240343347,\n",
       " 62.24066390041494,\n",
       " 60.97560975609756,\n",
       " 61.224489795918366,\n",
       " 61.98347107438017,\n",
       " 63.829787234042556,\n",
       " 64.6551724137931,\n",
       " 66.96428571428571,\n",
       " 68.80733944954129,\n",
       " 69.44444444444444,\n",
       " 70.09345794392523,\n",
       " 68.4931506849315,\n",
       " 66.66666666666667,\n",
       " 64.6551724137931,\n",
       " 62.24066390041494,\n",
       " 63.29113924050633,\n",
       " 63.02521008403362,\n",
       " 61.98347107438017,\n",
       " 61.47540983606557,\n",
       " 61.7283950617284,\n",
       " 62.24066390041494,\n",
       " 64.6551724137931,\n",
       " 65.50218340611353,\n",
       " 64.6551724137931,\n",
       " 64.1025641025641,\n",
       " 64.93506493506493,\n",
       " 65.50218340611353,\n",
       " 66.96428571428571,\n",
       " 70.09345794392523,\n",
       " 69.76744186046511,\n",
       " 67.26457399103138,\n",
       " 65.78947368421052,\n",
       " 63.02521008403362,\n",
       " 63.29113924050633,\n",
       " 63.02521008403362,\n",
       " 61.7283950617284,\n",
       " 61.47540983606557,\n",
       " 61.47540983606557,\n",
       " 63.29113924050633,\n",
       " 64.1025641025641,\n",
       " 63.829787234042556,\n",
       " 61.98347107438017,\n",
       " 61.7283950617284,\n",
       " 62.5,\n",
       " 64.37768240343347,\n",
       " 65.50218340611353,\n",
       " 64.93506493506493,\n",
       " 65.50218340611353,\n",
       " 64.93506493506493,\n",
       " 66.07929515418502,\n",
       " 66.96428571428571,\n",
       " 68.18181818181819,\n",
       " 68.80733944954129,\n",
       " 70.4225352112676,\n",
       " 70.4225352112676,\n",
       " 70.75471698113208,\n",
       " 72.11538461538461,\n",
       " 71.77033492822967,\n",
       " 70.75471698113208,\n",
       " 67.56756756756756,\n",
       " 64.37768240343347,\n",
       " 64.93506493506493,\n",
       " 65.21739130434783,\n",
       " 63.29113924050633,\n",
       " 63.55932203389831,\n",
       " 62.5,\n",
       " 63.02521008403362,\n",
       " 64.93506493506493,\n",
       " 65.50218340611353,\n",
       " 63.29113924050633,\n",
       " 62.5,\n",
       " 61.47540983606557,\n",
       " 61.47540983606557,\n",
       " 62.761506276150634,\n",
       " 64.6551724137931,\n",
       " 63.829787234042556,\n",
       " 64.6551724137931,\n",
       " 63.55932203389831,\n",
       " 64.1025641025641,\n",
       " 66.66666666666667,\n",
       " 66.3716814159292,\n",
       " 67.56756756756756,\n",
       " 68.4931506849315,\n",
       " 68.4931506849315,\n",
       " 67.87330316742081,\n",
       " 67.87330316742081,\n",
       " 67.56756756756756,\n",
       " 64.37768240343347,\n",
       " 63.29113924050633,\n",
       " 60.72874493927126,\n",
       " 61.224489795918366,\n",
       " 61.98347107438017,\n",
       " 60.97560975609756,\n",
       " 61.47540983606557,\n",
       " 62.24066390041494,\n",
       " 63.55932203389831,\n",
       " 65.50218340611353,\n",
       " 66.3716814159292,\n",
       " 64.93506493506493,\n",
       " 63.02521008403362,\n",
       " 63.55932203389831,\n",
       " 63.829787234042556,\n",
       " 65.21739130434783,\n",
       " 66.66666666666667,\n",
       " 64.6551724137931,\n",
       " 66.96428571428571,\n",
       " 68.4931506849315,\n",
       " 67.87330316742081,\n",
       " 67.56756756756756,\n",
       " 66.07929515418502,\n",
       " 61.98347107438017,\n",
       " 59.05511811023622,\n",
       " 58.8235294117647,\n",
       " 60.483870967741936,\n",
       " 62.24066390041494,\n",
       " 62.24066390041494,\n",
       " 62.761506276150634,\n",
       " 62.5,\n",
       " 61.224489795918366,\n",
       " 63.02521008403362,\n",
       " 65.21739130434783,\n",
       " 64.6551724137931,\n",
       " 64.93506493506493,\n",
       " 64.6551724137931,\n",
       " 67.87330316742081,\n",
       " 66.3716814159292,\n",
       " 63.55932203389831,\n",
       " 62.761506276150634,\n",
       " 61.47540983606557,\n",
       " 60.97560975609756,\n",
       " 61.98347107438017,\n",
       " 64.1025641025641,\n",
       " 63.29113924050633,\n",
       " 63.55932203389831,\n",
       " 63.02521008403362,\n",
       " 63.829787234042556,\n",
       " 65.78947368421052,\n",
       " 66.96428571428571,\n",
       " 66.07929515418502,\n",
       " 65.21739130434783,\n",
       " 65.78947368421052,\n",
       " 67.26457399103138,\n",
       " 69.12442396313364,\n",
       " 69.76744186046511,\n",
       " 69.12442396313364,\n",
       " 65.78947368421052,\n",
       " 63.29113924050633,\n",
       " 60.97560975609756,\n",
       " 60.97560975609756,\n",
       " 61.98347107438017,\n",
       " 60.483870967741936,\n",
       " 60.0,\n",
       " 60.0,\n",
       " 60.72874493927126,\n",
       " 63.29113924050633,\n",
       " 64.37768240343347,\n",
       " 64.1025641025641,\n",
       " 64.6551724137931,\n",
       " 65.78947368421052,\n",
       " 67.87330316742081,\n",
       " 70.4225352112676,\n",
       " 70.75471698113208,\n",
       " 70.4225352112676,\n",
       " 67.87330316742081,\n",
       " 64.1025641025641,\n",
       " 63.02521008403362,\n",
       " 60.97560975609756,\n",
       " 61.47540983606557,\n",
       " 62.761506276150634,\n",
       " 60.0,\n",
       " 60.0,\n",
       " 60.0,\n",
       " 61.224489795918366,\n",
       " 63.55932203389831,\n",
       " 64.93506493506493,\n",
       " 64.1025641025641,\n",
       " 63.55932203389831,\n",
       " 64.6551724137931,\n",
       " 66.07929515418502,\n",
       " 66.66666666666667,\n",
       " 67.56756756756756,\n",
       " 67.56756756756756,\n",
       " 66.96428571428571,\n",
       " 64.93506493506493,\n",
       " 64.6551724137931,\n",
       " 64.93506493506493,\n",
       " 66.07929515418502,\n",
       " 65.78947368421052,\n",
       " 65.50218340611353,\n",
       " 63.829787234042556,\n",
       " 64.6551724137931,\n",
       " 64.1025641025641,\n",
       " 61.98347107438017,\n",
       " 61.47540983606557,\n",
       " 61.98347107438017,\n",
       " 62.761506276150634,\n",
       " 64.37768240343347,\n",
       " 63.829787234042556,\n",
       " 62.761506276150634,\n",
       " 62.5,\n",
       " 63.02521008403362,\n",
       " 64.93506493506493,\n",
       " 64.6551724137931,\n",
       " 63.29113924050633,\n",
       " 64.6551724137931,\n",
       " 64.6551724137931,\n",
       " 66.66666666666667,\n",
       " 66.3716814159292,\n",
       " 65.78947368421052,\n",
       " 65.50218340611353,\n",
       " 66.96428571428571,\n",
       " 69.12442396313364,\n",
       " 71.09004739336493,\n",
       " 71.09004739336493,\n",
       " 70.09345794392523,\n",
       " 68.18181818181819,\n",
       " 64.93506493506493,\n",
       " 64.37768240343347,\n",
       " 65.21739130434783,\n",
       " 63.55932203389831,\n",
       " 62.761506276150634,\n",
       " 62.761506276150634,\n",
       " 63.829787234042556,\n",
       " 64.6551724137931,\n",
       " 65.21739130434783,\n",
       " 64.1025641025641,\n",
       " 63.55932203389831,\n",
       " 63.29113924050633,\n",
       " 64.6551724137931,\n",
       " 66.07929515418502,\n",
       " 66.3716814159292,\n",
       " 66.66666666666667,\n",
       " 66.07929515418502,\n",
       " 66.96428571428571,\n",
       " 66.66666666666667,\n",
       " 65.21739130434783,\n",
       " 64.37768240343347,\n",
       " 63.02521008403362,\n",
       " 63.02521008403362,\n",
       " 64.37768240343347,\n",
       " 62.5,\n",
       " 63.02521008403362,\n",
       " 63.55932203389831,\n",
       " 64.37768240343347,\n",
       " 67.26457399103138,\n",
       " 66.96428571428571,\n",
       " 66.3716814159292,\n",
       " 68.18181818181819,\n",
       " 70.09345794392523,\n",
       " 72.11538461538461,\n",
       " 71.77033492822967,\n",
       " 70.75471698113208,\n",
       " 68.80733944954129,\n",
       " 65.50218340611353,\n",
       " 63.55932203389831,\n",
       " 66.3716814159292,\n",
       " 65.21739130434783,\n",
       " 63.55932203389831,\n",
       " 61.47540983606557,\n",
       " 61.47540983606557,\n",
       " 62.24066390041494,\n",
       " 61.7283950617284,\n",
       " 60.0,\n",
       " 59.05511811023622,\n",
       " 59.05511811023622,\n",
       " 59.7609561752988,\n",
       " 60.97560975609756,\n",
       " 62.24066390041494,\n",
       " 61.98347107438017,\n",
       " 61.47540983606557,\n",
       " 62.24066390041494,\n",
       " 63.55932203389831,\n",
       " 64.6551724137931,\n",
       " 64.6551724137931,\n",
       " 63.02521008403362,\n",
       " 62.761506276150634,\n",
       " 64.93506493506493,\n",
       " 69.76744186046511,\n",
       " 62.761506276150634,\n",
       " 67.87330316742081,\n",
       " 64.6551724137931,\n",
       " 63.29113924050633,\n",
       " 61.98347107438017,\n",
       " 61.98347107438017,\n",
       " 63.29113924050633,\n",
       " 64.6551724137931,\n",
       " 63.829787234042556,\n",
       " 63.02521008403362,\n",
       " 62.5,\n",
       " 64.1025641025641,\n",
       " 65.78947368421052,\n",
       " 64.93506493506493,\n",
       " 64.37768240343347,\n",
       " 63.55932203389831,\n",
       " 63.02521008403362,\n",
       " 63.29113924050633,\n",
       " 63.02521008403362,\n",
       " ...]"
      ]
     },
     "execution_count": 43,
     "metadata": {},
     "output_type": "execute_result"
    }
   ],
   "source": [
    "list(60 / rr_interval)"
   ]
  },
  {
   "cell_type": "code",
   "execution_count": 44,
   "metadata": {},
   "outputs": [
    {
     "data": {
      "text/plain": [
       "(7806,)"
      ]
     },
     "execution_count": 44,
     "metadata": {},
     "output_type": "execute_result"
    }
   ],
   "source": [
    "rr_interval.shape"
   ]
  },
  {
   "cell_type": "code",
   "execution_count": 45,
   "metadata": {},
   "outputs": [
    {
     "data": {
      "text/plain": [
       "'slpdb'"
      ]
     },
     "execution_count": 45,
     "metadata": {},
     "output_type": "execute_result"
    }
   ],
   "source": [
    "db"
   ]
  },
  {
   "cell_type": "code",
   "execution_count": 47,
   "metadata": {},
   "outputs": [],
   "source": [
    "rr_interval = wfdb.processing.ann2rr(records[4], pn_dir=db, extension=\"ecg\", as_array=True, format='s')"
   ]
  },
  {
   "cell_type": "code",
   "execution_count": 48,
   "metadata": {},
   "outputs": [
    {
     "data": {
      "text/plain": [
       "array([0.096, 0.824, 0.836, ..., 0.86 , 0.848, 0.86 ])"
      ]
     },
     "execution_count": 48,
     "metadata": {},
     "output_type": "execute_result"
    }
   ],
   "source": [
    "rr_interval"
   ]
  },
  {
   "cell_type": "markdown",
   "metadata": {},
   "source": [
    "* rr interval per annotation (30 seconds)"
   ]
  },
  {
   "cell_type": "code",
   "execution_count": 49,
   "metadata": {
    "scrolled": true,
    "tags": []
   },
   "outputs": [
    {
     "data": {
      "text/html": [
       "<div>\n",
       "<style scoped>\n",
       "    .dataframe tbody tr th:only-of-type {\n",
       "        vertical-align: middle;\n",
       "    }\n",
       "\n",
       "    .dataframe tbody tr th {\n",
       "        vertical-align: top;\n",
       "    }\n",
       "\n",
       "    .dataframe thead th {\n",
       "        text-align: right;\n",
       "    }\n",
       "</style>\n",
       "<table border=\"1\" class=\"dataframe\">\n",
       "  <thead>\n",
       "    <tr style=\"text-align: right;\">\n",
       "      <th></th>\n",
       "      <th>r_name</th>\n",
       "      <th>sig_len</th>\n",
       "      <th>sampling_freq</th>\n",
       "      <th>created_at</th>\n",
       "    </tr>\n",
       "  </thead>\n",
       "  <tbody>\n",
       "    <tr>\n",
       "      <th>0</th>\n",
       "      <td>slp01a</td>\n",
       "      <td>1800000</td>\n",
       "      <td>250</td>\n",
       "      <td>1989-01-19 23:07:00</td>\n",
       "    </tr>\n",
       "    <tr>\n",
       "      <th>1</th>\n",
       "      <td>slp01b</td>\n",
       "      <td>2700000</td>\n",
       "      <td>250</td>\n",
       "      <td>1989-01-20 02:14:00</td>\n",
       "    </tr>\n",
       "    <tr>\n",
       "      <th>2</th>\n",
       "      <td>slp02a</td>\n",
       "      <td>2700000</td>\n",
       "      <td>250</td>\n",
       "      <td>1989-02-01 00:49:00</td>\n",
       "    </tr>\n",
       "    <tr>\n",
       "      <th>3</th>\n",
       "      <td>slp02b</td>\n",
       "      <td>2025000</td>\n",
       "      <td>250</td>\n",
       "      <td>1989-02-01 03:59:30</td>\n",
       "    </tr>\n",
       "    <tr>\n",
       "      <th>4</th>\n",
       "      <td>slp03</td>\n",
       "      <td>5400000</td>\n",
       "      <td>250</td>\n",
       "      <td>1989-02-09 23:12:00</td>\n",
       "    </tr>\n",
       "    <tr>\n",
       "      <th>5</th>\n",
       "      <td>slp04</td>\n",
       "      <td>5400000</td>\n",
       "      <td>250</td>\n",
       "      <td>1989-02-26 00:05:30</td>\n",
       "    </tr>\n",
       "    <tr>\n",
       "      <th>6</th>\n",
       "      <td>slp14</td>\n",
       "      <td>5400000</td>\n",
       "      <td>250</td>\n",
       "      <td>1989-03-30 23:48:00</td>\n",
       "    </tr>\n",
       "    <tr>\n",
       "      <th>7</th>\n",
       "      <td>slp16</td>\n",
       "      <td>5400000</td>\n",
       "      <td>250</td>\n",
       "      <td>1989-04-06 23:48:00</td>\n",
       "    </tr>\n",
       "    <tr>\n",
       "      <th>8</th>\n",
       "      <td>slp32</td>\n",
       "      <td>4800000</td>\n",
       "      <td>250</td>\n",
       "      <td>1989-07-20 01:05:30</td>\n",
       "    </tr>\n",
       "    <tr>\n",
       "      <th>9</th>\n",
       "      <td>slp37</td>\n",
       "      <td>5250000</td>\n",
       "      <td>250</td>\n",
       "      <td>1989-08-10 00:08:30</td>\n",
       "    </tr>\n",
       "    <tr>\n",
       "      <th>10</th>\n",
       "      <td>slp41</td>\n",
       "      <td>5850000</td>\n",
       "      <td>250</td>\n",
       "      <td>1989-08-24 23:51:30</td>\n",
       "    </tr>\n",
       "    <tr>\n",
       "      <th>11</th>\n",
       "      <td>slp45</td>\n",
       "      <td>5700000</td>\n",
       "      <td>250</td>\n",
       "      <td>1989-08-31 00:15:00</td>\n",
       "    </tr>\n",
       "    <tr>\n",
       "      <th>12</th>\n",
       "      <td>slp48</td>\n",
       "      <td>5700000</td>\n",
       "      <td>250</td>\n",
       "      <td>1989-09-07 00:20:30</td>\n",
       "    </tr>\n",
       "    <tr>\n",
       "      <th>13</th>\n",
       "      <td>slp59</td>\n",
       "      <td>3600000</td>\n",
       "      <td>250</td>\n",
       "      <td>1989-10-27 00:21:30</td>\n",
       "    </tr>\n",
       "    <tr>\n",
       "      <th>14</th>\n",
       "      <td>slp60</td>\n",
       "      <td>5325000</td>\n",
       "      <td>250</td>\n",
       "      <td>1989-11-09 00:11:30</td>\n",
       "    </tr>\n",
       "    <tr>\n",
       "      <th>15</th>\n",
       "      <td>slp61</td>\n",
       "      <td>5550000</td>\n",
       "      <td>250</td>\n",
       "      <td>1989-11-16 00:06:00</td>\n",
       "    </tr>\n",
       "    <tr>\n",
       "      <th>16</th>\n",
       "      <td>slp66</td>\n",
       "      <td>3300000</td>\n",
       "      <td>250</td>\n",
       "      <td>1990-01-04 00:23:30</td>\n",
       "    </tr>\n",
       "    <tr>\n",
       "      <th>17</th>\n",
       "      <td>slp67x</td>\n",
       "      <td>1155000</td>\n",
       "      <td>250</td>\n",
       "      <td>1990-01-04 01:06:00</td>\n",
       "    </tr>\n",
       "  </tbody>\n",
       "</table>\n",
       "</div>"
      ],
      "text/plain": [
       "    r_name  sig_len  sampling_freq           created_at\n",
       "0   slp01a  1800000            250  1989-01-19 23:07:00\n",
       "1   slp01b  2700000            250  1989-01-20 02:14:00\n",
       "2   slp02a  2700000            250  1989-02-01 00:49:00\n",
       "3   slp02b  2025000            250  1989-02-01 03:59:30\n",
       "4    slp03  5400000            250  1989-02-09 23:12:00\n",
       "5    slp04  5400000            250  1989-02-26 00:05:30\n",
       "6    slp14  5400000            250  1989-03-30 23:48:00\n",
       "7    slp16  5400000            250  1989-04-06 23:48:00\n",
       "8    slp32  4800000            250  1989-07-20 01:05:30\n",
       "9    slp37  5250000            250  1989-08-10 00:08:30\n",
       "10   slp41  5850000            250  1989-08-24 23:51:30\n",
       "11   slp45  5700000            250  1989-08-31 00:15:00\n",
       "12   slp48  5700000            250  1989-09-07 00:20:30\n",
       "13   slp59  3600000            250  1989-10-27 00:21:30\n",
       "14   slp60  5325000            250  1989-11-09 00:11:30\n",
       "15   slp61  5550000            250  1989-11-16 00:06:00\n",
       "16   slp66  3300000            250  1990-01-04 00:23:30\n",
       "17  slp67x  1155000            250  1990-01-04 01:06:00"
      ]
     },
     "execution_count": 49,
     "metadata": {},
     "output_type": "execute_result"
    }
   ],
   "source": [
    "slpdb_hea"
   ]
  },
  {
   "cell_type": "code",
   "execution_count": 50,
   "metadata": {},
   "outputs": [],
   "source": [
    "ann = wfdb.rdann(record_name=\"slp02a\", sampfrom=1, sampto=7500, extension=\"ecg\", pn_dir=\"slpdb\")"
   ]
  },
  {
   "cell_type": "code",
   "execution_count": 51,
   "metadata": {},
   "outputs": [
    {
     "data": {
      "text/plain": [
       "array([  29,  192,  342,  495,  648,  801,  955, 1107, 1275, 1442, 1604,\n",
       "       1767, 1941, 2101, 2256, 2428, 2588, 2745, 2897, 3060, 3220, 3375,\n",
       "       3526, 3689, 3849, 4004, 4154, 4315, 4483, 4644, 4800, 4960, 5128,\n",
       "       5289, 5445, 5614, 5803, 5966, 6124, 6281, 6452, 6608, 6759, 6905,\n",
       "       7057, 7225, 7386], dtype=int64)"
      ]
     },
     "execution_count": 51,
     "metadata": {},
     "output_type": "execute_result"
    }
   ],
   "source": [
    "ann.sample"
   ]
  },
  {
   "cell_type": "code",
   "execution_count": 52,
   "metadata": {},
   "outputs": [
    {
     "data": {
      "text/html": [
       "<div>\n",
       "<style scoped>\n",
       "    .dataframe tbody tr th:only-of-type {\n",
       "        vertical-align: middle;\n",
       "    }\n",
       "\n",
       "    .dataframe tbody tr th {\n",
       "        vertical-align: top;\n",
       "    }\n",
       "\n",
       "    .dataframe thead th {\n",
       "        text-align: right;\n",
       "    }\n",
       "</style>\n",
       "<table border=\"1\" class=\"dataframe\">\n",
       "  <thead>\n",
       "    <tr style=\"text-align: right;\">\n",
       "      <th></th>\n",
       "      <th>r_name</th>\n",
       "      <th>sig_len</th>\n",
       "      <th>sampling_freq</th>\n",
       "      <th>created_at</th>\n",
       "    </tr>\n",
       "  </thead>\n",
       "  <tbody>\n",
       "    <tr>\n",
       "      <th>0</th>\n",
       "      <td>slp01a</td>\n",
       "      <td>1800000</td>\n",
       "      <td>250</td>\n",
       "      <td>1989-01-19 23:07:00</td>\n",
       "    </tr>\n",
       "  </tbody>\n",
       "</table>\n",
       "</div>"
      ],
      "text/plain": [
       "   r_name  sig_len  sampling_freq           created_at\n",
       "0  slp01a  1800000            250  1989-01-19 23:07:00"
      ]
     },
     "execution_count": 52,
     "metadata": {},
     "output_type": "execute_result"
    }
   ],
   "source": [
    "slpdb_hea_01a = slpdb_hea[slpdb_hea.r_name==\"slp01a\"]\n",
    "slpdb_hea_01a"
   ]
  },
  {
   "cell_type": "code",
   "execution_count": 53,
   "metadata": {},
   "outputs": [],
   "source": [
    "slpdb_ann_01a = slpdb_ann[slpdb_ann.r_name==\"slp01a\"]\n",
    "slpdb_ann_01a.insert(len(slpdb_ann_01a.columns), \"annot_idx_t\", slpdb_ann_01a.annot_idx.shift(periods=-1, fill_value=0).astype(int))"
   ]
  },
  {
   "cell_type": "code",
   "execution_count": 54,
   "metadata": {},
   "outputs": [
    {
     "data": {
      "text/html": [
       "<div>\n",
       "<style scoped>\n",
       "    .dataframe tbody tr th:only-of-type {\n",
       "        vertical-align: middle;\n",
       "    }\n",
       "\n",
       "    .dataframe tbody tr th {\n",
       "        vertical-align: top;\n",
       "    }\n",
       "\n",
       "    .dataframe thead th {\n",
       "        text-align: right;\n",
       "    }\n",
       "</style>\n",
       "<table border=\"1\" class=\"dataframe\">\n",
       "  <thead>\n",
       "    <tr style=\"text-align: right;\">\n",
       "      <th></th>\n",
       "      <th>r_name</th>\n",
       "      <th>annot_idx</th>\n",
       "      <th>annot_aux</th>\n",
       "      <th>annot_idx_t</th>\n",
       "    </tr>\n",
       "  </thead>\n",
       "  <tbody>\n",
       "    <tr>\n",
       "      <th>0</th>\n",
       "      <td>slp01a</td>\n",
       "      <td>1</td>\n",
       "      <td>4</td>\n",
       "      <td>7500</td>\n",
       "    </tr>\n",
       "    <tr>\n",
       "      <th>1</th>\n",
       "      <td>slp01a</td>\n",
       "      <td>7500</td>\n",
       "      <td>4</td>\n",
       "      <td>15000</td>\n",
       "    </tr>\n",
       "    <tr>\n",
       "      <th>2</th>\n",
       "      <td>slp01a</td>\n",
       "      <td>15000</td>\n",
       "      <td>4</td>\n",
       "      <td>22500</td>\n",
       "    </tr>\n",
       "    <tr>\n",
       "      <th>3</th>\n",
       "      <td>slp01a</td>\n",
       "      <td>22500</td>\n",
       "      <td>4</td>\n",
       "      <td>30000</td>\n",
       "    </tr>\n",
       "    <tr>\n",
       "      <th>4</th>\n",
       "      <td>slp01a</td>\n",
       "      <td>30000</td>\n",
       "      <td>4</td>\n",
       "      <td>37500</td>\n",
       "    </tr>\n",
       "    <tr>\n",
       "      <th>...</th>\n",
       "      <td>...</td>\n",
       "      <td>...</td>\n",
       "      <td>...</td>\n",
       "      <td>...</td>\n",
       "    </tr>\n",
       "    <tr>\n",
       "      <th>235</th>\n",
       "      <td>slp01a</td>\n",
       "      <td>1762500</td>\n",
       "      <td>W</td>\n",
       "      <td>1770000</td>\n",
       "    </tr>\n",
       "    <tr>\n",
       "      <th>236</th>\n",
       "      <td>slp01a</td>\n",
       "      <td>1770000</td>\n",
       "      <td>W</td>\n",
       "      <td>1777500</td>\n",
       "    </tr>\n",
       "    <tr>\n",
       "      <th>237</th>\n",
       "      <td>slp01a</td>\n",
       "      <td>1777500</td>\n",
       "      <td>W</td>\n",
       "      <td>1785000</td>\n",
       "    </tr>\n",
       "    <tr>\n",
       "      <th>238</th>\n",
       "      <td>slp01a</td>\n",
       "      <td>1785000</td>\n",
       "      <td>2</td>\n",
       "      <td>1792500</td>\n",
       "    </tr>\n",
       "    <tr>\n",
       "      <th>239</th>\n",
       "      <td>slp01a</td>\n",
       "      <td>1792500</td>\n",
       "      <td>2</td>\n",
       "      <td>0</td>\n",
       "    </tr>\n",
       "  </tbody>\n",
       "</table>\n",
       "<p>240 rows × 4 columns</p>\n",
       "</div>"
      ],
      "text/plain": [
       "     r_name  annot_idx annot_aux  annot_idx_t\n",
       "0    slp01a          1         4         7500\n",
       "1    slp01a       7500         4        15000\n",
       "2    slp01a      15000         4        22500\n",
       "3    slp01a      22500         4        30000\n",
       "4    slp01a      30000         4        37500\n",
       "..      ...        ...       ...          ...\n",
       "235  slp01a    1762500         W      1770000\n",
       "236  slp01a    1770000         W      1777500\n",
       "237  slp01a    1777500         W      1785000\n",
       "238  slp01a    1785000         2      1792500\n",
       "239  slp01a    1792500         2            0\n",
       "\n",
       "[240 rows x 4 columns]"
      ]
     },
     "execution_count": 54,
     "metadata": {},
     "output_type": "execute_result"
    }
   ],
   "source": [
    "slpdb_ann_01a"
   ]
  },
  {
   "cell_type": "code",
   "execution_count": 96,
   "metadata": {},
   "outputs": [
    {
     "data": {
      "text/plain": [
       "array([165008, 165251, 165492, 165724, 165953, 166185, 166419, 166650,\n",
       "       166879, 167103, 167317, 167532, 167755, 167983, 168221, 168458,\n",
       "       168696, 168939, 169183, 169427, 169664, 169898, 170133, 170375,\n",
       "       170618, 170858, 171091, 171320, 171551, 171780, 172011, 172238,\n",
       "       172462, 172682], dtype=int64)"
      ]
     },
     "execution_count": 96,
     "metadata": {},
     "output_type": "execute_result"
    }
   ],
   "source": [
    "ann.sample"
   ]
  },
  {
   "cell_type": "code",
   "execution_count": 94,
   "metadata": {
    "scrolled": true,
    "tags": []
   },
   "outputs": [
    {
     "name": "stdout",
     "output_type": "stream",
     "text": [
      "[  19  234  457  687  911 1137 1360 1581 1808 2029 2244 2460 2673 2890\n",
      " 3117 3354 3599 3841 4080 4327 4576 4822 5061 5292 5526 5761 5998 6234\n",
      " 6460 6682 6906 7134 7360 7578]\n",
      "f=1, t=7500 [ 19 215 223 230 224 226 223 221 227 221 215 216 213 217 227 237 245 242\n",
      " 239 247 249 246 239 231 234 235 237 236 226 222 224 228 226 218]\n",
      "[ 7578  7787  7993  8202  8418  8643  8874  9104  9352  9606  9857 10106\n",
      " 10343 10577 10808 11038 11268 11490 11710 11933 12165 12407 12647 12873\n",
      " 13093 13306 13520 13736 13954 14176 14414 14664 14912 15159]\n",
      "f=7500, t=15000 [209 206 209 216 225 231 230 248 254 251 249 237 234 231 230 230 222 220\n",
      " 223 232 242 240 226 220 213 214 216 218 222 238 250 248 247]\n",
      "[15159 15400 15634 15875 16114 16352 16583 16809 17038 17266 17497 17728\n",
      " 17946 18159 18368 18575 18787 19007 19230 19455 19691 19934 20178 20416\n",
      " 20654 20898 21143 21387 21619 21845 22071 22301 22532]\n",
      "f=15000, t=22500 [241 234 241 239 238 231 226 229 228 231 231 218 213 209 207 212 220 223\n",
      " 225 236 243 244 238 238 244 245 244 232 226 226 230 231]\n"
     ]
    },
    {
     "ename": "KeyboardInterrupt",
     "evalue": "",
     "output_type": "error",
     "traceback": [
      "\u001b[1;31m---------------------------------------------------------------------------\u001b[0m",
      "\u001b[1;31mKeyboardInterrupt\u001b[0m                         Traceback (most recent call last)",
      "Cell \u001b[1;32mIn [100], line 7\u001b[0m\n\u001b[0;32m      4\u001b[0m from_idx \u001b[38;5;241m=\u001b[39m i\u001b[38;5;241m.\u001b[39mannot_idx\n\u001b[0;32m      5\u001b[0m to_idx \u001b[38;5;241m=\u001b[39m i\u001b[38;5;241m.\u001b[39mannot_idx_t\n\u001b[1;32m----> 7\u001b[0m ann \u001b[38;5;241m=\u001b[39m wfdb\u001b[38;5;241m.\u001b[39mrdann(record_name\u001b[38;5;241m=\u001b[39m\u001b[38;5;124m\"\u001b[39m\u001b[38;5;124mslp01a\u001b[39m\u001b[38;5;124m\"\u001b[39m, sampfrom\u001b[38;5;241m=\u001b[39mfrom_idx, sampto\u001b[38;5;241m=\u001b[39mto_idx\u001b[38;5;241m+\u001b[39mFS, extension\u001b[38;5;241m=\u001b[39m\u001b[38;5;124m\"\u001b[39m\u001b[38;5;124mecg\u001b[39m\u001b[38;5;124m\"\u001b[39m, pn_dir\u001b[38;5;241m=\u001b[39m\u001b[38;5;124m\"\u001b[39m\u001b[38;5;124mslpdb\u001b[39m\u001b[38;5;124m\"\u001b[39m)\n\u001b[0;32m      8\u001b[0m \u001b[38;5;28mprint\u001b[39m(ann\u001b[38;5;241m.\u001b[39msample)\n\u001b[0;32m      9\u001b[0m rr_interval \u001b[38;5;241m=\u001b[39m wfdb\u001b[38;5;241m.\u001b[39mprocessing\u001b[38;5;241m.\u001b[39mcalc_rr(ann\u001b[38;5;241m.\u001b[39msample, fs\u001b[38;5;241m=\u001b[39mFS)\n",
      "File \u001b[1;32m~\\Documents\\MIT-BIH\\mit-bih-venv\\lib\\site-packages\\wfdb\\io\\annotation.py:1930\u001b[0m, in \u001b[0;36mrdann\u001b[1;34m(record_name, extension, sampfrom, sampto, shift_samps, pn_dir, return_label_elements, summarize_labels)\u001b[0m\n\u001b[0;32m   1927\u001b[0m \u001b[38;5;28;01mif\u001b[39;00m (pn_dir \u001b[38;5;129;01mis\u001b[39;00m \u001b[38;5;129;01mnot\u001b[39;00m \u001b[38;5;28;01mNone\u001b[39;00m) \u001b[38;5;129;01mand\u001b[39;00m (\u001b[38;5;124m\"\u001b[39m\u001b[38;5;124m.\u001b[39m\u001b[38;5;124m\"\u001b[39m \u001b[38;5;129;01mnot\u001b[39;00m \u001b[38;5;129;01min\u001b[39;00m pn_dir):\n\u001b[0;32m   1928\u001b[0m     dir_list \u001b[38;5;241m=\u001b[39m pn_dir\u001b[38;5;241m.\u001b[39msplit(\u001b[38;5;124m\"\u001b[39m\u001b[38;5;124m/\u001b[39m\u001b[38;5;124m\"\u001b[39m)\n\u001b[0;32m   1929\u001b[0m     pn_dir \u001b[38;5;241m=\u001b[39m posixpath\u001b[38;5;241m.\u001b[39mjoin(\n\u001b[1;32m-> 1930\u001b[0m         dir_list[\u001b[38;5;241m0\u001b[39m], \u001b[43mdownload\u001b[49m\u001b[38;5;241;43m.\u001b[39;49m\u001b[43mget_version\u001b[49m\u001b[43m(\u001b[49m\u001b[43mdir_list\u001b[49m\u001b[43m[\u001b[49m\u001b[38;5;241;43m0\u001b[39;49m\u001b[43m]\u001b[49m\u001b[43m)\u001b[49m, \u001b[38;5;241m*\u001b[39mdir_list[\u001b[38;5;241m1\u001b[39m:]\n\u001b[0;32m   1931\u001b[0m     )\n\u001b[0;32m   1933\u001b[0m return_label_elements \u001b[38;5;241m=\u001b[39m check_read_inputs(\n\u001b[0;32m   1934\u001b[0m     sampfrom, sampto, return_label_elements\n\u001b[0;32m   1935\u001b[0m )\n\u001b[0;32m   1937\u001b[0m \u001b[38;5;66;03m# Read the file in byte pairs\u001b[39;00m\n",
      "File \u001b[1;32m~\\Documents\\MIT-BIH\\mit-bih-venv\\lib\\site-packages\\wfdb\\io\\download.py:238\u001b[0m, in \u001b[0;36mget_version\u001b[1;34m(pn_dir)\u001b[0m\n\u001b[0;32m    236\u001b[0m url \u001b[38;5;241m=\u001b[39m posixpath\u001b[38;5;241m.\u001b[39mjoin(PN_CONTENT_URL, db_dir) \u001b[38;5;241m+\u001b[39m \u001b[38;5;124m\"\u001b[39m\u001b[38;5;124m/\u001b[39m\u001b[38;5;124m\"\u001b[39m\n\u001b[0;32m    237\u001b[0m \u001b[38;5;28;01mwith\u001b[39;00m _url\u001b[38;5;241m.\u001b[39mopenurl(url, \u001b[38;5;124m\"\u001b[39m\u001b[38;5;124mrb\u001b[39m\u001b[38;5;124m\"\u001b[39m) \u001b[38;5;28;01mas\u001b[39;00m f:\n\u001b[1;32m--> 238\u001b[0m     content \u001b[38;5;241m=\u001b[39m \u001b[43mf\u001b[49m\u001b[38;5;241;43m.\u001b[39;49m\u001b[43mread\u001b[49m\u001b[43m(\u001b[49m\u001b[43m)\u001b[49m\n\u001b[0;32m    239\u001b[0m contents \u001b[38;5;241m=\u001b[39m [line\u001b[38;5;241m.\u001b[39mdecode(\u001b[38;5;124m\"\u001b[39m\u001b[38;5;124mutf-8\u001b[39m\u001b[38;5;124m\"\u001b[39m)\u001b[38;5;241m.\u001b[39mstrip() \u001b[38;5;28;01mfor\u001b[39;00m line \u001b[38;5;129;01min\u001b[39;00m content\u001b[38;5;241m.\u001b[39msplitlines()]\n\u001b[0;32m    240\u001b[0m version_number \u001b[38;5;241m=\u001b[39m [v \u001b[38;5;28;01mfor\u001b[39;00m v \u001b[38;5;129;01min\u001b[39;00m contents \u001b[38;5;28;01mif\u001b[39;00m \u001b[38;5;124m\"\u001b[39m\u001b[38;5;124mVersion:\u001b[39m\u001b[38;5;124m\"\u001b[39m \u001b[38;5;129;01min\u001b[39;00m v]\n",
      "File \u001b[1;32m~\\Documents\\MIT-BIH\\mit-bih-venv\\lib\\site-packages\\wfdb\\io\\_url.py:581\u001b[0m, in \u001b[0;36mNetFile.read\u001b[1;34m(self, size)\u001b[0m\n\u001b[0;32m    578\u001b[0m \u001b[38;5;28;01melse\u001b[39;00m:\n\u001b[0;32m    579\u001b[0m     \u001b[38;5;28;01mraise\u001b[39;00m \u001b[38;5;167;01mValueError\u001b[39;00m(\u001b[38;5;124m\"\u001b[39m\u001b[38;5;124minvalid size: \u001b[39m\u001b[38;5;132;01m%r\u001b[39;00m\u001b[38;5;124m\"\u001b[39m \u001b[38;5;241m%\u001b[39m (size,))\n\u001b[1;32m--> 581\u001b[0m result \u001b[38;5;241m=\u001b[39m \u001b[38;5;124;43mb\u001b[39;49m\u001b[38;5;124;43m\"\u001b[39;49m\u001b[38;5;124;43m\"\u001b[39;49m\u001b[38;5;241;43m.\u001b[39;49m\u001b[43mjoin\u001b[49m\u001b[43m(\u001b[49m\u001b[38;5;28;43mself\u001b[39;49m\u001b[38;5;241;43m.\u001b[39;49m\u001b[43m_read_range\u001b[49m\u001b[43m(\u001b[49m\u001b[43mstart\u001b[49m\u001b[43m,\u001b[49m\u001b[43m \u001b[49m\u001b[43mend\u001b[49m\u001b[43m)\u001b[49m\u001b[43m)\u001b[49m\n\u001b[0;32m    582\u001b[0m \u001b[38;5;28mself\u001b[39m\u001b[38;5;241m.\u001b[39m_pos \u001b[38;5;241m+\u001b[39m\u001b[38;5;241m=\u001b[39m \u001b[38;5;28mlen\u001b[39m(result)\n\u001b[0;32m    583\u001b[0m \u001b[38;5;28;01mreturn\u001b[39;00m result\n",
      "File \u001b[1;32m~\\Documents\\MIT-BIH\\mit-bih-venv\\lib\\site-packages\\wfdb\\io\\_url.py:474\u001b[0m, in \u001b[0;36mNetFile._read_range\u001b[1;34m(self, start, end)\u001b[0m\n\u001b[0;32m    471\u001b[0m         req_end \u001b[38;5;241m=\u001b[39m req_start \u001b[38;5;241m+\u001b[39m buffer_size\n\u001b[0;32m    472\u001b[0m         buffer_store \u001b[38;5;241m=\u001b[39m \u001b[38;5;28;01mTrue\u001b[39;00m\n\u001b[1;32m--> 474\u001b[0m \u001b[38;5;28;01mwith\u001b[39;00m \u001b[43mRangeTransfer\u001b[49m\u001b[43m(\u001b[49m\u001b[38;5;28;43mself\u001b[39;49m\u001b[38;5;241;43m.\u001b[39;49m\u001b[43m_current_url\u001b[49m\u001b[43m,\u001b[49m\u001b[43m \u001b[49m\u001b[43mreq_start\u001b[49m\u001b[43m,\u001b[49m\u001b[43m \u001b[49m\u001b[43mreq_end\u001b[49m\u001b[43m)\u001b[49m \u001b[38;5;28;01mas\u001b[39;00m xfer:\n\u001b[0;32m    475\u001b[0m     \u001b[38;5;66;03m# Update current file URL.\u001b[39;00m\n\u001b[0;32m    476\u001b[0m     \u001b[38;5;28mself\u001b[39m\u001b[38;5;241m.\u001b[39m_current_url \u001b[38;5;241m=\u001b[39m xfer\u001b[38;5;241m.\u001b[39mresponse_url\n\u001b[0;32m    478\u001b[0m     \u001b[38;5;66;03m# If we requested a range but the server doesn't support\u001b[39;00m\n\u001b[0;32m    479\u001b[0m     \u001b[38;5;66;03m# random access, then unless buffering is disabled, save\u001b[39;00m\n\u001b[0;32m    480\u001b[0m     \u001b[38;5;66;03m# entire file in the buffer.\u001b[39;00m\n",
      "File \u001b[1;32m~\\Documents\\MIT-BIH\\mit-bih-venv\\lib\\site-packages\\wfdb\\io\\_url.py:163\u001b[0m, in \u001b[0;36mRangeTransfer.__init__\u001b[1;34m(self, url, start, end)\u001b[0m\n\u001b[0;32m    158\u001b[0m     headers \u001b[38;5;241m=\u001b[39m {\n\u001b[0;32m    159\u001b[0m         \u001b[38;5;124m\"\u001b[39m\u001b[38;5;124mAccept-Encoding\u001b[39m\u001b[38;5;124m\"\u001b[39m: \u001b[38;5;28;01mNone\u001b[39;00m,\n\u001b[0;32m    160\u001b[0m     }\n\u001b[0;32m    162\u001b[0m session \u001b[38;5;241m=\u001b[39m _get_session()\n\u001b[1;32m--> 163\u001b[0m \u001b[38;5;28mself\u001b[39m\u001b[38;5;241m.\u001b[39m_response \u001b[38;5;241m=\u001b[39m \u001b[43msession\u001b[49m\u001b[38;5;241;43m.\u001b[39;49m\u001b[43mrequest\u001b[49m\u001b[43m(\u001b[49m\n\u001b[0;32m    164\u001b[0m \u001b[43m    \u001b[49m\u001b[43mmethod\u001b[49m\u001b[43m,\u001b[49m\u001b[43m \u001b[49m\u001b[43murl\u001b[49m\u001b[43m,\u001b[49m\u001b[43m \u001b[49m\u001b[43mheaders\u001b[49m\u001b[38;5;241;43m=\u001b[39;49m\u001b[43mheaders\u001b[49m\u001b[43m,\u001b[49m\u001b[43m \u001b[49m\u001b[43mstream\u001b[49m\u001b[38;5;241;43m=\u001b[39;49m\u001b[38;5;28;43;01mTrue\u001b[39;49;00m\n\u001b[0;32m    165\u001b[0m \u001b[43m\u001b[49m\u001b[43m)\u001b[49m\n\u001b[0;32m    166\u001b[0m \u001b[38;5;28mself\u001b[39m\u001b[38;5;241m.\u001b[39m_content_iter \u001b[38;5;241m=\u001b[39m \u001b[38;5;28mself\u001b[39m\u001b[38;5;241m.\u001b[39m_response\u001b[38;5;241m.\u001b[39miter_content(\u001b[38;5;241m4096\u001b[39m)\n\u001b[0;32m    167\u001b[0m \u001b[38;5;28;01mtry\u001b[39;00m:\n",
      "File \u001b[1;32m~\\Documents\\MIT-BIH\\mit-bih-venv\\lib\\site-packages\\requests\\sessions.py:587\u001b[0m, in \u001b[0;36mSession.request\u001b[1;34m(self, method, url, params, data, headers, cookies, files, auth, timeout, allow_redirects, proxies, hooks, stream, verify, cert, json)\u001b[0m\n\u001b[0;32m    582\u001b[0m send_kwargs \u001b[38;5;241m=\u001b[39m {\n\u001b[0;32m    583\u001b[0m     \u001b[38;5;124m\"\u001b[39m\u001b[38;5;124mtimeout\u001b[39m\u001b[38;5;124m\"\u001b[39m: timeout,\n\u001b[0;32m    584\u001b[0m     \u001b[38;5;124m\"\u001b[39m\u001b[38;5;124mallow_redirects\u001b[39m\u001b[38;5;124m\"\u001b[39m: allow_redirects,\n\u001b[0;32m    585\u001b[0m }\n\u001b[0;32m    586\u001b[0m send_kwargs\u001b[38;5;241m.\u001b[39mupdate(settings)\n\u001b[1;32m--> 587\u001b[0m resp \u001b[38;5;241m=\u001b[39m \u001b[38;5;28mself\u001b[39m\u001b[38;5;241m.\u001b[39msend(prep, \u001b[38;5;241m*\u001b[39m\u001b[38;5;241m*\u001b[39msend_kwargs)\n\u001b[0;32m    589\u001b[0m \u001b[38;5;28;01mreturn\u001b[39;00m resp\n",
      "File \u001b[1;32m~\\Documents\\MIT-BIH\\mit-bih-venv\\lib\\site-packages\\requests\\sessions.py:701\u001b[0m, in \u001b[0;36mSession.send\u001b[1;34m(self, request, **kwargs)\u001b[0m\n\u001b[0;32m    698\u001b[0m start \u001b[38;5;241m=\u001b[39m preferred_clock()\n\u001b[0;32m    700\u001b[0m \u001b[38;5;66;03m# Send the request\u001b[39;00m\n\u001b[1;32m--> 701\u001b[0m r \u001b[38;5;241m=\u001b[39m adapter\u001b[38;5;241m.\u001b[39msend(request, \u001b[38;5;241m*\u001b[39m\u001b[38;5;241m*\u001b[39mkwargs)\n\u001b[0;32m    703\u001b[0m \u001b[38;5;66;03m# Total elapsed time of the request (approximately)\u001b[39;00m\n\u001b[0;32m    704\u001b[0m elapsed \u001b[38;5;241m=\u001b[39m preferred_clock() \u001b[38;5;241m-\u001b[39m start\n",
      "File \u001b[1;32m~\\Documents\\MIT-BIH\\mit-bih-venv\\lib\\site-packages\\requests\\adapters.py:489\u001b[0m, in \u001b[0;36mHTTPAdapter.send\u001b[1;34m(self, request, stream, timeout, verify, cert, proxies)\u001b[0m\n\u001b[0;32m    487\u001b[0m \u001b[38;5;28;01mtry\u001b[39;00m:\n\u001b[0;32m    488\u001b[0m     \u001b[38;5;28;01mif\u001b[39;00m \u001b[38;5;129;01mnot\u001b[39;00m chunked:\n\u001b[1;32m--> 489\u001b[0m         resp \u001b[38;5;241m=\u001b[39m \u001b[43mconn\u001b[49m\u001b[38;5;241;43m.\u001b[39;49m\u001b[43murlopen\u001b[49m\u001b[43m(\u001b[49m\n\u001b[0;32m    490\u001b[0m \u001b[43m            \u001b[49m\u001b[43mmethod\u001b[49m\u001b[38;5;241;43m=\u001b[39;49m\u001b[43mrequest\u001b[49m\u001b[38;5;241;43m.\u001b[39;49m\u001b[43mmethod\u001b[49m\u001b[43m,\u001b[49m\n\u001b[0;32m    491\u001b[0m \u001b[43m            \u001b[49m\u001b[43murl\u001b[49m\u001b[38;5;241;43m=\u001b[39;49m\u001b[43murl\u001b[49m\u001b[43m,\u001b[49m\n\u001b[0;32m    492\u001b[0m \u001b[43m            \u001b[49m\u001b[43mbody\u001b[49m\u001b[38;5;241;43m=\u001b[39;49m\u001b[43mrequest\u001b[49m\u001b[38;5;241;43m.\u001b[39;49m\u001b[43mbody\u001b[49m\u001b[43m,\u001b[49m\n\u001b[0;32m    493\u001b[0m \u001b[43m            \u001b[49m\u001b[43mheaders\u001b[49m\u001b[38;5;241;43m=\u001b[39;49m\u001b[43mrequest\u001b[49m\u001b[38;5;241;43m.\u001b[39;49m\u001b[43mheaders\u001b[49m\u001b[43m,\u001b[49m\n\u001b[0;32m    494\u001b[0m \u001b[43m            \u001b[49m\u001b[43mredirect\u001b[49m\u001b[38;5;241;43m=\u001b[39;49m\u001b[38;5;28;43;01mFalse\u001b[39;49;00m\u001b[43m,\u001b[49m\n\u001b[0;32m    495\u001b[0m \u001b[43m            \u001b[49m\u001b[43massert_same_host\u001b[49m\u001b[38;5;241;43m=\u001b[39;49m\u001b[38;5;28;43;01mFalse\u001b[39;49;00m\u001b[43m,\u001b[49m\n\u001b[0;32m    496\u001b[0m \u001b[43m            \u001b[49m\u001b[43mpreload_content\u001b[49m\u001b[38;5;241;43m=\u001b[39;49m\u001b[38;5;28;43;01mFalse\u001b[39;49;00m\u001b[43m,\u001b[49m\n\u001b[0;32m    497\u001b[0m \u001b[43m            \u001b[49m\u001b[43mdecode_content\u001b[49m\u001b[38;5;241;43m=\u001b[39;49m\u001b[38;5;28;43;01mFalse\u001b[39;49;00m\u001b[43m,\u001b[49m\n\u001b[0;32m    498\u001b[0m \u001b[43m            \u001b[49m\u001b[43mretries\u001b[49m\u001b[38;5;241;43m=\u001b[39;49m\u001b[38;5;28;43mself\u001b[39;49m\u001b[38;5;241;43m.\u001b[39;49m\u001b[43mmax_retries\u001b[49m\u001b[43m,\u001b[49m\n\u001b[0;32m    499\u001b[0m \u001b[43m            \u001b[49m\u001b[43mtimeout\u001b[49m\u001b[38;5;241;43m=\u001b[39;49m\u001b[43mtimeout\u001b[49m\u001b[43m,\u001b[49m\n\u001b[0;32m    500\u001b[0m \u001b[43m        \u001b[49m\u001b[43m)\u001b[49m\n\u001b[0;32m    502\u001b[0m     \u001b[38;5;66;03m# Send the request.\u001b[39;00m\n\u001b[0;32m    503\u001b[0m     \u001b[38;5;28;01melse\u001b[39;00m:\n\u001b[0;32m    504\u001b[0m         \u001b[38;5;28;01mif\u001b[39;00m \u001b[38;5;28mhasattr\u001b[39m(conn, \u001b[38;5;124m\"\u001b[39m\u001b[38;5;124mproxy_pool\u001b[39m\u001b[38;5;124m\"\u001b[39m):\n",
      "File \u001b[1;32m~\\Documents\\MIT-BIH\\mit-bih-venv\\lib\\site-packages\\urllib3\\connectionpool.py:703\u001b[0m, in \u001b[0;36mHTTPConnectionPool.urlopen\u001b[1;34m(self, method, url, body, headers, retries, redirect, assert_same_host, timeout, pool_timeout, release_conn, chunked, body_pos, **response_kw)\u001b[0m\n\u001b[0;32m    700\u001b[0m     \u001b[38;5;28mself\u001b[39m\u001b[38;5;241m.\u001b[39m_prepare_proxy(conn)\n\u001b[0;32m    702\u001b[0m \u001b[38;5;66;03m# Make the request on the httplib connection object.\u001b[39;00m\n\u001b[1;32m--> 703\u001b[0m httplib_response \u001b[38;5;241m=\u001b[39m \u001b[38;5;28;43mself\u001b[39;49m\u001b[38;5;241;43m.\u001b[39;49m\u001b[43m_make_request\u001b[49m\u001b[43m(\u001b[49m\n\u001b[0;32m    704\u001b[0m \u001b[43m    \u001b[49m\u001b[43mconn\u001b[49m\u001b[43m,\u001b[49m\n\u001b[0;32m    705\u001b[0m \u001b[43m    \u001b[49m\u001b[43mmethod\u001b[49m\u001b[43m,\u001b[49m\n\u001b[0;32m    706\u001b[0m \u001b[43m    \u001b[49m\u001b[43murl\u001b[49m\u001b[43m,\u001b[49m\n\u001b[0;32m    707\u001b[0m \u001b[43m    \u001b[49m\u001b[43mtimeout\u001b[49m\u001b[38;5;241;43m=\u001b[39;49m\u001b[43mtimeout_obj\u001b[49m\u001b[43m,\u001b[49m\n\u001b[0;32m    708\u001b[0m \u001b[43m    \u001b[49m\u001b[43mbody\u001b[49m\u001b[38;5;241;43m=\u001b[39;49m\u001b[43mbody\u001b[49m\u001b[43m,\u001b[49m\n\u001b[0;32m    709\u001b[0m \u001b[43m    \u001b[49m\u001b[43mheaders\u001b[49m\u001b[38;5;241;43m=\u001b[39;49m\u001b[43mheaders\u001b[49m\u001b[43m,\u001b[49m\n\u001b[0;32m    710\u001b[0m \u001b[43m    \u001b[49m\u001b[43mchunked\u001b[49m\u001b[38;5;241;43m=\u001b[39;49m\u001b[43mchunked\u001b[49m\u001b[43m,\u001b[49m\n\u001b[0;32m    711\u001b[0m \u001b[43m\u001b[49m\u001b[43m)\u001b[49m\n\u001b[0;32m    713\u001b[0m \u001b[38;5;66;03m# If we're going to release the connection in ``finally:``, then\u001b[39;00m\n\u001b[0;32m    714\u001b[0m \u001b[38;5;66;03m# the response doesn't need to know about the connection. Otherwise\u001b[39;00m\n\u001b[0;32m    715\u001b[0m \u001b[38;5;66;03m# it will also try to release it and we'll have a double-release\u001b[39;00m\n\u001b[0;32m    716\u001b[0m \u001b[38;5;66;03m# mess.\u001b[39;00m\n\u001b[0;32m    717\u001b[0m response_conn \u001b[38;5;241m=\u001b[39m conn \u001b[38;5;28;01mif\u001b[39;00m \u001b[38;5;129;01mnot\u001b[39;00m release_conn \u001b[38;5;28;01melse\u001b[39;00m \u001b[38;5;28;01mNone\u001b[39;00m\n",
      "File \u001b[1;32m~\\Documents\\MIT-BIH\\mit-bih-venv\\lib\\site-packages\\urllib3\\connectionpool.py:386\u001b[0m, in \u001b[0;36mHTTPConnectionPool._make_request\u001b[1;34m(self, conn, method, url, timeout, chunked, **httplib_request_kw)\u001b[0m\n\u001b[0;32m    384\u001b[0m \u001b[38;5;66;03m# Trigger any extra validation we need to do.\u001b[39;00m\n\u001b[0;32m    385\u001b[0m \u001b[38;5;28;01mtry\u001b[39;00m:\n\u001b[1;32m--> 386\u001b[0m     \u001b[38;5;28;43mself\u001b[39;49m\u001b[38;5;241;43m.\u001b[39;49m\u001b[43m_validate_conn\u001b[49m\u001b[43m(\u001b[49m\u001b[43mconn\u001b[49m\u001b[43m)\u001b[49m\n\u001b[0;32m    387\u001b[0m \u001b[38;5;28;01mexcept\u001b[39;00m (SocketTimeout, BaseSSLError) \u001b[38;5;28;01mas\u001b[39;00m e:\n\u001b[0;32m    388\u001b[0m     \u001b[38;5;66;03m# Py2 raises this as a BaseSSLError, Py3 raises it as socket timeout.\u001b[39;00m\n\u001b[0;32m    389\u001b[0m     \u001b[38;5;28mself\u001b[39m\u001b[38;5;241m.\u001b[39m_raise_timeout(err\u001b[38;5;241m=\u001b[39me, url\u001b[38;5;241m=\u001b[39murl, timeout_value\u001b[38;5;241m=\u001b[39mconn\u001b[38;5;241m.\u001b[39mtimeout)\n",
      "File \u001b[1;32m~\\Documents\\MIT-BIH\\mit-bih-venv\\lib\\site-packages\\urllib3\\connectionpool.py:1042\u001b[0m, in \u001b[0;36mHTTPSConnectionPool._validate_conn\u001b[1;34m(self, conn)\u001b[0m\n\u001b[0;32m   1040\u001b[0m \u001b[38;5;66;03m# Force connect early to allow us to validate the connection.\u001b[39;00m\n\u001b[0;32m   1041\u001b[0m \u001b[38;5;28;01mif\u001b[39;00m \u001b[38;5;129;01mnot\u001b[39;00m \u001b[38;5;28mgetattr\u001b[39m(conn, \u001b[38;5;124m\"\u001b[39m\u001b[38;5;124msock\u001b[39m\u001b[38;5;124m\"\u001b[39m, \u001b[38;5;28;01mNone\u001b[39;00m):  \u001b[38;5;66;03m# AppEngine might not have  `.sock`\u001b[39;00m\n\u001b[1;32m-> 1042\u001b[0m     \u001b[43mconn\u001b[49m\u001b[38;5;241;43m.\u001b[39;49m\u001b[43mconnect\u001b[49m\u001b[43m(\u001b[49m\u001b[43m)\u001b[49m\n\u001b[0;32m   1044\u001b[0m \u001b[38;5;28;01mif\u001b[39;00m \u001b[38;5;129;01mnot\u001b[39;00m conn\u001b[38;5;241m.\u001b[39mis_verified:\n\u001b[0;32m   1045\u001b[0m     warnings\u001b[38;5;241m.\u001b[39mwarn(\n\u001b[0;32m   1046\u001b[0m         (\n\u001b[0;32m   1047\u001b[0m             \u001b[38;5;124m\"\u001b[39m\u001b[38;5;124mUnverified HTTPS request is being made to host \u001b[39m\u001b[38;5;124m'\u001b[39m\u001b[38;5;132;01m%s\u001b[39;00m\u001b[38;5;124m'\u001b[39m\u001b[38;5;124m. \u001b[39m\u001b[38;5;124m\"\u001b[39m\n\u001b[1;32m   (...)\u001b[0m\n\u001b[0;32m   1052\u001b[0m         InsecureRequestWarning,\n\u001b[0;32m   1053\u001b[0m     )\n",
      "File \u001b[1;32m~\\Documents\\MIT-BIH\\mit-bih-venv\\lib\\site-packages\\urllib3\\connection.py:358\u001b[0m, in \u001b[0;36mHTTPSConnection.connect\u001b[1;34m(self)\u001b[0m\n\u001b[0;32m    356\u001b[0m \u001b[38;5;28;01mdef\u001b[39;00m \u001b[38;5;21mconnect\u001b[39m(\u001b[38;5;28mself\u001b[39m):\n\u001b[0;32m    357\u001b[0m     \u001b[38;5;66;03m# Add certificate verification\u001b[39;00m\n\u001b[1;32m--> 358\u001b[0m     \u001b[38;5;28mself\u001b[39m\u001b[38;5;241m.\u001b[39msock \u001b[38;5;241m=\u001b[39m conn \u001b[38;5;241m=\u001b[39m \u001b[38;5;28;43mself\u001b[39;49m\u001b[38;5;241;43m.\u001b[39;49m\u001b[43m_new_conn\u001b[49m\u001b[43m(\u001b[49m\u001b[43m)\u001b[49m\n\u001b[0;32m    359\u001b[0m     hostname \u001b[38;5;241m=\u001b[39m \u001b[38;5;28mself\u001b[39m\u001b[38;5;241m.\u001b[39mhost\n\u001b[0;32m    360\u001b[0m     tls_in_tls \u001b[38;5;241m=\u001b[39m \u001b[38;5;28;01mFalse\u001b[39;00m\n",
      "File \u001b[1;32m~\\Documents\\MIT-BIH\\mit-bih-venv\\lib\\site-packages\\urllib3\\connection.py:174\u001b[0m, in \u001b[0;36mHTTPConnection._new_conn\u001b[1;34m(self)\u001b[0m\n\u001b[0;32m    171\u001b[0m     extra_kw[\u001b[38;5;124m\"\u001b[39m\u001b[38;5;124msocket_options\u001b[39m\u001b[38;5;124m\"\u001b[39m] \u001b[38;5;241m=\u001b[39m \u001b[38;5;28mself\u001b[39m\u001b[38;5;241m.\u001b[39msocket_options\n\u001b[0;32m    173\u001b[0m \u001b[38;5;28;01mtry\u001b[39;00m:\n\u001b[1;32m--> 174\u001b[0m     conn \u001b[38;5;241m=\u001b[39m connection\u001b[38;5;241m.\u001b[39mcreate_connection(\n\u001b[0;32m    175\u001b[0m         (\u001b[38;5;28mself\u001b[39m\u001b[38;5;241m.\u001b[39m_dns_host, \u001b[38;5;28mself\u001b[39m\u001b[38;5;241m.\u001b[39mport), \u001b[38;5;28mself\u001b[39m\u001b[38;5;241m.\u001b[39mtimeout, \u001b[38;5;241m*\u001b[39m\u001b[38;5;241m*\u001b[39mextra_kw\n\u001b[0;32m    176\u001b[0m     )\n\u001b[0;32m    178\u001b[0m \u001b[38;5;28;01mexcept\u001b[39;00m SocketTimeout:\n\u001b[0;32m    179\u001b[0m     \u001b[38;5;28;01mraise\u001b[39;00m ConnectTimeoutError(\n\u001b[0;32m    180\u001b[0m         \u001b[38;5;28mself\u001b[39m,\n\u001b[0;32m    181\u001b[0m         \u001b[38;5;124m\"\u001b[39m\u001b[38;5;124mConnection to \u001b[39m\u001b[38;5;132;01m%s\u001b[39;00m\u001b[38;5;124m timed out. (connect timeout=\u001b[39m\u001b[38;5;132;01m%s\u001b[39;00m\u001b[38;5;124m)\u001b[39m\u001b[38;5;124m\"\u001b[39m\n\u001b[0;32m    182\u001b[0m         \u001b[38;5;241m%\u001b[39m (\u001b[38;5;28mself\u001b[39m\u001b[38;5;241m.\u001b[39mhost, \u001b[38;5;28mself\u001b[39m\u001b[38;5;241m.\u001b[39mtimeout),\n\u001b[0;32m    183\u001b[0m     )\n",
      "File \u001b[1;32m~\\Documents\\MIT-BIH\\mit-bih-venv\\lib\\site-packages\\urllib3\\util\\connection.py:85\u001b[0m, in \u001b[0;36mcreate_connection\u001b[1;34m(address, timeout, source_address, socket_options)\u001b[0m\n\u001b[0;32m     83\u001b[0m     \u001b[38;5;28;01mif\u001b[39;00m source_address:\n\u001b[0;32m     84\u001b[0m         sock\u001b[38;5;241m.\u001b[39mbind(source_address)\n\u001b[1;32m---> 85\u001b[0m     \u001b[43msock\u001b[49m\u001b[38;5;241;43m.\u001b[39;49m\u001b[43mconnect\u001b[49m\u001b[43m(\u001b[49m\u001b[43msa\u001b[49m\u001b[43m)\u001b[49m\n\u001b[0;32m     86\u001b[0m     \u001b[38;5;28;01mreturn\u001b[39;00m sock\n\u001b[0;32m     88\u001b[0m \u001b[38;5;28;01mexcept\u001b[39;00m socket\u001b[38;5;241m.\u001b[39merror \u001b[38;5;28;01mas\u001b[39;00m e:\n",
      "\u001b[1;31mKeyboardInterrupt\u001b[0m: "
     ]
    }
   ],
   "source": [
    "for _, i in slpdb_ann_01a.iloc[:-1].iterrows():\n",
    "    if _ >= 20:\n",
    "        FS = slpdb_hea_01a.squeeze(axis=0).sampling_freq\n",
    "        from_idx = i.annot_idx\n",
    "        to_idx = i.annot_idx_t\n",
    "\n",
    "        ann = wfdb.rdann(record_name=\"slp01a\", sampfrom=from_idx, sampto=to_idx+FS, extension=\"ecg\", pn_dir=\"slpdb\")\n",
    "        rr_interval = wfdb.processing.calc_rr(ann.sample, fs=FS)\n",
    "        rr_interval = np.insert(rr_interval, 0, ann.sample[0]) if from_idx == 1 else rr_interval\n",
    "            # np.insert() is used to add the first annotation sample (i.e., ann.sample[0]), only when annot_idx = 1\n",
    "        rr_interval = rr_interval # / ann.fs # normalize\n",
    "        print(\"f={}, t={} {}\".format(from_idx, to_idx, rr_interval))\n",
    "\n",
    "        if _ == 25:\n",
    "            break"
   ]
  },
  {
   "cell_type": "code",
   "execution_count": 56,
   "metadata": {},
   "outputs": [
    {
     "data": {
      "text/plain": [
       "0.2577873254564984"
      ]
     },
     "execution_count": 56,
     "metadata": {},
     "output_type": "execute_result"
    }
   ],
   "source": [
    "wfdb.processing.calc_mean_hr(rr=rr_interval, rr_units=\"seconds\")"
   ]
  },
  {
   "cell_type": "code",
   "execution_count": 57,
   "metadata": {},
   "outputs": [
    {
     "data": {
      "text/plain": [
       "array([240, 245, 238, 230, 232, 231, 232, 221, 226, 236, 239, 244, 246,\n",
       "       242, 234, 237, 236, 238, 235, 228, 224, 227, 230, 228, 223, 217,\n",
       "       215, 217, 228, 237, 246, 246], dtype=int64)"
      ]
     },
     "execution_count": 57,
     "metadata": {},
     "output_type": "execute_result"
    }
   ],
   "source": [
    "rr_interval"
   ]
  },
  {
   "cell_type": "markdown",
   "metadata": {},
   "source": [
    "* Normalize data"
   ]
  },
  {
   "cell_type": "code",
   "execution_count": 58,
   "metadata": {},
   "outputs": [],
   "source": [
    "from sklearn.preprocessing import normalize as norm, MinMaxScaler as mms"
   ]
  },
  {
   "cell_type": "code",
   "execution_count": 59,
   "metadata": {},
   "outputs": [
    {
     "data": {
      "text/plain": [
       "array([[0.18215785],\n",
       "       [0.1859528 ],\n",
       "       [0.18063987],\n",
       "       [0.17456794],\n",
       "       [0.17608592],\n",
       "       [0.17532693],\n",
       "       [0.17608592],\n",
       "       [0.16773702],\n",
       "       [0.17153197],\n",
       "       [0.17912188],\n",
       "       [0.18139886],\n",
       "       [0.18519381],\n",
       "       [0.1867118 ],\n",
       "       [0.18367583],\n",
       "       [0.1776039 ],\n",
       "       [0.17988088],\n",
       "       [0.17912188],\n",
       "       [0.18063987],\n",
       "       [0.17836289],\n",
       "       [0.17304996],\n",
       "       [0.17001399],\n",
       "       [0.17229097],\n",
       "       [0.17456794],\n",
       "       [0.17304996],\n",
       "       [0.169255  ],\n",
       "       [0.16470106],\n",
       "       [0.16318307],\n",
       "       [0.16470106],\n",
       "       [0.17304996],\n",
       "       [0.17988088],\n",
       "       [0.1867118 ],\n",
       "       [0.1867118 ]])"
      ]
     },
     "execution_count": 59,
     "metadata": {},
     "output_type": "execute_result"
    }
   ],
   "source": [
    "norm(rr_interval.reshape(-1, 1), axis=0)"
   ]
  },
  {
   "cell_type": "code",
   "execution_count": 60,
   "metadata": {},
   "outputs": [
    {
     "data": {
      "text/plain": [
       "array([[0.80645161],\n",
       "       [0.96774194],\n",
       "       [0.74193548],\n",
       "       [0.48387097],\n",
       "       [0.5483871 ],\n",
       "       [0.51612903],\n",
       "       [0.5483871 ],\n",
       "       [0.19354839],\n",
       "       [0.35483871],\n",
       "       [0.67741935],\n",
       "       [0.77419355],\n",
       "       [0.93548387],\n",
       "       [1.        ],\n",
       "       [0.87096774],\n",
       "       [0.61290323],\n",
       "       [0.70967742],\n",
       "       [0.67741935],\n",
       "       [0.74193548],\n",
       "       [0.64516129],\n",
       "       [0.41935484],\n",
       "       [0.29032258],\n",
       "       [0.38709677],\n",
       "       [0.48387097],\n",
       "       [0.41935484],\n",
       "       [0.25806452],\n",
       "       [0.06451613],\n",
       "       [0.        ],\n",
       "       [0.06451613],\n",
       "       [0.41935484],\n",
       "       [0.70967742],\n",
       "       [1.        ],\n",
       "       [1.        ]])"
      ]
     },
     "execution_count": 60,
     "metadata": {},
     "output_type": "execute_result"
    }
   ],
   "source": [
    "scaler = mms(feature_range=(0, 1))\n",
    "scaler.fit_transform(rr_interval.reshape(-1, 1))"
   ]
  },
  {
   "cell_type": "code",
   "execution_count": null,
   "metadata": {},
   "outputs": [],
   "source": []
  },
  {
   "cell_type": "code",
   "execution_count": null,
   "metadata": {},
   "outputs": [],
   "source": []
  },
  {
   "cell_type": "markdown",
   "metadata": {},
   "source": [
    "### HRV Analysis\n",
    "\n",
    "* Docs: https://aura-healthcare.github.io/hrv-analysis/hrvanalysis.html"
   ]
  },
  {
   "cell_type": "code",
   "execution_count": 61,
   "metadata": {},
   "outputs": [],
   "source": [
    "import hrvanalysis as hrva"
   ]
  },
  {
   "cell_type": "code",
   "execution_count": 62,
   "metadata": {},
   "outputs": [
    {
     "data": {
      "text/plain": [
       "(32,)"
      ]
     },
     "execution_count": 62,
     "metadata": {},
     "output_type": "execute_result"
    }
   ],
   "source": [
    "rr_interval.shape"
   ]
  },
  {
   "cell_type": "code",
   "execution_count": 63,
   "metadata": {},
   "outputs": [
    {
     "data": {
      "text/plain": [
       "array([240, 245, 238, 230, 232, 231, 232, 221, 226, 236, 239, 244, 246,\n",
       "       242, 234, 237, 236, 238, 235, 228, 224, 227, 230, 228, 223, 217,\n",
       "       215, 217, 228, 237, 246, 246], dtype=int64)"
      ]
     },
     "execution_count": 63,
     "metadata": {},
     "output_type": "execute_result"
    }
   ],
   "source": [
    "rr_interval"
   ]
  },
  {
   "cell_type": "code",
   "execution_count": 64,
   "metadata": {
    "scrolled": true,
    "tags": []
   },
   "outputs": [
    {
     "name": "stdout",
     "output_type": "stream",
     "text": [
      "32 outlier(s) have been deleted.\n",
      "The outlier(s) value(s) are : [240, 245, 238, 230, 232, 231, 232, 221, 226, 236, 239, 244, 246, 242, 234, 237, 236, 238, 235, 228, 224, 227, 230, 228, 223, 217, 215, 217, 228, 237, 246, 246]\n"
     ]
    }
   ],
   "source": [
    "# This remove outliers from signal\n",
    "rr_intervals_without_outliers = hrva.remove_outliers(rr_intervals=rr_interval, low_rri=0, high_rri=1)"
   ]
  },
  {
   "cell_type": "code",
   "execution_count": 65,
   "metadata": {
    "scrolled": true,
    "tags": []
   },
   "outputs": [
    {
     "data": {
      "text/plain": [
       "[nan,\n",
       " nan,\n",
       " nan,\n",
       " nan,\n",
       " nan,\n",
       " nan,\n",
       " nan,\n",
       " nan,\n",
       " nan,\n",
       " nan,\n",
       " nan,\n",
       " nan,\n",
       " nan,\n",
       " nan,\n",
       " nan,\n",
       " nan,\n",
       " nan,\n",
       " nan,\n",
       " nan,\n",
       " nan,\n",
       " nan,\n",
       " nan,\n",
       " nan,\n",
       " nan,\n",
       " nan,\n",
       " nan,\n",
       " nan,\n",
       " nan,\n",
       " nan,\n",
       " nan,\n",
       " nan,\n",
       " nan]"
      ]
     },
     "execution_count": 65,
     "metadata": {},
     "output_type": "execute_result"
    }
   ],
   "source": [
    "# This replace outliers nan values with linear interpolation\n",
    "interpolated_rr_intervals = hrva.interpolate_nan_values(rr_intervals=rr_intervals_without_outliers, interpolation_method=\"linear\")\n",
    "interpolated_rr_intervals"
   ]
  },
  {
   "cell_type": "code",
   "execution_count": 66,
   "metadata": {},
   "outputs": [
    {
     "name": "stdout",
     "output_type": "stream",
     "text": [
      "0 ectopic beat(s) have been deleted with malik rule.\n"
     ]
    }
   ],
   "source": [
    "# This remove ectopic beats from signal\n",
    "nn_intervals_list = hrva.remove_ectopic_beats(rr_intervals=rr_interval, method=\"malik\")"
   ]
  },
  {
   "cell_type": "code",
   "execution_count": 67,
   "metadata": {
    "scrolled": true,
    "tags": []
   },
   "outputs": [
    {
     "data": {
      "text/plain": [
       "[240,\n",
       " 245,\n",
       " 238,\n",
       " 230,\n",
       " 232,\n",
       " 231,\n",
       " 232,\n",
       " 221,\n",
       " 226,\n",
       " 236,\n",
       " 239,\n",
       " 244,\n",
       " 246,\n",
       " 242,\n",
       " 234,\n",
       " 237,\n",
       " 236,\n",
       " 238,\n",
       " 235,\n",
       " 228,\n",
       " 224,\n",
       " 227,\n",
       " 230,\n",
       " 228,\n",
       " 223,\n",
       " 217,\n",
       " 215,\n",
       " 217,\n",
       " 228,\n",
       " 237,\n",
       " 246,\n",
       " 246]"
      ]
     },
     "execution_count": 67,
     "metadata": {},
     "output_type": "execute_result"
    }
   ],
   "source": [
    "# This replace ectopic beats nan values with linear interpolation\n",
    "interpolated_nn_intervals = hrva.interpolate_nan_values(rr_intervals=nn_intervals_list, interpolation_method=\"linear\")\n",
    "interpolated_nn_intervals"
   ]
  },
  {
   "cell_type": "code",
   "execution_count": 69,
   "metadata": {},
   "outputs": [
    {
     "data": {
      "text/plain": [
       "{'mean_nni': 232.75,\n",
       " 'sdnn': 8.773126121029144,\n",
       " 'sdsd': 5.590425887398688,\n",
       " 'nni_50': 0,\n",
       " 'pnni_50': 0.0,\n",
       " 'nni_20': 0,\n",
       " 'pnni_20': 0.0,\n",
       " 'rmssd': 5.59377534234663,\n",
       " 'median_nni': 233.0,\n",
       " 'range_nni': 31,\n",
       " 'cvsd': 0.024033406411800774,\n",
       " 'cvnni': 0.03769334531054412,\n",
       " 'mean_hr': 258.1466803697317,\n",
       " 'max_hr': 279.06976744186045,\n",
       " 'min_hr': 243.90243902439025,\n",
       " 'std_hr': 9.694497057940396}"
      ]
     },
     "execution_count": 69,
     "metadata": {},
     "output_type": "execute_result"
    }
   ],
   "source": [
    "hrva.get_time_domain_features(interpolated_nn_intervals)"
   ]
  },
  {
   "cell_type": "code",
   "execution_count": 70,
   "metadata": {},
   "outputs": [
    {
     "name": "stderr",
     "output_type": "stream",
     "text": [
      "C:\\Users\\Nicholas Dominic\\Documents\\MIT-BIH\\mit-bih-venv\\lib\\site-packages\\scipy\\signal\\_spectral_py.py:1999: UserWarning: nperseg = 256 is greater than input length  = 29, using nperseg = 29\n",
      "  warnings.warn('nperseg = {0:d} is greater than input length '\n"
     ]
    },
    {
     "data": {
      "text/plain": [
       "{'lf': 9.196429926761514,\n",
       " 'hf': 25.744149035402057,\n",
       " 'lf_hf_ratio': 0.3572240789204198,\n",
       " 'lfnu': 26.320199034824633,\n",
       " 'hfnu': 73.67980096517537,\n",
       " 'total_power': 35.311462792643184,\n",
       " 'vlf': 0.3708838304796176}"
      ]
     },
     "execution_count": 70,
     "metadata": {},
     "output_type": "execute_result"
    }
   ],
   "source": [
    "hrva.get_frequency_domain_features(interpolated_nn_intervals)"
   ]
  },
  {
   "cell_type": "code",
   "execution_count": 71,
   "metadata": {},
   "outputs": [
    {
     "data": {
      "text/plain": [
       "{'sd1': 4.0183717881695555,\n",
       " 'sd2': 11.738320665368226,\n",
       " 'ratio_sd2_sd1': 2.921163417463483}"
      ]
     },
     "execution_count": 71,
     "metadata": {},
     "output_type": "execute_result"
    }
   ],
   "source": [
    "hrva.get_poincare_plot_features(interpolated_nn_intervals)"
   ]
  },
  {
   "cell_type": "code",
   "execution_count": 72,
   "metadata": {},
   "outputs": [
    {
     "data": {
      "text/plain": [
       "{'csi': 2.921163417463483,\n",
       " 'cvi': 2.87777606808117,\n",
       " 'Modified_csi': 137.1582116405171}"
      ]
     },
     "execution_count": 72,
     "metadata": {},
     "output_type": "execute_result"
    }
   ],
   "source": [
    "hrva.get_csi_cvi_features(interpolated_nn_intervals)"
   ]
  },
  {
   "cell_type": "code",
   "execution_count": 73,
   "metadata": {},
   "outputs": [
    {
     "data": {
      "text/plain": [
       "{'sampen': inf}"
      ]
     },
     "execution_count": 73,
     "metadata": {},
     "output_type": "execute_result"
    }
   ],
   "source": [
    "hrva.get_sampen(interpolated_nn_intervals) # sample entropy"
   ]
  },
  {
   "cell_type": "code",
   "execution_count": 74,
   "metadata": {},
   "outputs": [
    {
     "name": "stderr",
     "output_type": "stream",
     "text": [
      "C:\\Users\\Nicholas Dominic\\Documents\\MIT-BIH\\mit-bih-venv\\lib\\site-packages\\hrvanalysis\\extract_features.py:187: RuntimeWarning: divide by zero encountered in longlong_scalars\n",
      "  triang_idx = len(nn_intervals) / max(np.histogram(nn_intervals, bins=range(300, 2000, 8))[0])\n"
     ]
    },
    {
     "data": {
      "text/plain": [
       "{'triangular_index': inf, 'tinn': None}"
      ]
     },
     "execution_count": 74,
     "metadata": {},
     "output_type": "execute_result"
    }
   ],
   "source": [
    "hrva.get_geometrical_features(interpolated_nn_intervals)"
   ]
  },
  {
   "cell_type": "code",
   "execution_count": null,
   "metadata": {},
   "outputs": [],
   "source": []
  },
  {
   "cell_type": "code",
   "execution_count": null,
   "metadata": {},
   "outputs": [],
   "source": []
  },
  {
   "cell_type": "code",
   "execution_count": null,
   "metadata": {},
   "outputs": [],
   "source": []
  },
  {
   "cell_type": "code",
   "execution_count": null,
   "metadata": {},
   "outputs": [],
   "source": []
  },
  {
   "cell_type": "code",
   "execution_count": null,
   "metadata": {},
   "outputs": [],
   "source": []
  },
  {
   "cell_type": "code",
   "execution_count": null,
   "metadata": {},
   "outputs": [],
   "source": []
  },
  {
   "cell_type": "code",
   "execution_count": null,
   "metadata": {},
   "outputs": [],
   "source": []
  },
  {
   "cell_type": "code",
   "execution_count": null,
   "metadata": {},
   "outputs": [],
   "source": []
  },
  {
   "cell_type": "code",
   "execution_count": null,
   "metadata": {},
   "outputs": [],
   "source": [
    "# Demo 1 - Read a WFDB record using the 'rdrecord' function into a wfdb.Record object.\n",
    "# Plot the signals, and show the data.\n",
    "record = wfdb.rdrecord('sample-data/slp01a') \n",
    "wfdb.plot_wfdb(record=record, title='Record a103l from PhysioNet Challenge 2015') \n",
    "display(record.__dict__)\n",
    "\n",
    "# Can also read the same files hosted on PhysioNet https://physionet.org/content/challenge-2015/1.0.0\n",
    "# in the /training/ database subdirectory.\n",
    "# record2 = wfdb.rdrecord('a103l', pn_dir='challenge-2015/training/')"
   ]
  },
  {
   "cell_type": "code",
   "execution_count": null,
   "metadata": {},
   "outputs": [],
   "source": [
    "# Demo 2 - Read certain channels and sections of the WFDB record using the simplified 'rdsamp' function\n",
    "# which returns a numpy array and a dictionary. Show the data.\n",
    "signals, fields = wfdb.rdsamp('sample-data/slp01a', channels=[14, 0, 5, 10], sampfrom=100, sampto=15000)\n",
    "display(signals)\n",
    "display(fields)\n",
    "\n",
    "# Can also read the same files hosted on Physionet\n",
    "# signals2, fields2 = wfdb.rdsamp('s0010_re', channels=[14, 0, 5, 10], sampfrom=100, sampto=15000, pn_dir='ptbdb/patient001/')"
   ]
  },
  {
   "cell_type": "code",
   "execution_count": null,
   "metadata": {},
   "outputs": [],
   "source": [
    "# Demo 3 - Read a WFDB header file only (without the signals)\n",
    "# record = wfdb.rdheader('sample-data/slp01a')\n",
    "# display(record.__dict__)\n",
    "\n",
    "# Can also read the same file hosted on Physionet\n",
    "record2 = wfdb.rdheader('100', pn_dir='mitdb')"
   ]
  },
  {
   "cell_type": "code",
   "execution_count": null,
   "metadata": {},
   "outputs": [],
   "source": [
    "record2.__dict__"
   ]
  },
  {
   "cell_type": "code",
   "execution_count": null,
   "metadata": {},
   "outputs": [],
   "source": [
    "# Demo 4 - Read part of a WFDB annotation file into a wfdb.Annotation object, and plot the samples\n",
    "annotation = wfdb.rdann('sample-data/100', 'atr', sampfrom=100000, sampto=110000)\n",
    "annotation.fs = 360\n",
    "wfdb.plot_wfdb(annotation=annotation, time_units='minutes')\n",
    "\n",
    "# Can also read the same file hosted on PhysioNet \n",
    "annotation2 = wfdb.rdann('100', 'atr', sampfrom=100000, sampto=110000, pn_dir='mitdb')"
   ]
  },
  {
   "cell_type": "code",
   "execution_count": null,
   "metadata": {},
   "outputs": [],
   "source": [
    "# Demo 5 - Read a WFDB record and annotation. Plot all channels, and the annotation on top of channel 0.\n",
    "record = wfdb.rdrecord('sample-data/100', sampto = 15000)\n",
    "annotation = wfdb.rdann('sample-data/100', 'atr', sampto = 15000)\n",
    "\n",
    "wfdb.plot_wfdb(record=record, annotation=annotation,\n",
    "               title='Record 100 from MIT-BIH Arrhythmia Database',\n",
    "               time_units='seconds')"
   ]
  },
  {
   "cell_type": "markdown",
   "metadata": {},
   "source": [
    "### Multiple sample/frame examples\n",
    "\n",
    "Although there can only be one base sampling frequency per record, a single WFDB record can store multiple channels with different sampling frequencies, as long as their sampling frequencies can all be expressed by an integer multiple of a base value. This is done by using the `samps_per_frame` attribute in each channel, which indicates the number of samples of each channel present in each frame.\n",
    "\n",
    "ie: To capture three signals with sampling frequencies of 120, 240, and 360 Hz, in a single record, they can be combined into a record with `fs=120` and `samps_per_frame = [1, 2, 3]`.\n",
    "\n",
    "#### Reading Options\n",
    "\n",
    "This package allows signals in records with multiple samples/frame to be read in two ways:\n",
    "1. smoothed - An uniform mxn numpy is returned as the d_signal or p_signal field. Channels with multiple samples/frame have their values averaged within each frame. This is like the behaviour of the `rdsamp` function of the original WFDB c package. Note that `wfdb.plot_record` only works if the record object has the `p_signals` field.\n",
    "2. expanded - A list of 1d numpy arrays is returned as the e_d_signal or e_p_signal field. All samples for each channel are returned in its respective numpy array. The arrays may have different lengths depending on their `samps_per_frame` values.\n",
    "\n",
    "Set the `smooth_frames` *(default=True)* option in `rdrecord` to return the desired signal type."
   ]
  },
  {
   "cell_type": "markdown",
   "metadata": {},
   "source": [
    "### Multisegment waveform examples\n",
    "\n",
    "The following sections load and plots waveforms from the MIMIC matched waveform database. These waveforms have been matched to clinical data in the MIMIC Clinical database. The input records are multi-segment (made up of multiple individual WFDB records) and relatively long.\n",
    "\n",
    "Note that these kinds of records contain segments in which certain channels are missing. <strong>matplotlib</strong> automatically zooms in on sections without Nans in individual channels but the entire durations of the signals input into <strong>plotrec</strong> are actually plotted. \n",
    "\n"
   ]
  },
  {
   "cell_type": "code",
   "execution_count": null,
   "metadata": {},
   "outputs": [],
   "source": [
    "# Demo 6 - Read the multi-segment record and plot waveforms from the MIMIC matched waveform database. \n",
    "record = wfdb.rdrecord('sample-data/multi-segment/p000878/3269321_0001')\n",
    "wfdb.plot_wfdb(record=record, title='Record p000878/3269321_0001') \n",
    "display(record.__dict__)\n",
    "\n",
    "# Can also read the same files hosted on PhysioNet (takes long to stream the many large files)\n",
    "signals, fields = wfdb.rdsamp('3269321_0001', pn_dir = 'mimic3wdb/matched/p00/p000878')\n",
    "wfdb.plot_items(signal=signals, fs=fields['fs'], title='Record p000878/3269321_0001')\n",
    "display((signals, fields))"
   ]
  },
  {
   "cell_type": "code",
   "execution_count": null,
   "metadata": {
    "scrolled": true,
    "tags": []
   },
   "outputs": [],
   "source": [
    "# Demo 7 - Read the multi-segment record and plot waveforms from the MIMIC matched waveform database.\n",
    "# Notice that some channels have no valid values to plot\n",
    "record = wfdb.rdrecord('sample-data/multi-segment/p000878/3269321_0001',\n",
    "                       sampfrom=300, sampto=1000)\n",
    "wfdb.plot_wfdb(record, title='Record p000878/3269321_0001') \n",
    "display(record.__dict__)\n",
    "\n",
    "# Can also read the same files hosted on Physionet\n",
    "record2 = wfdb.rdrecord('3269321_0001', sampfrom=300, sampto=1000,\n",
    "                        pn_dir = 'mimic3wdb/matched/p00/p000878')"
   ]
  },
  {
   "cell_type": "code",
   "execution_count": null,
   "metadata": {},
   "outputs": [],
   "source": [
    "# Demo 8 - Read a WFDB record in which one channel has multiple samples/frame. Return a smoothed uniform array.\n",
    "record = wfdb.rdrecord('sample-data/test01_00s_frame')\n",
    "wfdb.plot_wfdb(record)"
   ]
  },
  {
   "cell_type": "code",
   "execution_count": null,
   "metadata": {},
   "outputs": [],
   "source": [
    "from IPython.display import display\n",
    "import matplotlib.pyplot as plt\n",
    "%matplotlib inline\n",
    "import numpy as np\n",
    "import os\n",
    "import shutil\n",
    "import posixpath\n",
    "\n",
    "import wfdb"
   ]
  },
  {
   "cell_type": "code",
   "execution_count": null,
   "metadata": {},
   "outputs": [],
   "source": [
    "# Demo 9 - Read a WFDB record in which one channel has multiple samples/frame. Return a list of all the expanded samples.\n",
    "record = wfdb.rdrecord('sample-data/test01_00s_frame', smooth_frames=False)\n",
    "\n",
    "display(record.e_p_signal)\n",
    "# Show that different channels have different lengths. Channel 1 has 2 samples/frame, hence has 2x as many samples.\n",
    "print([len(s) for s in record.e_p_signal])\n",
    "\n",
    "# wfdb.plotrec doesn't work because the Record object is missing its p_signals field."
   ]
  },
  {
   "cell_type": "markdown",
   "metadata": {},
   "source": [
    "## Writing Records and Annotations"
   ]
  },
  {
   "cell_type": "code",
   "execution_count": null,
   "metadata": {},
   "outputs": [],
   "source": []
  },
  {
   "cell_type": "code",
   "execution_count": null,
   "metadata": {},
   "outputs": [],
   "source": [
    "# Demo 10 - Read a WFDB record's digital samples and create a copy via the wrsamp() instance method of the Record object.\n",
    "\n",
    "# Read a record as a Record object.\n",
    "record = wfdb.rdrecord('sample-data/100', physical=False)\n",
    "record.record_name = '100x'\n",
    "\n",
    "# Call the instance method of the object\n",
    "record.wrsamp()\n",
    "\n",
    "# The new file can be read\n",
    "record_x = wfdb.rdrecord('100x')\n",
    "\n",
    "# Cleanup: delete the created files\n",
    "# os.remove('100x.hea')\n",
    "# os.remove('100.dat')"
   ]
  },
  {
   "cell_type": "code",
   "execution_count": null,
   "metadata": {},
   "outputs": [],
   "source": [
    "# Demo 11 - Write a WFDB record without using a Record object via the gateway wrsamp function.\n",
    "# This is the basic way to write physical signals to a WFDB file. \n",
    "\n",
    "# Read part of a record from Physionet\n",
    "sig, fields = wfdb.rdsamp('a103l', sampfrom=50000, channels=[0,1], pn_dir='challenge-2015/training')\n",
    "\n",
    "# Call the gateway wrsamp function, manually inserting fields as function input parameters\n",
    "wfdb.wrsamp('ecg-record', fs=250, units=['mV', 'mV'], sig_name=['I', 'II'], p_signal=sig, fmt=['16', '16'])\n",
    "\n",
    "# The new file can be read\n",
    "record = wfdb.rdrecord('ecg-record')\n",
    "\n",
    "# Cleanup: delete the created files\n",
    "# os.remove('ecg-record.hea')\n",
    "# os.remove('ecg-record.dat')"
   ]
  },
  {
   "cell_type": "code",
   "execution_count": null,
   "metadata": {},
   "outputs": [],
   "source": [
    "wfdb.plot_wfdb(record)"
   ]
  },
  {
   "cell_type": "code",
   "execution_count": null,
   "metadata": {},
   "outputs": [],
   "source": [
    "from IPython.display import display\n",
    "import matplotlib.pyplot as plt\n",
    "%matplotlib inline\n",
    "import numpy as np\n",
    "import os\n",
    "import shutil\n",
    "import posixpath\n",
    "\n",
    "\n",
    "import wfdb"
   ]
  },
  {
   "cell_type": "code",
   "execution_count": null,
   "metadata": {},
   "outputs": [],
   "source": [
    "# Demo 12 - Write a WFDB record with multiple samples/frame in a channel\n",
    "\n",
    "# Read a record as a Record object.\n",
    "record = wfdb.rdrecord('sample-data/test01_00s_frame', physical=False, smooth_frames=False)\n",
    "record.record_name = 'test01_00s_framex'\n",
    "\n",
    "# Call the instance method of the object with expanded=True to write the record using the e_d_signal field\n",
    "record.wrsamp(expanded=True)\n",
    "\n",
    "# The new file can be read\n",
    "recordx = wfdb.rdrecord('test01_00s_framex')\n",
    "\n",
    "# Cleanup: deleted the created files\n",
    "# os.remove('test01_00s_framex.hea')\n",
    "# os.remove('test01_00s.dat')"
   ]
  },
  {
   "cell_type": "code",
   "execution_count": null,
   "metadata": {},
   "outputs": [],
   "source": [
    "# Demo 13 - Read a WFDB annotation file and create a copy via the wrann() instance method\n",
    "# of the Annotation object\n",
    "\n",
    "# Read an annotation from Physionet\n",
    "annotation = wfdb.rdann('sample-data/100', 'atr')\n",
    "annotation.extension = 'cpy'\n",
    "\n",
    "# Call the instance method of the object\n",
    "annotation.wrann()\n",
    "\n",
    "# The new file can be read\n",
    "annotation_copy = wfdb.rdann('100', 'cpy')\n",
    "\n",
    "# Cleanup: deleted the created files\n",
    "# os.remove('100.cpy')"
   ]
  },
  {
   "cell_type": "code",
   "execution_count": null,
   "metadata": {},
   "outputs": [],
   "source": [
    "# Demo 14 - Write a WFDB annotation file without using an Annotator\n",
    "# object via the gateway wrann function.\n",
    "\n",
    "# Read an annotation as an Annotation object\n",
    "annotation = wfdb.rdann('b001', 'atr', pn_dir='cebsdb')\n",
    "\n",
    "# Call the gateway wrann function, manually inserting fields as function input parameters\n",
    "wfdb.wrann('b001', 'cpy', annotation.sample, annotation.symbol)\n",
    "\n",
    "# The new file can be read\n",
    "annotation_copy = wfdb.rdann('b001', 'cpy')\n",
    "\n",
    "# Cleanup: deleted the created files\n",
    "# os.remove('b001.cpy')"
   ]
  },
  {
   "cell_type": "code",
   "execution_count": null,
   "metadata": {},
   "outputs": [],
   "source": [
    "# Demo 15 - View the standard WFDB annotation labels\n",
    "wfdb.show_ann_labels()"
   ]
  },
  {
   "cell_type": "markdown",
   "metadata": {},
   "source": [
    "## Downloading Content from Physionet\n",
    "\n",
    "- The downloads are made via http\n",
    "- See the above demos for examples on streaming WFDB files stored in PhysioNet without downloading them to local disk\n",
    "- PhysioNet has rsync modules for downloading entire databases for users who have access to rsync.  "
   ]
  },
  {
   "cell_type": "code",
   "execution_count": null,
   "metadata": {},
   "outputs": [],
   "source": [
    "# Demo 16 - List the PhysioNet Databases\n",
    "\n",
    "dbs = wfdb.get_dbs()\n",
    "display(dbs)"
   ]
  },
  {
   "cell_type": "code",
   "execution_count": null,
   "metadata": {},
   "outputs": [],
   "source": []
  },
  {
   "cell_type": "code",
   "execution_count": null,
   "metadata": {},
   "outputs": [],
   "source": [
    "# Demo 17 - Download all the WFDB records and annotations from a small PhysioNet Database\n",
    "\n",
    "# Make a temporary download directory in your current working directory\n",
    "cwd = os.getcwd()\n",
    "dl_dir = os.path.join(cwd, 'tmp_dl_dir')\n",
    "\n",
    "# Download all the WFDB content\n",
    "wfdb.dl_database('ahadb', dl_dir=dl_dir)\n",
    "\n",
    "# Display the downloaded content in the folder\n",
    "display(os.listdir(dl_dir))\n",
    "\n",
    "# Cleanup: delete the downloaded directory\n",
    "# shutil.rmtree(dl_dir)"
   ]
  },
  {
   "cell_type": "code",
   "execution_count": null,
   "metadata": {},
   "outputs": [],
   "source": [
    "# Demo 18 - Download specified files from a PhysioNet database\n",
    "\n",
    "# The files to download\n",
    "file_list = ['STAFF-Studies-bibliography-2016.pdf',\n",
    "             'data/001a.hea',\n",
    "             'data/001a.dat',\n",
    "             'data/001b.hea',\n",
    "             'data/001b.dat']\n",
    "\n",
    "# Make a temporary download directory in your current working directory\n",
    "cwd = os.getcwd()\n",
    "dl_dir = os.path.join(cwd, 'tmp_dl_dir')\n",
    "\n",
    "# Download the listed files\n",
    "wfdb.dl_files('staffiii', dl_dir, file_list)\n",
    "\n",
    "# Display the downloaded content in the folder\n",
    "display(os.listdir(dl_dir))\n",
    "display(os.listdir(os.path.join(dl_dir, 'data')))\n",
    "\n",
    "# Cleanup: delete the downloaded directory\n",
    "# shutil.rmtree(dl_dir)"
   ]
  },
  {
   "cell_type": "markdown",
   "metadata": {},
   "source": [
    "## ECG Processing"
   ]
  },
  {
   "cell_type": "code",
   "execution_count": null,
   "metadata": {},
   "outputs": [],
   "source": [
    "import wfdb\n",
    "from wfdb import processing"
   ]
  },
  {
   "cell_type": "code",
   "execution_count": null,
   "metadata": {},
   "outputs": [],
   "source": [
    "# Demo 19 - Use the GQRS detection algorithm and correct the peaks\n",
    "\n",
    "def peaks_hr(sig, peak_inds, fs, title, figsize=(20, 10), saveto=None):\n",
    "    \"Plot a signal with its peaks and heart rate\"\n",
    "    # Calculate heart rate\n",
    "    hrs = processing.hr.compute_hr(sig_len=sig.shape[0], qrs_inds=peak_inds, fs=fs)\n",
    "    \n",
    "    N = sig.shape[0]\n",
    "    \n",
    "    fig, ax_left = plt.subplots(figsize=figsize)\n",
    "    ax_right = ax_left.twinx()\n",
    "    \n",
    "    ax_left.plot(sig, color='#3979f0', label='Signal')\n",
    "    ax_left.plot(peak_inds, sig[peak_inds], 'rx', marker='x', \n",
    "                 color='#8b0000', label='Peak', markersize=12)\n",
    "    ax_right.plot(np.arange(N), hrs, label='Heart rate', color='m', linewidth=2)\n",
    "\n",
    "    ax_left.set_title(title)\n",
    "\n",
    "    ax_left.set_xlabel('Time (ms)')\n",
    "    ax_left.set_ylabel('ECG (mV)', color='#3979f0')\n",
    "    ax_right.set_ylabel('Heart rate (bpm)', color='m')\n",
    "    # Make the y-axis label, ticks and tick labels match the line color.\n",
    "    ax_left.tick_params('y', colors='#3979f0')\n",
    "    ax_right.tick_params('y', colors='m')\n",
    "    if saveto is not None:\n",
    "        plt.savefig(saveto, dpi=600)\n",
    "    plt.show()\n",
    "\n",
    "# Load the WFDB record and the physical samples\n",
    "record = wfdb.rdrecord('sample-data/100', sampfrom=0, sampto=10000, channels=[0])\n",
    "\n",
    "# Use the GQRS algorithm to detect QRS locations in the first channel\n",
    "qrs_inds = processing.qrs.gqrs_detect(sig=record.p_signal[:,0], fs=record.fs)\n",
    "\n",
    "# Plot results\n",
    "peaks_hr(sig=record.p_signal, peak_inds=qrs_inds, fs=record.fs,\n",
    "         title=\"GQRS peak detection on record 100\")\n",
    "    \n",
    "# Correct the peaks shifting them to local maxima\n",
    "min_bpm = 20\n",
    "max_bpm = 230\n",
    "#min_gap = record.fs * 60 / min_bpm\n",
    "# Use the maximum possible bpm as the search radius\n",
    "search_radius = int(record.fs * 60 / max_bpm)\n",
    "corrected_peak_inds = processing.peaks.correct_peaks(record.p_signal[:,0], \n",
    "                                                     peak_inds=qrs_inds,\n",
    "                                                     search_radius=search_radius, \n",
    "                                                     smooth_window_size=150)\n",
    "\n",
    "# Display results\n",
    "print('Corrected GQRS detected peak indices:', sorted(corrected_peak_inds))\n",
    "peaks_hr(sig=record.p_signal, peak_inds=sorted(corrected_peak_inds), fs=record.fs,\n",
    "         title=\"Corrected GQRS peak detection on sampledata/100\")\n",
    "    "
   ]
  },
  {
   "cell_type": "code",
   "execution_count": null,
   "metadata": {},
   "outputs": [],
   "source": [
    "# Demo 20 - Use the XQRS detection algorithm and compare results to reference annotations\n",
    "import wfdb\n",
    "from wfdb import processing\n",
    "sig, fields = wfdb.rdsamp('sample-data/100', channels=[0], sampto=15000)\n",
    "ann_ref = wfdb.rdann('sample-data/100','atr', sampto=15000)\n",
    "\n",
    "# Run QRS detection on signal\n",
    "xqrs = processing.XQRS(sig=sig[:,0], fs=fields['fs'])\n",
    "xqrs.detect()\n",
    "# Alternatively, use the gateway function to get the QRS indices directly\n",
    "# qrs_inds = processing.xqrs_detect(sig=sig[:,0], fs=fields['fs'])\n",
    "\n",
    "# Compare detected QRS complexes to reference annotation.\n",
    "# Note, first sample in 100.atr is not a QRS.\n",
    "comparitor = processing.compare_annotations(ref_sample=ann_ref.sample[1:],\n",
    "                                            test_sample=xqrs.qrs_inds,\n",
    "                                            window_width=int(0.1 * fields['fs']),\n",
    "                                            signal=sig[:,0])\n",
    "\n",
    "# Print and plot the results\n",
    "comparitor.print_summary()\n",
    "comparitor.plot(title='xqrs detected QRS vs reference annotations')"
   ]
  },
  {
   "cell_type": "code",
   "execution_count": null,
   "metadata": {},
   "outputs": [],
   "source": [
    "# Demo 21 - Convert records to dataframes\n",
    "import wfdb\n",
    "record = wfdb.rdrecord('sample-data/100', sampto=2000)\n",
    "df = record.to_dataframe()\n",
    "df.plot();"
   ]
  },
  {
   "cell_type": "code",
   "execution_count": null,
   "metadata": {
    "pycharm": {
     "name": "#%%\n"
    }
   },
   "outputs": [],
   "source": [
    "# Cleanup for all demos\n",
    "for file in ['100x.hea', '100.dat',  # demo 10\n",
    "             'ecg-record.hea', 'ecg-record.dat',  # demo 11 \n",
    "             'test01_00s_framex.hea', 'test01_00s.dat',  # demo 12\n",
    "             '100.cpy',  # demo 13\n",
    "             'b001.cpy',  # demo 14\n",
    "            ]:\n",
    "    if os.path.isfile(file):\n",
    "        os.remove(file)\n",
    "\n",
    "dl_dir = os.path.join(cwd, 'tmp_dl_dir')  # demo 17, 18\n",
    "if os.path.isdir(dl_dir):\n",
    "    shutil.rmtree(dl_dir)"
   ]
  },
  {
   "cell_type": "code",
   "execution_count": null,
   "metadata": {},
   "outputs": [],
   "source": [
    "import wfdb\n",
    "record_no_skew = wfdb.rdrecord('sample-data/test01_00s_skewframe',\n",
    "                               physical=False,\n",
    "                               smooth_frames=False, ignore_skew=True)\n",
    "record_no_skew.wrsamp(expanded=True)"
   ]
  },
  {
   "cell_type": "code",
   "execution_count": null,
   "metadata": {},
   "outputs": [],
   "source": [
    "import numpy as np\n",
    "int_types = (int, np.int64, np.int32, np.int16, np.int8)\n",
    "\n",
    "int_types[0]('10')"
   ]
  }
 ],
 "metadata": {
  "kernelspec": {
   "display_name": "mit-bih-venv",
   "language": "python",
   "name": "mit-bih-venv"
  },
  "language_info": {
   "codemirror_mode": {
    "name": "ipython",
    "version": 3
   },
   "file_extension": ".py",
   "mimetype": "text/x-python",
   "name": "python",
   "nbconvert_exporter": "python",
   "pygments_lexer": "ipython3",
   "version": "3.9.12"
  }
 },
 "nbformat": 4,
 "nbformat_minor": 4
}
